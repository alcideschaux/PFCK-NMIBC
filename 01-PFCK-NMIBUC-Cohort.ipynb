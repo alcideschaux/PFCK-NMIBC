{
 "cells": [
  {
   "cell_type": "markdown",
   "metadata": {},
   "source": [
    "# Cohort features"
   ]
  },
  {
   "cell_type": "code",
   "execution_count": 1,
   "metadata": {},
   "outputs": [
    {
     "name": "stdout",
     "output_type": "stream",
     "text": [
      "Observations: 461\n",
      "Variables: 53\n",
      "$ patient_id            <int> 1, 1, 1, 1, 1, 1, 1, 2, 2, 2, 3, 3, 3, 3, 3, 3,…\n",
      "$ registry_id           <dbl> 19870070301, 19870070301, 19870070301, 19870070…\n",
      "$ label_id              <fct> OO, OO, OO, OO, OO, OO, OO, JJ, JJ, JJ, I, I, I…\n",
      "$ array_id              <int> 931, 931, 931, 935, 931, 931, 931, 935, 935, 93…\n",
      "$ cores_number          <int> 3, 3, 3, 1, 3, 3, 3, 2, 2, 1, 6, 6, 6, 6, 6, 6,…\n",
      "$ sp_id                 <fct> 05-S-4662, 05-S-4662, 05-S-4662, 05-S-9869, 07-…\n",
      "$ turb_sequence         <int> 3, 3, 3, 4, 5, 5, 5, 3, 3, 1, 0, 0, 0, 0, 0, 0,…\n",
      "$ histo_code            <ord> High-grade, High-grade, High-grade, Normal, Low…\n",
      "$ pt_stage              <ord> Ta, Ta, Ta, NA, Ta, Ta, Ta, Tis, Tis, NA, T1, T…\n",
      "$ recurrence            <fct> Yes, Yes, Yes, Yes, No, No, No, No, No, Yes, Ye…\n",
      "$ progression_grade     <fct> No, No, No, No, No, No, No, No, No, Yes, No, No…\n",
      "$ progression_stage     <fct> No, No, No, No, No, No, No, No, No, No, Yes, Ye…\n",
      "$ progression_any       <fct> No, No, No, No, No, No, No, No, No, Yes, Yes, Y…\n",
      "$ pdl1_tumor            <dbl> 1.0, 0.0, 0.0, 0.0, NA, 0.0, 0.0, 10.0, 30.0, N…\n",
      "$ pdl1_tumor_count      <int> NA, NA, NA, NA, NA, NA, NA, NA, NA, NA, NA, NA,…\n",
      "$ pdl1_tumor_total      <int> NA, NA, NA, NA, NA, NA, NA, NA, NA, NA, NA, NA,…\n",
      "$ pdl1_tumor_location   <fct> Membraneous, NA, NA, NA, NA, NA, NA, Membraneou…\n",
      "$ pdl1_tumor_h          <dbl> 1.0, 0.0, 0.0, 0.0, NA, 0.0, 0.0, 10.0, 30.0, N…\n",
      "$ pdl1_stroma           <dbl> 10, 1, 5, 0, 20, NA, NA, 0, 0, 0, NA, 1, NA, NA…\n",
      "$ pdl1_stroma_location  <fct> NA, NA, NA, Adherent to tumor, Away from tumor,…\n",
      "$ granuloma             <fct> No, No, No, No, No, No, No, No, No, No, No, No,…\n",
      "$ pdl1_granuloma        <int> NA, NA, NA, NA, NA, NA, NA, NA, NA, NA, NA, NA,…\n",
      "$ host_response         <ord> Lymphoid aggregates, Rare inflammatory cells, L…\n",
      "$ foxp3_lymph_tumor     <int> 1, 6, 1, NA, NA, 0, 0, 1, 1, NA, 0, 1, 0, 0, NA…\n",
      "$ foxp3_lymph_stroma    <int> 30, 7, 53, NA, 183, 12, 0, 28, 6, 0, 4, 9, 15, …\n",
      "$ foxp3_lymph_intensity <fct> Strong staining, Strong staining, Strong staini…\n",
      "$ foxp3_tumor_count     <int> 0, 0, 0, NA, NA, 0, 0, 0, 0, NA, 0, 0, 0, 0, NA…\n",
      "$ foxp3_tumor_intensity <fct> NA, NA, NA, NA, NA, NA, NA, NA, NA, NA, NA, NA,…\n",
      "$ foxp3_tumor           <int> NA, NA, NA, NA, NA, NA, NA, NA, NA, NA, NA, NA,…\n",
      "$ cd8_tumor_count       <int> 20, 28, 18, NA, NA, 5, 2, 2, 5, NA, 0, 0, 0, 0,…\n",
      "$ cd8ki67_tumor_count   <int> 10, 10, 3, NA, NA, 0, 0, 0, 0, NA, 0, 0, 0, 0, …\n",
      "$ cd8_stroma_count      <int> 3, 5, 12, NA, 120, 13, 0, 24, 2, 0, 5, 24, 0, 4…\n",
      "$ cd8ki67_stroma_count  <int> 3, 1, 3, NA, 0, 0, 0, 0, 0, 0, 0, 0, 0, 0, 0, 0…\n",
      "$ ki67_tumor            <int> 45, 45, 60, NA, NA, 3, 15, 50, 40, NA, 35, 20, …\n",
      "$ sex                   <fct> Male, Male, Male, Male, Male, Male, Male, Male,…\n",
      "$ date_birth            <fct> 1926-04-04, 1926-04-04, 1926-04-04, 1926-04-04,…\n",
      "$ date_dx               <fct> 1987-12-01, 1987-12-01, 1987-12-01, 1987-12-01,…\n",
      "$ date_last             <fct> 2010-06-29, 2010-06-29, 2010-06-29, 2010-06-29,…\n",
      "$ death                 <fct> Alive, Alive, Alive, Alive, Alive, Alive, Alive…\n",
      "$ bcg                   <fct> No, No, No, No, No, No, No, No, No, No, Yes, Ye…\n",
      "$ mitomycin             <int> 0, 0, 0, 0, 0, 0, 0, 2, 2, 2, 0, 0, 0, 0, 0, 0,…\n",
      "$ pT_upstage_any_time   <fct> No stage progression, No stage progression, No …\n",
      "$ pT_upstage_next_time  <fct> No stage progression, No stage progression, No …\n",
      "$ rec_any_time          <fct> With tumor recurrence, With tumor recurrence, W…\n",
      "$ rec_next_time         <fct> No tumor recurrence, No tumor recurrence, No tu…\n",
      "$ grade_prog_any_time   <fct> No grade progression, No grade progression, No …\n",
      "$ grade_prog_next_time  <fct> No grade progression, No grade progression, No …\n",
      "$ age_dx                <int> 61, 61, 61, 61, 61, 61, 61, 53, 53, 53, 71, 71,…\n",
      "$ fu_mo                 <dbl> 274.86667, 274.86667, 274.86667, 274.86667, 274…\n",
      "$ histo_dx              <ord> HG, HG, HG, Nontumor, LG, LG, LG, CIS, HG, CIS,…\n",
      "$ sp_date               <date> 2005-06-10, 2005-06-10, 2005-06-10, 2005-12-07…\n",
      "$ bcg_date              <date> NA, NA, NA, NA, NA, NA, NA, NA, NA, NA, 2007-0…\n",
      "$ biopsy_timing         <ord> NA, NA, NA, NA, NA, NA, NA, NA, NA, NA, Pre BCG…\n"
     ]
    }
   ],
   "source": [
    "# Libraries\n",
    "suppressPackageStartupMessages(library(tidyverse))\n",
    "\n",
    "# Scripts for data analysis\n",
    "source(\"summaries.R\")\n",
    "\n",
    "# Global options\n",
    "options(warn = -1)\n",
    "\n",
    "# Data\n",
    "load(\"df.Rdata\")\n",
    "glimpse(DATA)"
   ]
  },
  {
   "cell_type": "markdown",
   "metadata": {},
   "source": [
    "Number of patients"
   ]
  },
  {
   "cell_type": "code",
   "execution_count": 2,
   "metadata": {},
   "outputs": [
    {
     "data": {
      "text/html": [
       "61"
      ],
      "text/latex": [
       "61"
      ],
      "text/markdown": [
       "61"
      ],
      "text/plain": [
       "[1] 61"
      ]
     },
     "metadata": {},
     "output_type": "display_data"
    }
   ],
   "source": [
    "unique(DATA$patient_id) %>% length"
   ]
  },
  {
   "cell_type": "markdown",
   "metadata": {},
   "source": [
    "Number of TMA spots"
   ]
  },
  {
   "cell_type": "code",
   "execution_count": 3,
   "metadata": {},
   "outputs": [
    {
     "data": {
      "text/html": [
       "461"
      ],
      "text/latex": [
       "461"
      ],
      "text/markdown": [
       "461"
      ],
      "text/plain": [
       "[1] 461"
      ]
     },
     "metadata": {},
     "output_type": "display_data"
    }
   ],
   "source": [
    "nrow(DATA)"
   ]
  },
  {
   "cell_type": "markdown",
   "metadata": {},
   "source": [
    "## Clinical and outcome features\n",
    "The analysis carried out in this section includes features that are observed at the patient level (clinical and outcome features)."
   ]
  },
  {
   "cell_type": "code",
   "execution_count": 4,
   "metadata": {},
   "outputs": [],
   "source": [
    "# Data wrangling: Summarizing clinical data by patients\n",
    "CLINICAL <- DATA %>% \n",
    "    group_by(patient_id) %>% \n",
    "    summarize(\n",
    "        sex = factor(unique(sex)),\n",
    "        age = unique(age_dx)\n",
    "    )"
   ]
  },
  {
   "cell_type": "markdown",
   "metadata": {},
   "source": [
    "### Clinical features\n",
    "#### Sex"
   ]
  },
  {
   "cell_type": "code",
   "execution_count": 5,
   "metadata": {},
   "outputs": [
    {
     "name": "stdout",
     "output_type": "stream",
     "text": [
      "# A tibble: 2 x 3\n",
      "  Levels     N  Freq\n",
      "  <fct>  <int> <dbl>\n",
      "1 Male      41  67.2\n",
      "2 Female    20  32.8\n"
     ]
    }
   ],
   "source": [
    "CLINICAL %>% summary_fct_x(sex)"
   ]
  },
  {
   "cell_type": "markdown",
   "metadata": {},
   "source": [
    "#### Age, in years"
   ]
  },
  {
   "cell_type": "code",
   "execution_count": 6,
   "metadata": {},
   "outputs": [
    {
     "name": "stdout",
     "output_type": "stream",
     "text": [
      "# A tibble: 1 x 8\n",
      "      N  Mean    SD Median   IQR   Min   Max Missing\n",
      "  <int> <dbl> <dbl>  <dbl> <dbl> <dbl> <dbl>   <int>\n",
      "1    61  67.9  9.81     68    13    47    89       0\n"
     ]
    }
   ],
   "source": [
    "CLINICAL %>% summary_num_x(age)"
   ]
  },
  {
   "cell_type": "markdown",
   "metadata": {},
   "source": [
    "### Outcome features\n",
    "In order to describe tumor recurrence and progression at the patient level, we considered any positive event throughout follow-up as a positive event. In this scenario, a positive event means at least one positive event, v.g., a patient with tumor recurrence had _at least_ one episode of tumor recurrence. Overall mortality refers to all patients who died, regardless of cause of death."
   ]
  },
  {
   "cell_type": "code",
   "execution_count": 7,
   "metadata": {},
   "outputs": [],
   "source": [
    "# Data wrangling\n",
    "OUTCOME <- DATA %>% \n",
    "    group_by(patient_id) %>% \n",
    "    summarize(\n",
    "        fu_mo = unique(fu_mo),\n",
    "        recurrence = factor(unique(rec_any_time)),\n",
    "        progression_stage = factor(unique(pT_upstage_any_time)),\n",
    "        progression_grade = factor(unique(grade_prog_any_time)),\n",
    "        death = factor(unique(death))\n",
    "    )"
   ]
  },
  {
   "cell_type": "markdown",
   "metadata": {},
   "source": [
    "#### Follow-up, in months"
   ]
  },
  {
   "cell_type": "code",
   "execution_count": 8,
   "metadata": {},
   "outputs": [
    {
     "name": "stdout",
     "output_type": "stream",
     "text": [
      "# A tibble: 1 x 8\n",
      "      N  Mean    SD Median   IQR   Min   Max Missing\n",
      "  <int> <dbl> <dbl>  <dbl> <dbl> <dbl> <dbl>   <int>\n",
      "1    61  42.6  46.5   39.1  35.3  2.13  275.       0\n"
     ]
    }
   ],
   "source": [
    "OUTCOME %>% summary_num_x(fu_mo)"
   ]
  },
  {
   "cell_type": "markdown",
   "metadata": {},
   "source": [
    "#### Recurrence (at any time)"
   ]
  },
  {
   "cell_type": "code",
   "execution_count": 9,
   "metadata": {},
   "outputs": [
    {
     "name": "stdout",
     "output_type": "stream",
     "text": [
      "# A tibble: 2 x 3\n",
      "  Levels                    N  Freq\n",
      "  <fct>                 <int> <dbl>\n",
      "1 With tumor recurrence    52  85.2\n",
      "2 No tumor recurrence       9  14.8\n"
     ]
    }
   ],
   "source": [
    "OUTCOME %>% summary_fct_x(recurrence)"
   ]
  },
  {
   "cell_type": "markdown",
   "metadata": {},
   "source": [
    "#### Stage progression (at any time)"
   ]
  },
  {
   "cell_type": "code",
   "execution_count": 10,
   "metadata": {},
   "outputs": [
    {
     "name": "stdout",
     "output_type": "stream",
     "text": [
      "# A tibble: 2 x 3\n",
      "  Levels                     N  Freq\n",
      "  <fct>                  <int> <dbl>\n",
      "1 No stage progression      55  90.2\n",
      "2 With stage progression     6   9.8\n"
     ]
    }
   ],
   "source": [
    "OUTCOME %>% summary_fct_x(progression_stage)"
   ]
  },
  {
   "cell_type": "markdown",
   "metadata": {},
   "source": [
    "#### Grade progression (at any time)"
   ]
  },
  {
   "cell_type": "code",
   "execution_count": 11,
   "metadata": {},
   "outputs": [
    {
     "name": "stdout",
     "output_type": "stream",
     "text": [
      "# A tibble: 2 x 3\n",
      "  Levels                     N  Freq\n",
      "  <fct>                  <int> <dbl>\n",
      "1 No grade progression      56  91.8\n",
      "2 With grade progression     5   8.2\n"
     ]
    }
   ],
   "source": [
    "OUTCOME %>% summary_fct_x(progression_grade)"
   ]
  },
  {
   "cell_type": "markdown",
   "metadata": {},
   "source": [
    "#### Overall mortality"
   ]
  },
  {
   "cell_type": "code",
   "execution_count": 12,
   "metadata": {},
   "outputs": [
    {
     "name": "stdout",
     "output_type": "stream",
     "text": [
      "# A tibble: 3 x 3\n",
      "  Levels     N  Freq\n",
      "  <fct>  <int> <dbl>\n",
      "1 Alive     49  80.3\n",
      "2 Dead       6   9.8\n",
      "3 <NA>       6   9.8\n"
     ]
    }
   ],
   "source": [
    "OUTCOME %>% summary_fct_x(death)"
   ]
  },
  {
   "cell_type": "markdown",
   "metadata": {},
   "source": [
    "## Pathologic features\n",
    "Pathologic fetures were evaluated at the TMA level, i.e., spot by spot. For the histologic diagnosis, \"Nontumor\" includes normal urothelium and papillary hyperplasia, \"CIS\" includes carcinoma in situ and dysplasia, \"LG\" and \"HG\" mean low-grade and high-grade noninvasive papillary urothelial carcinoma, respectively."
   ]
  },
  {
   "cell_type": "code",
   "execution_count": 13,
   "metadata": {},
   "outputs": [],
   "source": [
    "DX <- DATA %>% \n",
    "    mutate(\n",
    "        dx = fct_collapse(histo_code,\n",
    "            \"Nontumor\" = c(\"Normal\", \"Papillary hyperplasia\"),\n",
    "            \"CIS\" = c(\"CIS\", \"Dysplasia\"),\n",
    "            \"LG\" = \"Low-grade\",\n",
    "            \"HG\" = \"High-grade\"\n",
    "        ),\n",
    "        dx = fct_relevel(dx,\n",
    "            c(\"Nontumor\", \"CIS\", \"LG\", \"HG\")\n",
    "        ),\n",
    "        pt_stage = fct_relevel(\n",
    "            pt_stage,\n",
    "            c(\"Tis\", \"Ta\")\n",
    "        ),\n",
    "        host_response = fct_relevel(\n",
    "            host_response,\n",
    "            c(\"No inflammatory cells\", \"Rare inflammatory cells\", \"Lymphoid aggregates\", \"Intense inflammation\")\n",
    "        )\n",
    "    )"
   ]
  },
  {
   "cell_type": "markdown",
   "metadata": {},
   "source": [
    "### Histologic diagnosis"
   ]
  },
  {
   "cell_type": "code",
   "execution_count": 14,
   "metadata": {},
   "outputs": [
    {
     "name": "stdout",
     "output_type": "stream",
     "text": [
      "# A tibble: 5 x 3\n",
      "  Levels       N  Freq\n",
      "  <ord>    <int> <dbl>\n",
      "1 Nontumor    48  10.4\n",
      "2 CIS         21   4.6\n",
      "3 LG         116  25.2\n",
      "4 HG         168  36.4\n",
      "5 Invasive   108  23.4\n"
     ]
    }
   ],
   "source": [
    "DX %>% summary_fct_x(dx)"
   ]
  },
  {
   "cell_type": "markdown",
   "metadata": {},
   "source": [
    "### pT stage"
   ]
  },
  {
   "cell_type": "code",
   "execution_count": 15,
   "metadata": {},
   "outputs": [
    {
     "name": "stdout",
     "output_type": "stream",
     "text": [
      "# A tibble: 5 x 3\n",
      "  Levels     N  Freq\n",
      "  <ord>  <int> <dbl>\n",
      "1 Tis       18   3.9\n",
      "2 Ta       217  47.1\n",
      "3 T1       161  34.9\n",
      "4 T2        21   4.6\n",
      "5 <NA>      44   9.5\n"
     ]
    }
   ],
   "source": [
    "DX %>% summary_fct_x(pt_stage)"
   ]
  },
  {
   "cell_type": "markdown",
   "metadata": {},
   "source": [
    "### Host response"
   ]
  },
  {
   "cell_type": "code",
   "execution_count": 16,
   "metadata": {},
   "outputs": [
    {
     "name": "stdout",
     "output_type": "stream",
     "text": [
      "# A tibble: 5 x 3\n",
      "  Levels                      N  Freq\n",
      "  <ord>                   <int> <dbl>\n",
      "1 No inflammatory cells     173  37.5\n",
      "2 Rare inflammatory cells   163  35.4\n",
      "3 Lymphoid aggregates        56  12.1\n",
      "4 Intense inflammation        4   0.9\n",
      "5 <NA>                       65  14.1\n"
     ]
    }
   ],
   "source": [
    "DX %>% summary_fct_x(host_response)"
   ]
  }
 ],
 "metadata": {
  "kernelspec": {
   "display_name": "R",
   "language": "R",
   "name": "ir"
  },
  "language_info": {
   "codemirror_mode": "r",
   "file_extension": ".r",
   "mimetype": "text/x-r-source",
   "name": "R",
   "pygments_lexer": "r",
   "version": "3.5.3"
  },
  "toc": {
   "base_numbering": 1,
   "nav_menu": {},
   "number_sections": true,
   "sideBar": true,
   "skip_h1_title": true,
   "title_cell": "Cohort features",
   "title_sidebar": "Contents",
   "toc_cell": false,
   "toc_position": {
    "height": "calc(100% - 180px)",
    "left": "10px",
    "top": "150px",
    "width": "409.594px"
   },
   "toc_section_display": true,
   "toc_window_display": false
  }
 },
 "nbformat": 4,
 "nbformat_minor": 2
}
