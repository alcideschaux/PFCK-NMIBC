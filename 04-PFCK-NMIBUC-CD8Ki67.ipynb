{
 "cells": [
  {
   "cell_type": "markdown",
   "metadata": {},
   "source": [
    "# CD8/Ki67 expression"
   ]
  },
  {
   "cell_type": "code",
   "execution_count": 1,
   "metadata": {},
   "outputs": [
    {
     "name": "stdout",
     "output_type": "stream",
     "text": [
      "Observations: 461\n",
      "Variables: 12\n",
      "$ sp_id                <fct> 05-S-4662, 05-S-4662, 05-S-4662, 05-S-9869, 07-S…\n",
      "$ histo_code           <ord> High-grade, High-grade, High-grade, Normal, Low-…\n",
      "$ cd8_tumor_count      <int> 20, 28, 18, NA, NA, 5, 2, 2, 5, NA, 0, 0, 0, 0, …\n",
      "$ cd8ki67_tumor_count  <int> 10, 10, 3, NA, NA, 0, 0, 0, 0, NA, 0, 0, 0, 0, N…\n",
      "$ cd8_stroma_count     <int> 3, 5, 12, NA, 120, 13, 0, 24, 2, 0, 5, 24, 0, 41…\n",
      "$ cd8ki67_stroma_count <int> 3, 1, 3, NA, 0, 0, 0, 0, 0, 0, 0, 0, 0, 0, 0, 0,…\n",
      "$ pT_upstage_any_time  <fct> No stage progression, No stage progression, No s…\n",
      "$ pT_upstage_next_time <fct> No stage progression, No stage progression, No s…\n",
      "$ rec_any_time         <fct> With tumor recurrence, With tumor recurrence, Wi…\n",
      "$ rec_next_time        <fct> No tumor recurrence, No tumor recurrence, No tum…\n",
      "$ grade_prog_any_time  <fct> No grade progression, No grade progression, No g…\n",
      "$ grade_prog_next_time <fct> No grade progression, No grade progression, No g…\n"
     ]
    }
   ],
   "source": [
    "# Libraries\n",
    "suppressPackageStartupMessages(library(tidyverse))\n",
    "\n",
    "# Global\n",
    "options(warn = -1)\n",
    "\n",
    "# Scripts\n",
    "source(\"summaries.R\")\n",
    "\n",
    "# Data\n",
    "DF <- load(\"df.Rdata\")\n",
    "\n",
    "DATA <- DATA %>% \n",
    "    select(\n",
    "        sp_id,\n",
    "        histo_code,\n",
    "        cd8_tumor_count:cd8ki67_stroma_count,\n",
    "        pT_upstage_any_time:grade_prog_next_time\n",
    "    )\n",
    "\n",
    "glimpse(DATA)"
   ]
  },
  {
   "cell_type": "markdown",
   "metadata": {},
   "source": [
    "## CD8/Ki67 expression\n",
    "The analysis of CD8 and Ki67 expression was carried out at the TMA level."
   ]
  },
  {
   "cell_type": "markdown",
   "metadata": {},
   "source": [
    "### CD8+ intratumoral lymphocytes"
   ]
  },
  {
   "cell_type": "code",
   "execution_count": 2,
   "metadata": {},
   "outputs": [
    {
     "name": "stdout",
     "output_type": "stream",
     "text": [
      "    N     Mean       SD Median  IQR Min Max Missing\n",
      "1 461 8.501608 16.50902      2 10.5   0 155     150\n"
     ]
    }
   ],
   "source": [
    "DATA %>% summary_num_x(cd8_tumor_count)"
   ]
  },
  {
   "cell_type": "markdown",
   "metadata": {},
   "source": [
    "### CD8+ peritumoral lymphocytes"
   ]
  },
  {
   "cell_type": "code",
   "execution_count": 3,
   "metadata": {},
   "outputs": [
    {
     "name": "stdout",
     "output_type": "stream",
     "text": [
      "    N     Mean       SD Median IQR Min Max Missing\n",
      "1 461 23.98429 38.79233      7  29   0 216      79\n"
     ]
    }
   ],
   "source": [
    "DATA %>% summary_num_x(cd8_stroma_count)"
   ]
  },
  {
   "cell_type": "markdown",
   "metadata": {},
   "source": [
    "### CD8+/Ki67+ intratumoral lymphocytes"
   ]
  },
  {
   "cell_type": "code",
   "execution_count": 4,
   "metadata": {},
   "outputs": [
    {
     "name": "stdout",
     "output_type": "stream",
     "text": [
      "    N      Mean       SD Median IQR Min Max Missing\n",
      "1 461 0.2922078 1.042581      0   0   0  10     153\n"
     ]
    }
   ],
   "source": [
    "DATA %>% summary_num_x(cd8ki67_tumor_count)"
   ]
  },
  {
   "cell_type": "markdown",
   "metadata": {},
   "source": [
    "### CD8+/Ki67+ peritumoral lymphocytes"
   ]
  },
  {
   "cell_type": "code",
   "execution_count": 5,
   "metadata": {},
   "outputs": [
    {
     "name": "stdout",
     "output_type": "stream",
     "text": [
      "    N      Mean       SD Median IQR Min Max Missing\n",
      "1 461 0.1286863 0.468993      0   0   0   4      88\n"
     ]
    }
   ],
   "source": [
    "DATA %>% summary_num_x(cd8ki67_stroma_count)"
   ]
  },
  {
   "cell_type": "markdown",
   "metadata": {},
   "source": [
    "## CD8/Ki67 expression by histology\n",
    "The analysis of CD8 and Ki67 expression was carried out at the TMA level."
   ]
  },
  {
   "cell_type": "code",
   "execution_count": 6,
   "metadata": {},
   "outputs": [],
   "source": [
    "# Recoding levels of histo_code\n",
    "DATA <- DATA %>% \n",
    "    mutate(\n",
    "        histo_code = fct_collapse(histo_code,\n",
    "            \"Nontumor\" = c(\"Normal\", \"Papillary hyperplasia\"),\n",
    "            \"CIS\" = c(\"CIS\", \"Dysplasia\"),\n",
    "            \"LG\" = \"Low-grade\",\n",
    "            \"HG\" = \"High-grade\"\n",
    "        ),\n",
    "        histo_code = fct_relevel(histo_code,\n",
    "            c(\"Nontumor\", \"CIS\", \"LG\", \"HG\")\n",
    "        )\n",
    "    )"
   ]
  },
  {
   "cell_type": "markdown",
   "metadata": {},
   "source": [
    "### CD8+ intratumoral lymphocytes"
   ]
  },
  {
   "cell_type": "code",
   "execution_count": 7,
   "metadata": {},
   "outputs": [
    {
     "name": "stdout",
     "output_type": "stream",
     "text": [
      "# A tibble: 5 x 9\n",
      "  Levels       N  Mean    SD Median   IQR   Min   Max Missing\n",
      "  <ord>    <int> <dbl> <dbl>  <dbl> <dbl> <dbl> <dbl>   <int>\n",
      "1 Nontumor    48 20    NA        20   0      20    20      47\n",
      "2 CIS         21  4.6   7.01      2   3.5     0    23      11\n",
      "3 LG         116 12    15.0       6  13       0    70      27\n",
      "4 HG         168  5.88  9.91      1   7       0    52      44\n",
      "5 Invasive   108  8.98 24.1       1   8       0   155      21\n",
      "\n",
      "\tKruskal-Wallis rank sum test\n",
      "\n",
      "data:  x by y\n",
      "Kruskal-Wallis chi-squared = 28.995, df = 4, p-value = 7.834e-06\n",
      "\n",
      "\n",
      "\tPairwise comparisons using Wilcoxon rank sum test \n",
      "\n",
      "data:  x and y \n",
      "\n",
      "         Nontumor CIS     LG      HG     \n",
      "CIS      1.00000  -       -       -      \n",
      "LG       1.00000  0.58449 -       -      \n",
      "HG       1.00000  1.00000 4.3e-05 -      \n",
      "Invasive 1.00000  1.00000 0.00012 1.00000\n",
      "\n",
      "P value adjustment method: bonferroni \n"
     ]
    }
   ],
   "source": [
    "DATA %>% summary_bi(cd8_tumor_count, histo_code)"
   ]
  },
  {
   "cell_type": "markdown",
   "metadata": {},
   "source": [
    "### CD8+ peritumoral lymphocytes"
   ]
  },
  {
   "cell_type": "code",
   "execution_count": 8,
   "metadata": {},
   "outputs": [
    {
     "name": "stdout",
     "output_type": "stream",
     "text": [
      "# A tibble: 5 x 9\n",
      "  Levels       N  Mean    SD Median   IQR   Min   Max Missing\n",
      "  <ord>    <int> <dbl> <dbl>  <dbl> <dbl> <dbl> <dbl>   <int>\n",
      "1 Nontumor    48  33.1  35.5     23  42       0    97      38\n",
      "2 CIS         21  27.3  26.2     15  32       0    95       0\n",
      "3 LG         116  22.7  37.0      6  30       0   187      11\n",
      "4 HG         168  21.9  40.9      5  23       0   216      22\n",
      "5 Invasive   108  26.8  40.2      8  37.2     0   164       8\n",
      "\n",
      "\tKruskal-Wallis rank sum test\n",
      "\n",
      "data:  x by y\n",
      "Kruskal-Wallis chi-squared = 8.9581, df = 4, p-value = 0.06215\n",
      "\n",
      "\n",
      "\tPairwise comparisons using Wilcoxon rank sum test \n",
      "\n",
      "data:  x and y \n",
      "\n",
      "         Nontumor CIS   LG    HG   \n",
      "CIS      1.000    -     -     -    \n",
      "LG       1.000    0.455 -     -    \n",
      "HG       0.854    0.078 1.000 -    \n",
      "Invasive 1.000    1.000 1.000 1.000\n",
      "\n",
      "P value adjustment method: bonferroni \n"
     ]
    }
   ],
   "source": [
    "DATA %>% summary_bi(cd8_stroma_count, histo_code)"
   ]
  },
  {
   "cell_type": "markdown",
   "metadata": {},
   "source": [
    "### CD8+/Ki67+ intratumoral lymphocytes"
   ]
  },
  {
   "cell_type": "code",
   "execution_count": 9,
   "metadata": {},
   "outputs": [
    {
     "name": "stdout",
     "output_type": "stream",
     "text": [
      "# A tibble: 5 x 9\n",
      "  Levels       N  Mean     SD Median   IQR   Min   Max Missing\n",
      "  <ord>    <int> <dbl>  <dbl>  <dbl> <dbl> <dbl> <dbl>   <int>\n",
      "1 Nontumor    48 0     NA          0     0     0     0      47\n",
      "2 CIS         21 0.1    0.316      0     0     0     1      11\n",
      "3 LG         116 0.135  0.457      0     0     0     3      27\n",
      "4 HG         168 0.455  1.47       0     0     0    10      47\n",
      "5 Invasive   108 0.253  0.766      0     0     0     5      21\n",
      "\n",
      "\tKruskal-Wallis rank sum test\n",
      "\n",
      "data:  x by y\n",
      "Kruskal-Wallis chi-squared = 3.4883, df = 4, p-value = 0.4797\n",
      "\n",
      "\n",
      "\tPairwise comparisons using Wilcoxon rank sum test \n",
      "\n",
      "data:  x and y \n",
      "\n",
      "         Nontumor CIS  LG   HG  \n",
      "CIS      1.00     -    -    -   \n",
      "LG       1.00     1.00 -    -   \n",
      "HG       1.00     1.00 0.84 -   \n",
      "Invasive 1.00     1.00 1.00 1.00\n",
      "\n",
      "P value adjustment method: bonferroni \n"
     ]
    }
   ],
   "source": [
    "DATA %>% summary_bi(cd8ki67_tumor_count, histo_code)"
   ]
  },
  {
   "cell_type": "markdown",
   "metadata": {},
   "source": [
    "### CD8+/Ki67+ peritumoral lymphocytes"
   ]
  },
  {
   "cell_type": "code",
   "execution_count": 10,
   "metadata": {},
   "outputs": [
    {
     "name": "stdout",
     "output_type": "stream",
     "text": [
      "# A tibble: 5 x 9\n",
      "  Levels       N   Mean    SD Median   IQR   Min   Max Missing\n",
      "  <ord>    <int>  <dbl> <dbl>  <dbl> <dbl> <dbl> <dbl>   <int>\n",
      "1 Nontumor    48 0      0          0     0     0     0      38\n",
      "2 CIS         21 0.0476 0.218      0     0     0     1       0\n",
      "3 LG         116 0.146  0.429      0     0     0     3      13\n",
      "4 HG         168 0.142  0.515      0     0     0     3      27\n",
      "5 Invasive   108 0.122  0.503      0     0     0     4      10\n",
      "\n",
      "\tKruskal-Wallis rank sum test\n",
      "\n",
      "data:  x by y\n",
      "Kruskal-Wallis chi-squared = 2.8926, df = 4, p-value = 0.576\n",
      "\n",
      "\n",
      "\tPairwise comparisons using Wilcoxon rank sum test \n",
      "\n",
      "data:  x and y \n",
      "\n",
      "         Nontumor CIS LG HG\n",
      "CIS      1        -   -  - \n",
      "LG       1        1   -  - \n",
      "HG       1        1   1  - \n",
      "Invasive 1        1   1  1 \n",
      "\n",
      "P value adjustment method: bonferroni \n"
     ]
    }
   ],
   "source": [
    "DATA %>% summary_bi(cd8ki67_stroma_count, histo_code)"
   ]
  },
  {
   "cell_type": "markdown",
   "metadata": {},
   "source": [
    "## CD8/Ki67 expression and outcome\n",
    "The outcome analysis was carried out at the case level. CD8/Ki67 expression per case was summarized considering the maximum expression across all TMA spots from the case."
   ]
  },
  {
   "cell_type": "code",
   "execution_count": 11,
   "metadata": {},
   "outputs": [
    {
     "name": "stdout",
     "output_type": "stream",
     "text": [
      "Observations: 143\n",
      "Variables: 11\n",
      "$ sp_id                  <fct> 01-S-10015, 01-S-7500, 01-S-9347, 02-S-2362, 0…\n",
      "$ cd8_intratumoral       <dbl> 14, 2, 15, NA, 1, 2, NA, 1, 0, 7, 0, 1, 3, 3, …\n",
      "$ cd8_peritumoral        <dbl> 216, 30, 8, 87, 3, 7, 12, 136, 45, 6, 8, 42, 2…\n",
      "$ cd8ki67_intratumoral   <dbl> 1, 0, 0, NA, 0, 0, NA, 0, 0, 1, 0, 0, 0, 0, 0,…\n",
      "$ cd8ki67_peritumoral    <dbl> 1, 0, 1, 0, 0, 0, 0, 0, 0, 0, 0, 1, 0, 0, 0, 0…\n",
      "$ recurrence_next        <fct> No tumor recurrence, With tumor recurrence, Wi…\n",
      "$ recurrence_any         <fct> With tumor recurrence, With tumor recurrence, …\n",
      "$ progression_grade_next <fct> No grade progression, No grade progression, No…\n",
      "$ progression_grade_any  <fct> No grade progression, No grade progression, No…\n",
      "$ progression_stage_next <fct> No stage progression, No stage progression, No…\n",
      "$ progression_stage_any  <fct> No stage progression, No stage progression, No…\n"
     ]
    }
   ],
   "source": [
    "OUTCOME <- DATA %>% \n",
    "    group_by(sp_id) %>% \n",
    "    summarize(\n",
    "        cd8_intratumoral = quantile(cd8_tumor_count, probs = 1, na.rm = TRUE),\n",
    "        cd8_peritumoral = quantile(cd8_stroma_count, probs = 1, na.rm = TRUE),\n",
    "        cd8ki67_intratumoral = quantile(cd8ki67_tumor_count, probs = 1, na.rm = TRUE),\n",
    "        cd8ki67_peritumoral = quantile(cd8ki67_stroma_count, probs = 1, na.rm = TRUE),\n",
    "        recurrence_next = unique(rec_next_time),\n",
    "        recurrence_any = unique(rec_any_time),\n",
    "        progression_grade_next = unique(grade_prog_next_time),\n",
    "        progression_grade_any = unique(grade_prog_any_time),\n",
    "        progression_stage_next = unique(pT_upstage_next_time),\n",
    "        progression_stage_any = unique(pT_upstage_any_time),\n",
    "    )\n",
    "\n",
    "glimpse(OUTCOME)"
   ]
  },
  {
   "cell_type": "markdown",
   "metadata": {},
   "source": [
    "### Tumor recurrence at next time"
   ]
  },
  {
   "cell_type": "markdown",
   "metadata": {},
   "source": [
    "#### CD8+ intratumoral lymphocyes"
   ]
  },
  {
   "cell_type": "code",
   "execution_count": 12,
   "metadata": {},
   "outputs": [
    {
     "name": "stdout",
     "output_type": "stream",
     "text": [
      "# A tibble: 3 x 9\n",
      "  Levels                    N  Mean    SD Median   IQR   Min   Max Missing\n",
      "  <fct>                 <int> <dbl> <dbl>  <dbl> <dbl> <dbl> <dbl>   <int>\n",
      "1 No tumor recurrence      51 17.2  27.6     5    19       0   137      18\n",
      "2 With tumor recurrence    72 14.6  23.0     7.5  14.2     0   155      10\n",
      "3 <NA>                     20  8.07  8.60    3    11.5     0    28       5\n",
      "\n",
      "\tWilcoxon rank sum test with continuity correction\n",
      "\n",
      "data:  x by y\n",
      "W = 996.5, p-value = 0.8386\n",
      "alternative hypothesis: true location shift is not equal to 0\n",
      "\n"
     ]
    }
   ],
   "source": [
    "OUTCOME %>% summary_bi(cd8_intratumoral, recurrence_next)"
   ]
  },
  {
   "cell_type": "markdown",
   "metadata": {},
   "source": [
    "#### CD8+ peritumoral lymphocytes"
   ]
  },
  {
   "cell_type": "code",
   "execution_count": 13,
   "metadata": {},
   "outputs": [
    {
     "name": "stdout",
     "output_type": "stream",
     "text": [
      "# A tibble: 3 x 9\n",
      "  Levels                    N  Mean    SD Median   IQR   Min   Max Missing\n",
      "  <fct>                 <int> <dbl> <dbl>  <dbl> <dbl> <dbl> <dbl>   <int>\n",
      "1 No tumor recurrence      51  53.3  61.6   30      64     0   216      12\n",
      "2 With tumor recurrence    72  41.5  45.1   28.5    48     0   203       4\n",
      "3 <NA>                     20  44.8  44.7   32      66     1   156       3\n",
      "\n",
      "\tWilcoxon rank sum test with continuity correction\n",
      "\n",
      "data:  x by y\n",
      "W = 1377.5, p-value = 0.7412\n",
      "alternative hypothesis: true location shift is not equal to 0\n",
      "\n"
     ]
    }
   ],
   "source": [
    "OUTCOME %>% summary_bi(cd8_peritumoral, recurrence_next)"
   ]
  },
  {
   "cell_type": "markdown",
   "metadata": {},
   "source": [
    "#### CD8+/Ki67+ intratumoral lymphocytes"
   ]
  },
  {
   "cell_type": "code",
   "execution_count": 14,
   "metadata": {},
   "outputs": [
    {
     "name": "stdout",
     "output_type": "stream",
     "text": [
      "# A tibble: 3 x 9\n",
      "  Levels                    N  Mean    SD Median   IQR   Min   Max Missing\n",
      "  <fct>                 <int> <dbl> <dbl>  <dbl> <dbl> <dbl> <dbl>   <int>\n",
      "1 No tumor recurrence      51 0.879 1.96       0     1     0    10      18\n",
      "2 With tumor recurrence    72 0.468 0.918      0     1     0     5      10\n",
      "3 <NA>                     20 0.333 0.816      0     0     0     3       5\n",
      "\n",
      "\tWilcoxon rank sum test with continuity correction\n",
      "\n",
      "data:  x by y\n",
      "W = 1107.5, p-value = 0.4234\n",
      "alternative hypothesis: true location shift is not equal to 0\n",
      "\n"
     ]
    }
   ],
   "source": [
    "OUTCOME %>% summary_bi(cd8ki67_intratumoral, recurrence_next)"
   ]
  },
  {
   "cell_type": "markdown",
   "metadata": {},
   "source": [
    "#### CD8+/Ki67+ peritumoral lymphocytes"
   ]
  },
  {
   "cell_type": "code",
   "execution_count": 15,
   "metadata": {},
   "outputs": [
    {
     "name": "stdout",
     "output_type": "stream",
     "text": [
      "# A tibble: 3 x 9\n",
      "  Levels                    N  Mean    SD Median   IQR   Min   Max Missing\n",
      "  <fct>                 <int> <dbl> <dbl>  <dbl> <dbl> <dbl> <dbl>   <int>\n",
      "1 No tumor recurrence      51 0.325 0.829      0     0     0     4      11\n",
      "2 With tumor recurrence    72 0.309 0.675      0     0     0     3       4\n",
      "3 <NA>                     20 0.353 0.493      0     1     0     1       3\n",
      "\n",
      "\tWilcoxon rank sum test with continuity correction\n",
      "\n",
      "data:  x by y\n",
      "W = 1334, p-value = 0.8201\n",
      "alternative hypothesis: true location shift is not equal to 0\n",
      "\n"
     ]
    }
   ],
   "source": [
    "OUTCOME %>% summary_bi(cd8ki67_peritumoral, recurrence_next)"
   ]
  },
  {
   "cell_type": "markdown",
   "metadata": {},
   "source": [
    "### Tumor recurrence at any time"
   ]
  },
  {
   "cell_type": "markdown",
   "metadata": {},
   "source": [
    "#### CD8+ intratumoral lymphocytes"
   ]
  },
  {
   "cell_type": "code",
   "execution_count": 16,
   "metadata": {},
   "outputs": [
    {
     "name": "stdout",
     "output_type": "stream",
     "text": [
      "# A tibble: 2 x 9\n",
      "  Levels                    N  Mean    SD Median   IQR   Min   Max Missing\n",
      "  <fct>                 <int> <dbl> <dbl>  <dbl> <dbl> <dbl> <dbl>   <int>\n",
      "1 No tumor recurrence      15   9.5  15.0    3    5.25     0    45       7\n",
      "2 With tumor recurrence   128  14.9  23.7    7.5 16.5      0   155      26\n",
      "\n",
      "\tWilcoxon rank sum test with continuity correction\n",
      "\n",
      "data:  x by y\n",
      "W = 350, p-value = 0.5069\n",
      "alternative hypothesis: true location shift is not equal to 0\n",
      "\n"
     ]
    }
   ],
   "source": [
    "OUTCOME %>% summary_bi(cd8_intratumoral, recurrence_any)"
   ]
  },
  {
   "cell_type": "markdown",
   "metadata": {},
   "source": [
    "#### CD8+ peritumoral lymphocytes"
   ]
  },
  {
   "cell_type": "code",
   "execution_count": 17,
   "metadata": {},
   "outputs": [
    {
     "name": "stdout",
     "output_type": "stream",
     "text": [
      "# A tibble: 2 x 9\n",
      "  Levels                    N  Mean    SD Median   IQR   Min   Max Missing\n",
      "  <fct>                 <int> <dbl> <dbl>  <dbl> <dbl> <dbl> <dbl>   <int>\n",
      "1 No tumor recurrence      15  32.8  29.3     34  60       0    70       6\n",
      "2 With tumor recurrence   128  46.7  51.9     30  55.5     0   216      13\n",
      "\n",
      "\tWilcoxon rank sum test with continuity correction\n",
      "\n",
      "data:  x by y\n",
      "W = 457.5, p-value = 0.5665\n",
      "alternative hypothesis: true location shift is not equal to 0\n",
      "\n"
     ]
    }
   ],
   "source": [
    "OUTCOME %>% summary_bi(cd8_peritumoral, recurrence_any)"
   ]
  },
  {
   "cell_type": "markdown",
   "metadata": {},
   "source": [
    "#### CD8+/Ki67+ intratumoral lymphocytes"
   ]
  },
  {
   "cell_type": "code",
   "execution_count": 18,
   "metadata": {},
   "outputs": [
    {
     "name": "stdout",
     "output_type": "stream",
     "text": [
      "# A tibble: 2 x 9\n",
      "  Levels                    N  Mean    SD Median   IQR   Min   Max Missing\n",
      "  <fct>                 <int> <dbl> <dbl>  <dbl> <dbl> <dbl> <dbl>   <int>\n",
      "1 No tumor recurrence      15 0.625 0.744    0.5     1     0     2       7\n",
      "2 With tumor recurrence   128 0.569 1.35     0       1     0    10      26\n",
      "\n",
      "\tWilcoxon rank sum test with continuity correction\n",
      "\n",
      "data:  x by y\n",
      "W = 483.5, p-value = 0.2846\n",
      "alternative hypothesis: true location shift is not equal to 0\n",
      "\n"
     ]
    }
   ],
   "source": [
    "OUTCOME %>% summary_bi(cd8ki67_intratumoral, recurrence_any)"
   ]
  },
  {
   "cell_type": "markdown",
   "metadata": {},
   "source": [
    "#### CD8+/Ki67+ peritumoral lymphocytes"
   ]
  },
  {
   "cell_type": "code",
   "execution_count": 19,
   "metadata": {},
   "outputs": [
    {
     "name": "stdout",
     "output_type": "stream",
     "text": [
      "# A tibble: 2 x 9\n",
      "  Levels                    N  Mean    SD Median   IQR   Min   Max Missing\n",
      "  <fct>                 <int> <dbl> <dbl>  <dbl> <dbl> <dbl> <dbl>   <int>\n",
      "1 No tumor recurrence      15 0.111 0.333      0     0     0     1       6\n",
      "2 With tumor recurrence   128 0.336 0.722      0     0     0     4      12\n",
      "\n",
      "\tWilcoxon rank sum test with continuity correction\n",
      "\n",
      "data:  x by y\n",
      "W = 451, p-value = 0.3599\n",
      "alternative hypothesis: true location shift is not equal to 0\n",
      "\n"
     ]
    }
   ],
   "source": [
    "OUTCOME %>% summary_bi(cd8ki67_peritumoral, recurrence_any)"
   ]
  },
  {
   "cell_type": "markdown",
   "metadata": {},
   "source": [
    "### Tumor grade progression at next time"
   ]
  },
  {
   "cell_type": "markdown",
   "metadata": {},
   "source": [
    "#### CD8+ intratumoral lymphocytes"
   ]
  },
  {
   "cell_type": "code",
   "execution_count": 20,
   "metadata": {},
   "outputs": [
    {
     "name": "stdout",
     "output_type": "stream",
     "text": [
      "# A tibble: 3 x 9\n",
      "  Levels                     N  Mean    SD Median   IQR   Min   Max Missing\n",
      "  <fct>                  <int> <dbl> <dbl>  <dbl> <dbl> <dbl> <dbl>   <int>\n",
      "1 No grade progression     118 14.9  24.5     6    16.5     0   155      23\n",
      "2 With grade progression     9 23.5  18.1    16.5  15      11    50       5\n",
      "3 <NA>                      16  8.18  6.98   10    10       0    20       5\n",
      "\n",
      "\tWilcoxon rank sum test with continuity correction\n",
      "\n",
      "data:  x by y\n",
      "W = 99.5, p-value = 0.1087\n",
      "alternative hypothesis: true location shift is not equal to 0\n",
      "\n"
     ]
    }
   ],
   "source": [
    "OUTCOME %>% summary_bi(cd8_intratumoral, progression_grade_next)"
   ]
  },
  {
   "cell_type": "markdown",
   "metadata": {},
   "source": [
    "#### CD8+ peritumoral lymphocytes"
   ]
  },
  {
   "cell_type": "code",
   "execution_count": 21,
   "metadata": {},
   "outputs": [
    {
     "name": "stdout",
     "output_type": "stream",
     "text": [
      "# A tibble: 3 x 9\n",
      "  Levels                     N  Mean    SD Median   IQR   Min   Max Missing\n",
      "  <fct>                  <int> <dbl> <dbl>  <dbl> <dbl> <dbl> <dbl>   <int>\n",
      "1 No grade progression     118  46.8  52.2     30  56       0   216      13\n",
      "2 With grade progression     9  29.7  34.2     13  21.5     5    95       3\n",
      "3 <NA>                      16  44.1  46.0     32  54       1   156       3\n",
      "\n",
      "\tWilcoxon rank sum test with continuity correction\n",
      "\n",
      "data:  x by y\n",
      "W = 358, p-value = 0.5793\n",
      "alternative hypothesis: true location shift is not equal to 0\n",
      "\n"
     ]
    }
   ],
   "source": [
    "OUTCOME %>% summary_bi(cd8_peritumoral, progression_grade_next)"
   ]
  },
  {
   "cell_type": "markdown",
   "metadata": {},
   "source": [
    "#### CD8+/Ki67+ intratumoral lymphocytes"
   ]
  },
  {
   "cell_type": "code",
   "execution_count": 22,
   "metadata": {},
   "outputs": [
    {
     "name": "stdout",
     "output_type": "stream",
     "text": [
      "# A tibble: 3 x 9\n",
      "  Levels                     N  Mean    SD Median   IQR   Min   Max Missing\n",
      "  <fct>                  <int> <dbl> <dbl>  <dbl> <dbl> <dbl> <dbl>   <int>\n",
      "1 No grade progression     118 0.611 1.38       0   1       0    10      23\n",
      "2 With grade progression     9 0     0          0   0       0     0       5\n",
      "3 <NA>                      16 0.455 0.934      0   0.5     0     3       5\n",
      "\n",
      "\tWilcoxon rank sum test with continuity correction\n",
      "\n",
      "data:  x by y\n",
      "W = 250, p-value = 0.1914\n",
      "alternative hypothesis: true location shift is not equal to 0\n",
      "\n"
     ]
    }
   ],
   "source": [
    "OUTCOME %>% summary_bi(cd8ki67_intratumoral, progression_grade_next)"
   ]
  },
  {
   "cell_type": "markdown",
   "metadata": {},
   "source": [
    "#### CD8+/Ki67+ peritumoral lymphocytes"
   ]
  },
  {
   "cell_type": "code",
   "execution_count": 23,
   "metadata": {},
   "outputs": [
    {
     "name": "stdout",
     "output_type": "stream",
     "text": [
      "# A tibble: 3 x 9\n",
      "  Levels                     N  Mean    SD Median   IQR   Min   Max Missing\n",
      "  <fct>                  <int> <dbl> <dbl>  <dbl> <dbl> <dbl> <dbl>   <int>\n",
      "1 No grade progression     118 0.321 0.737      0     0     0     4      12\n",
      "2 With grade progression     9 0.167 0.408      0     0     0     1       3\n",
      "3 <NA>                      16 0.385 0.506      0     1     0     1       3\n",
      "\n",
      "\tWilcoxon rank sum test with continuity correction\n",
      "\n",
      "data:  x by y\n",
      "W = 337, p-value = 0.738\n",
      "alternative hypothesis: true location shift is not equal to 0\n",
      "\n"
     ]
    }
   ],
   "source": [
    "OUTCOME %>% summary_bi(cd8ki67_peritumoral, progression_grade_next)"
   ]
  },
  {
   "cell_type": "markdown",
   "metadata": {},
   "source": [
    "### Tumor grade progression at any time"
   ]
  },
  {
   "cell_type": "markdown",
   "metadata": {},
   "source": [
    "#### CD8+ intratumoral lymphocytes"
   ]
  },
  {
   "cell_type": "code",
   "execution_count": 24,
   "metadata": {},
   "outputs": [
    {
     "name": "stdout",
     "output_type": "stream",
     "text": [
      "# A tibble: 2 x 9\n",
      "  Levels                     N  Mean    SD Median   IQR   Min   Max Missing\n",
      "  <fct>                  <int> <dbl> <dbl>  <dbl> <dbl> <dbl> <dbl>   <int>\n",
      "1 No grade progression     129  14.1  23.8      6  14       0   155      29\n",
      "2 With grade progression    14  18.2  15.4     15  19.5     2    50       4\n",
      "\n",
      "\tWilcoxon rank sum test with continuity correction\n",
      "\n",
      "data:  x by y\n",
      "W = 341.5, p-value = 0.09946\n",
      "alternative hypothesis: true location shift is not equal to 0\n",
      "\n"
     ]
    }
   ],
   "source": [
    "OUTCOME %>% summary_bi(cd8_intratumoral, progression_grade_any)"
   ]
  },
  {
   "cell_type": "markdown",
   "metadata": {},
   "source": [
    "#### CD8+ peritumoral lymphocytes"
   ]
  },
  {
   "cell_type": "code",
   "execution_count": 25,
   "metadata": {},
   "outputs": [
    {
     "name": "stdout",
     "output_type": "stream",
     "text": [
      "# A tibble: 2 x 9\n",
      "  Levels                     N  Mean    SD Median   IQR   Min   Max Missing\n",
      "  <fct>                  <int> <dbl> <dbl>  <dbl> <dbl> <dbl> <dbl>   <int>\n",
      "1 No grade progression     129  46.9  51.3   31.5    63     0   216      17\n",
      "2 With grade progression    14  34.2  44.9   19      31     0   164       2\n",
      "\n",
      "\tWilcoxon rank sum test with continuity correction\n",
      "\n",
      "data:  x by y\n",
      "W = 766.5, p-value = 0.4268\n",
      "alternative hypothesis: true location shift is not equal to 0\n",
      "\n"
     ]
    }
   ],
   "source": [
    "OUTCOME %>% summary_bi(cd8_peritumoral, progression_grade_any)"
   ]
  },
  {
   "cell_type": "markdown",
   "metadata": {},
   "source": [
    "#### CD8+/Ki67+ intratumoral lymphocytes"
   ]
  },
  {
   "cell_type": "code",
   "execution_count": 26,
   "metadata": {},
   "outputs": [
    {
     "name": "stdout",
     "output_type": "stream",
     "text": [
      "# A tibble: 2 x 9\n",
      "  Levels                     N  Mean    SD Median   IQR   Min   Max Missing\n",
      "  <fct>                  <int> <dbl> <dbl>  <dbl> <dbl> <dbl> <dbl>   <int>\n",
      "1 No grade progression     129   0.6 1.35       0     1     0    10      29\n",
      "2 With grade progression    14   0.3 0.949      0     0     0     3       4\n",
      "\n",
      "\tWilcoxon rank sum test with continuity correction\n",
      "\n",
      "data:  x by y\n",
      "W = 598, p-value = 0.2089\n",
      "alternative hypothesis: true location shift is not equal to 0\n",
      "\n"
     ]
    }
   ],
   "source": [
    "OUTCOME %>% summary_bi(cd8ki67_intratumoral, progression_grade_any)"
   ]
  },
  {
   "cell_type": "markdown",
   "metadata": {},
   "source": [
    "#### CD8+/Ki67+ peritumoral lymphocytes"
   ]
  },
  {
   "cell_type": "code",
   "execution_count": 27,
   "metadata": {},
   "outputs": [
    {
     "name": "stdout",
     "output_type": "stream",
     "text": [
      "# A tibble: 2 x 9\n",
      "  Levels                     N  Mean    SD Median   IQR   Min   Max Missing\n",
      "  <fct>                  <int> <dbl> <dbl>  <dbl> <dbl> <dbl> <dbl>   <int>\n",
      "1 No grade progression     129 0.327 0.725      0  0        0     4      16\n",
      "2 With grade progression    14 0.25  0.452      0  0.25     0     1       2\n",
      "\n",
      "\tWilcoxon rank sum test with continuity correction\n",
      "\n",
      "data:  x by y\n",
      "W = 673.5, p-value = 0.9636\n",
      "alternative hypothesis: true location shift is not equal to 0\n",
      "\n"
     ]
    }
   ],
   "source": [
    "OUTCOME %>% summary_bi(cd8ki67_peritumoral, progression_grade_any)"
   ]
  },
  {
   "cell_type": "markdown",
   "metadata": {},
   "source": [
    "### Tumor stage progression at next time"
   ]
  },
  {
   "cell_type": "markdown",
   "metadata": {},
   "source": [
    "#### CD8+ intratumoral lymphocytes"
   ]
  },
  {
   "cell_type": "code",
   "execution_count": 28,
   "metadata": {},
   "outputs": [
    {
     "name": "stdout",
     "output_type": "stream",
     "text": [
      "# A tibble: 3 x 9\n",
      "  Levels                     N  Mean    SD Median   IQR   Min   Max Missing\n",
      "  <fct>                  <int> <dbl> <dbl>  <dbl> <dbl> <dbl> <dbl>   <int>\n",
      "1 No stage progression     113  16.2 25.1     7.5  17.5     0   155      23\n",
      "2 With stage progression    10   6.2  7.26    3    13       0    15       5\n",
      "3 <NA>                      20   7.4  8.58    3    10       0    28       5\n",
      "\n",
      "\tWilcoxon rank sum test with continuity correction\n",
      "\n",
      "data:  x by y\n",
      "W = 295.5, p-value = 0.2422\n",
      "alternative hypothesis: true location shift is not equal to 0\n",
      "\n"
     ]
    }
   ],
   "source": [
    "OUTCOME %>% summary_bi(cd8_intratumoral, progression_stage_next)"
   ]
  },
  {
   "cell_type": "markdown",
   "metadata": {},
   "source": [
    "#### CD8+ peritumoral lymphocytes"
   ]
  },
  {
   "cell_type": "code",
   "execution_count": 29,
   "metadata": {},
   "outputs": [
    {
     "name": "stdout",
     "output_type": "stream",
     "text": [
      "# A tibble: 3 x 9\n",
      "  Levels                     N  Mean    SD Median   IQR   Min   Max Missing\n",
      "  <fct>                  <int> <dbl> <dbl>  <dbl> <dbl> <dbl> <dbl>   <int>\n",
      "1 No stage progression     113  46.6  52.3     31  55.2     0   216      13\n",
      "2 With stage progression    10  35.3  46.6     17  33       0   130       3\n",
      "3 <NA>                      20  44.4  44.3     32  66       1   156       3\n",
      "\n",
      "\tWilcoxon rank sum test with continuity correction\n",
      "\n",
      "data:  x by y\n",
      "W = 403.5, p-value = 0.5041\n",
      "alternative hypothesis: true location shift is not equal to 0\n",
      "\n"
     ]
    }
   ],
   "source": [
    "OUTCOME %>% summary_bi(cd8_peritumoral, progression_stage_next)"
   ]
  },
  {
   "cell_type": "markdown",
   "metadata": {},
   "source": [
    "#### CD8+/Ki67+ intratumoral lymphocytes"
   ]
  },
  {
   "cell_type": "code",
   "execution_count": 30,
   "metadata": {},
   "outputs": [
    {
     "name": "stdout",
     "output_type": "stream",
     "text": [
      "# A tibble: 3 x 9\n",
      "  Levels                     N  Mean    SD Median   IQR   Min   Max Missing\n",
      "  <fct>                  <int> <dbl> <dbl>  <dbl> <dbl> <dbl> <dbl>   <int>\n",
      "1 No stage progression     113 0.633 1.40       0     1     0    10      23\n",
      "2 With stage progression    10 0.4   0.894      0     0     0     2       5\n",
      "3 <NA>                      20 0.267 0.799      0     0     0     3       5\n",
      "\n",
      "\tWilcoxon rank sum test with continuity correction\n",
      "\n",
      "data:  x by y\n",
      "W = 248, p-value = 0.6507\n",
      "alternative hypothesis: true location shift is not equal to 0\n",
      "\n"
     ]
    }
   ],
   "source": [
    "OUTCOME %>% summary_bi(cd8ki67_intratumoral, progression_stage_next)"
   ]
  },
  {
   "cell_type": "markdown",
   "metadata": {},
   "source": [
    "#### CD8+/Ki67+ peritumoral lymphocytes"
   ]
  },
  {
   "cell_type": "code",
   "execution_count": 31,
   "metadata": {},
   "outputs": [
    {
     "name": "stdout",
     "output_type": "stream",
     "text": [
      "# A tibble: 3 x 9\n",
      "  Levels                     N  Mean    SD Median   IQR   Min   Max Missing\n",
      "  <fct>                  <int> <dbl> <dbl>  <dbl> <dbl> <dbl> <dbl>   <int>\n",
      "1 No stage progression     113 0.337 0.752      0     0     0     4      12\n",
      "2 With stage progression    10 0.143 0.378      0     0     0     1       3\n",
      "3 <NA>                      20 0.294 0.470      0     1     0     1       3\n",
      "\n",
      "\tWilcoxon rank sum test with continuity correction\n",
      "\n",
      "data:  x by y\n",
      "W = 386.5, p-value = 0.5756\n",
      "alternative hypothesis: true location shift is not equal to 0\n",
      "\n"
     ]
    }
   ],
   "source": [
    "OUTCOME %>% summary_bi(cd8ki67_peritumoral, progression_stage_next)"
   ]
  },
  {
   "cell_type": "markdown",
   "metadata": {},
   "source": [
    "### Tumor stage progression at any time"
   ]
  },
  {
   "cell_type": "markdown",
   "metadata": {},
   "source": [
    "#### CD8+ intratumoral lymphocytes"
   ]
  },
  {
   "cell_type": "code",
   "execution_count": 32,
   "metadata": {},
   "outputs": [
    {
     "name": "stdout",
     "output_type": "stream",
     "text": [
      "# A tibble: 2 x 9\n",
      "  Levels                     N  Mean    SD Median   IQR   Min   Max Missing\n",
      "  <fct>                  <int> <dbl> <dbl>  <dbl> <dbl> <dbl> <dbl>   <int>\n",
      "1 No stage progression     125  14.0  19.8    7.5  15.2     0   137      29\n",
      "2 With stage progression    18  17.7  40.4    3    13.2     0   155       4\n",
      "\n",
      "\tWilcoxon rank sum test with continuity correction\n",
      "\n",
      "data:  x by y\n",
      "W = 764, p-value = 0.4105\n",
      "alternative hypothesis: true location shift is not equal to 0\n",
      "\n"
     ]
    }
   ],
   "source": [
    "OUTCOME %>% summary_bi(cd8_intratumoral, progression_stage_any)"
   ]
  },
  {
   "cell_type": "markdown",
   "metadata": {},
   "source": [
    "#### CD8+ peritumoral lymphocytes"
   ]
  },
  {
   "cell_type": "code",
   "execution_count": 33,
   "metadata": {},
   "outputs": [
    {
     "name": "stdout",
     "output_type": "stream",
     "text": [
      "# A tibble: 2 x 9\n",
      "  Levels                     N  Mean    SD Median   IQR   Min   Max Missing\n",
      "  <fct>                  <int> <dbl> <dbl>  <dbl> <dbl> <dbl> <dbl>   <int>\n",
      "1 No stage progression     125  44.9  50.3     31  54.5     0   216      18\n",
      "2 With stage progression    18  50.8  54.2     20  64       3   164       1\n",
      "\n",
      "\tWilcoxon rank sum test with continuity correction\n",
      "\n",
      "data:  x by y\n",
      "W = 827, p-value = 0.5512\n",
      "alternative hypothesis: true location shift is not equal to 0\n",
      "\n"
     ]
    }
   ],
   "source": [
    "OUTCOME %>% summary_bi(cd8_peritumoral, progression_stage_any)"
   ]
  },
  {
   "cell_type": "markdown",
   "metadata": {},
   "source": [
    "#### CD8+/Ki67+ intratumoral lymphocytes"
   ]
  },
  {
   "cell_type": "code",
   "execution_count": 34,
   "metadata": {},
   "outputs": [
    {
     "name": "stdout",
     "output_type": "stream",
     "text": [
      "# A tibble: 2 x 9\n",
      "  Levels                     N  Mean    SD Median   IQR   Min   Max Missing\n",
      "  <fct>                  <int> <dbl> <dbl>  <dbl> <dbl> <dbl> <dbl>   <int>\n",
      "1 No stage progression     125 0.604 1.38       0     1     0    10      29\n",
      "2 With stage progression    18 0.357 0.745      0     0     0     2       4\n",
      "\n",
      "\tWilcoxon rank sum test with continuity correction\n",
      "\n",
      "data:  x by y\n",
      "W = 730.5, p-value = 0.519\n",
      "alternative hypothesis: true location shift is not equal to 0\n",
      "\n"
     ]
    }
   ],
   "source": [
    "OUTCOME %>% summary_bi(cd8ki67_intratumoral, progression_stage_any)"
   ]
  },
  {
   "cell_type": "markdown",
   "metadata": {},
   "source": [
    "#### CD8+/Ki67+ peritumoral lymphocytes"
   ]
  },
  {
   "cell_type": "code",
   "execution_count": 35,
   "metadata": {},
   "outputs": [
    {
     "name": "stdout",
     "output_type": "stream",
     "text": [
      "# A tibble: 2 x 9\n",
      "  Levels                     N  Mean    SD Median   IQR   Min   Max Missing\n",
      "  <fct>                  <int> <dbl> <dbl>  <dbl> <dbl> <dbl> <dbl>   <int>\n",
      "1 No stage progression     125 0.352 0.740      0  0.25     0     4      17\n",
      "2 With stage progression    18 0.118 0.332      0  0        0     1       1\n",
      "\n",
      "\tWilcoxon rank sum test with continuity correction\n",
      "\n",
      "data:  x by y\n",
      "W = 1045.5, p-value = 0.2136\n",
      "alternative hypothesis: true location shift is not equal to 0\n",
      "\n"
     ]
    }
   ],
   "source": [
    "OUTCOME %>% summary_bi(cd8ki67_peritumoral, progression_stage_any)"
   ]
  }
 ],
 "metadata": {
  "kernelspec": {
   "display_name": "R",
   "language": "R",
   "name": "ir"
  },
  "language_info": {
   "codemirror_mode": "r",
   "file_extension": ".r",
   "mimetype": "text/x-r-source",
   "name": "R",
   "pygments_lexer": "r",
   "version": "3.5.3"
  },
  "toc": {
   "base_numbering": 1,
   "nav_menu": {},
   "number_sections": true,
   "sideBar": true,
   "skip_h1_title": true,
   "title_cell": "CD8/Ki67 expression",
   "title_sidebar": "Contents",
   "toc_cell": false,
   "toc_position": {},
   "toc_section_display": true,
   "toc_window_display": true
  }
 },
 "nbformat": 4,
 "nbformat_minor": 2
}
