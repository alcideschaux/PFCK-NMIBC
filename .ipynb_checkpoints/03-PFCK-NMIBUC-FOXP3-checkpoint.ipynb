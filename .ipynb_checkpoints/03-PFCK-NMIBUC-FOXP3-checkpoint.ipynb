{
 "cells": [
  {
   "cell_type": "markdown",
   "metadata": {},
   "source": [
    "# FOXP3 expression"
   ]
  },
  {
   "cell_type": "code",
   "execution_count": 1,
   "metadata": {},
   "outputs": [
    {
     "name": "stdout",
     "output_type": "stream",
     "text": [
      "Observations: 461\n",
      "Variables: 14\n",
      "$ sp_id                 <fct> 05-S-4662, 05-S-4662, 05-S-4662, 05-S-9869, 07-…\n",
      "$ histo_code            <ord> High-grade, High-grade, High-grade, Normal, Low…\n",
      "$ foxp3_lymph_tumor     <int> 1, 6, 1, NA, NA, 0, 0, 1, 1, NA, 0, 1, 0, 0, NA…\n",
      "$ foxp3_lymph_stroma    <int> 30, 7, 53, NA, 183, 12, 0, 28, 6, 0, 4, 9, 15, …\n",
      "$ foxp3_lymph_intensity <fct> Strong staining, Strong staining, Strong staini…\n",
      "$ foxp3_tumor_count     <int> 0, 0, 0, NA, NA, 0, 0, 0, 0, NA, 0, 0, 0, 0, NA…\n",
      "$ foxp3_tumor_intensity <fct> NA, NA, NA, NA, NA, NA, NA, NA, NA, NA, NA, NA,…\n",
      "$ foxp3_tumor           <int> NA, NA, NA, NA, NA, NA, NA, NA, NA, NA, NA, NA,…\n",
      "$ pT_upstage_any_time   <fct> No stage progression, No stage progression, No …\n",
      "$ pT_upstage_next_time  <fct> No stage progression, No stage progression, No …\n",
      "$ rec_any_time          <fct> With tumor recurrence, With tumor recurrence, W…\n",
      "$ rec_next_time         <fct> No tumor recurrence, No tumor recurrence, No tu…\n",
      "$ grade_prog_any_time   <fct> No grade progression, No grade progression, No …\n",
      "$ grade_prog_next_time  <fct> No grade progression, No grade progression, No …\n"
     ]
    }
   ],
   "source": [
    "# Libraries\n",
    "suppressPackageStartupMessages(library(tidyverse))\n",
    "\n",
    "# Scripts for data analysis\n",
    "source(\"summaries.R\")\n",
    "\n",
    "# Global options\n",
    "options(warn = -1)\n",
    "\n",
    "# Data\n",
    "DF <- load(\"df.Rdata\")\n",
    "\n",
    "DATA <- DATA %>% \n",
    "    select(\n",
    "        sp_id,\n",
    "        histo_code,\n",
    "        foxp3_lymph_tumor:foxp3_tumor,\n",
    "        pT_upstage_any_time:grade_prog_next_time\n",
    "    )\n",
    "\n",
    "glimpse(DATA)"
   ]
  },
  {
   "cell_type": "markdown",
   "metadata": {},
   "source": [
    "## FOXP3 in tumor cells\n",
    "The analysis of FOXP3 expression was carried out at the TMA level."
   ]
  },
  {
   "cell_type": "markdown",
   "metadata": {},
   "source": [
    "### FOXP3+ tumor cells"
   ]
  },
  {
   "cell_type": "code",
   "execution_count": 2,
   "metadata": {},
   "outputs": [
    {
     "name": "stdout",
     "output_type": "stream",
     "text": [
      "    N    Mean       SD Median IQR Min Max Missing\n",
      "1 461 1.95092 10.10243      0   0   0  95     135\n"
     ]
    }
   ],
   "source": [
    "DATA %>% summary_num_x(foxp3_tumor_count)"
   ]
  },
  {
   "cell_type": "markdown",
   "metadata": {},
   "source": [
    "### FOXP3 intensity in tumor cells"
   ]
  },
  {
   "cell_type": "code",
   "execution_count": 3,
   "metadata": {},
   "outputs": [
    {
     "name": "stdout",
     "output_type": "stream",
     "text": [
      "# A tibble: 4 x 3\n",
      "  Levels                N  Freq\n",
      "  <fct>             <int> <dbl>\n",
      "1 No staining           1   0.2\n",
      "2 Weak staining        19   4.1\n",
      "3 Moderate staining     7   1.5\n",
      "4 <NA>                434  94.1\n"
     ]
    }
   ],
   "source": [
    "DATA %>% summary_fct_x(foxp3_tumor_intensity)"
   ]
  },
  {
   "cell_type": "markdown",
   "metadata": {},
   "source": [
    "## FOXP3 in intratumoral lymphocytes\n",
    "The analysis of FOXP3 expression was carried out at the TMA level."
   ]
  },
  {
   "cell_type": "markdown",
   "metadata": {},
   "source": [
    "### FOXP3+ intratumoral lymphocytes"
   ]
  },
  {
   "cell_type": "code",
   "execution_count": 4,
   "metadata": {},
   "outputs": [
    {
     "name": "stdout",
     "output_type": "stream",
     "text": [
      "    N     Mean       SD Median IQR Min Max Missing\n",
      "1 461 2.519757 5.483379      1   3   0  66     132\n"
     ]
    }
   ],
   "source": [
    "DATA %>% summary_num_x(foxp3_lymph_tumor)"
   ]
  },
  {
   "cell_type": "markdown",
   "metadata": {},
   "source": [
    "### FOXP3+ peritumoral lymphocytes"
   ]
  },
  {
   "cell_type": "code",
   "execution_count": 5,
   "metadata": {},
   "outputs": [
    {
     "name": "stdout",
     "output_type": "stream",
     "text": [
      "    N     Mean       SD Median IQR Min Max Missing\n",
      "1 461 30.57568 49.59985      9  34   0 361      58\n"
     ]
    }
   ],
   "source": [
    "DATA %>% summary_num_x(foxp3_lymph_stroma)"
   ]
  },
  {
   "cell_type": "markdown",
   "metadata": {},
   "source": [
    "### FOXP3 intensity in lymphocytes"
   ]
  },
  {
   "cell_type": "code",
   "execution_count": 6,
   "metadata": {},
   "outputs": [
    {
     "name": "stdout",
     "output_type": "stream",
     "text": [
      "# A tibble: 5 x 3\n",
      "  Levels                N  Freq\n",
      "  <fct>             <int> <dbl>\n",
      "1 No staining           2   0.4\n",
      "2 Weak staining         1   0.2\n",
      "3 Moderate staining   123  26.7\n",
      "4 Strong staining     214  46.4\n",
      "5 <NA>                121  26.2\n"
     ]
    }
   ],
   "source": [
    "DATA %>% summary_fct_x(foxp3_lymph_intensity)"
   ]
  },
  {
   "cell_type": "markdown",
   "metadata": {},
   "source": [
    "## FOXP3 expression by histology\n",
    "The analysis of FOXP3 expression was carried out at the TMA level."
   ]
  },
  {
   "cell_type": "code",
   "execution_count": 7,
   "metadata": {},
   "outputs": [],
   "source": [
    "# Recoding levels of histo_code\n",
    "DATA <- DATA %>% \n",
    "    mutate(\n",
    "        histo_code = fct_collapse(histo_code,\n",
    "            \"Nontumor\" = c(\"Normal\", \"Papillary hyperplasia\"),\n",
    "            \"CIS\" = c(\"CIS\", \"Dysplasia\"),\n",
    "            \"LG\" = \"Low-grade\",\n",
    "            \"HG\" = \"High-grade\"\n",
    "        ),\n",
    "        histo_code = fct_relevel(histo_code,\n",
    "            c(\"Nontumor\", \"CIS\", \"LG\", \"HG\")\n",
    "        )\n",
    "    )"
   ]
  },
  {
   "cell_type": "markdown",
   "metadata": {},
   "source": [
    "### FOXP3+ tumor cells"
   ]
  },
  {
   "cell_type": "code",
   "execution_count": 8,
   "metadata": {},
   "outputs": [
    {
     "name": "stdout",
     "output_type": "stream",
     "text": [
      "# A tibble: 5 x 9\n",
      "  Levels       N  Mean    SD Median   IQR   Min   Max Missing\n",
      "  <ord>    <int> <dbl> <dbl>  <dbl> <dbl> <dbl> <dbl>   <int>\n",
      "1 Nontumor    48  0    NA         0     0     0     0      47\n",
      "2 CIS         21  0     0         0     0     0     0      11\n",
      "3 LG         116  2.68 12.1       0     0     0    95      26\n",
      "4 HG         168  1.45  8.57      0     0     0    82      35\n",
      "5 Invasive   108  2.20 10.6       0     0     0    73      16\n",
      "\n",
      "\tKruskal-Wallis rank sum test\n",
      "\n",
      "data:  x by y\n",
      "Kruskal-Wallis chi-squared = 3.088, df = 4, p-value = 0.5432\n",
      "\n",
      "\n",
      "\tPairwise comparisons using Wilcoxon rank sum test \n",
      "\n",
      "data:  x and y \n",
      "\n",
      "         Nontumor CIS LG HG\n",
      "CIS      -        -   -  - \n",
      "LG       1        1   -  - \n",
      "HG       1        1   1  - \n",
      "Invasive 1        1   1  1 \n",
      "\n",
      "P value adjustment method: bonferroni \n"
     ]
    }
   ],
   "source": [
    "DATA %>% summary_bi(foxp3_tumor_count, histo_code)"
   ]
  },
  {
   "cell_type": "markdown",
   "metadata": {},
   "source": [
    "### FOXP3 intensity in tumor cells"
   ]
  },
  {
   "cell_type": "code",
   "execution_count": 9,
   "metadata": {},
   "outputs": [
    {
     "name": "stdout",
     "output_type": "stream",
     "text": [
      "                   \n",
      "                    Nontumor CIS  LG  HG Invasive\n",
      "  No staining              0   0   1   0        0\n",
      "  Weak staining            0   0   6   6        7\n",
      "  Moderate staining        0   0   3   2        2\n",
      "  <NA>                    48  21 106 160       99\n",
      "\n",
      " Percentage by columns                   \n",
      "                    Nontumor   CIS    LG    HG Invasive\n",
      "  No staining            0.0   0.0   0.9   0.0      0.0\n",
      "  Weak staining          0.0   0.0   5.2   3.6      6.5\n",
      "  Moderate staining      0.0   0.0   2.6   1.2      1.9\n",
      "  <NA>                 100.0 100.0  91.4  95.2     91.7\n",
      "\n",
      " Percentage by rows                   \n",
      "                    Nontumor   CIS    LG    HG Invasive\n",
      "  No staining            0.0   0.0 100.0   0.0      0.0\n",
      "  Weak staining          0.0   0.0  31.6  31.6     36.8\n",
      "  Moderate staining      0.0   0.0  42.9  28.6     28.6\n",
      "  <NA>                  11.1   4.8  24.4  36.9     22.8\n",
      "\n",
      "\tPearson's Chi-squared test\n",
      "\n",
      "data:  x and y\n",
      "X-squared = 2.0617, df = 4, p-value = 0.7244\n",
      "\n"
     ]
    }
   ],
   "source": [
    "DATA %>% summary_contingency(foxp3_tumor_intensity, histo_code)"
   ]
  },
  {
   "cell_type": "markdown",
   "metadata": {},
   "source": [
    "### FOXP3+ intratumoral lymphocytes"
   ]
  },
  {
   "cell_type": "code",
   "execution_count": 10,
   "metadata": {},
   "outputs": [
    {
     "name": "stdout",
     "output_type": "stream",
     "text": [
      "# A tibble: 5 x 9\n",
      "  Levels       N   Mean     SD Median   IQR   Min   Max Missing\n",
      "  <ord>    <int>  <dbl>  <dbl>  <dbl> <dbl> <dbl> <dbl>   <int>\n",
      "1 Nontumor    48 17     NA         17   0      17    17      47\n",
      "2 CIS         21  0.727  0.905      1   1       0     3      10\n",
      "3 LG         116  1.80   4.02       0   1.5     0    22      25\n",
      "4 HG         168  2.24   6.33       1   2       0    66      34\n",
      "5 Invasive   108  3.70   5.39       2   4       0    25      16\n",
      "\n",
      "\tKruskal-Wallis rank sum test\n",
      "\n",
      "data:  x by y\n",
      "Kruskal-Wallis chi-squared = 19.071, df = 4, p-value = 0.0007611\n",
      "\n",
      "\n",
      "\tPairwise comparisons using Wilcoxon rank sum test \n",
      "\n",
      "data:  x and y \n",
      "\n",
      "         Nontumor CIS    LG     HG    \n",
      "CIS      1.0000   -      -      -     \n",
      "LG       0.6530   1.0000 -      -     \n",
      "HG       0.7843   1.0000 0.9562 -     \n",
      "Invasive 1.0000   0.6514 0.0024 0.0585\n",
      "\n",
      "P value adjustment method: bonferroni \n"
     ]
    }
   ],
   "source": [
    "DATA %>% summary_bi(foxp3_lymph_tumor, histo_code)"
   ]
  },
  {
   "cell_type": "markdown",
   "metadata": {},
   "source": [
    "### FOXP3+ peritumoral lymphocytes"
   ]
  },
  {
   "cell_type": "code",
   "execution_count": 11,
   "metadata": {},
   "outputs": [
    {
     "name": "stdout",
     "output_type": "stream",
     "text": [
      "# A tibble: 5 x 9\n",
      "  Levels       N  Mean    SD Median   IQR   Min   Max Missing\n",
      "  <ord>    <int> <dbl> <dbl>  <dbl> <dbl> <dbl> <dbl>   <int>\n",
      "1 Nontumor    48  43.5  57.6   13.5  69.2     0   153      38\n",
      "2 CIS         21  35.3  35.6   28    24       0   135       0\n",
      "3 LG         116  24.4  46.0    5    18       0   195       3\n",
      "4 HG         168  32.2  57.2    8    28.8     0   361      12\n",
      "5 Invasive   108  32.7  42.3   17    44.5     0   244       5\n",
      "\n",
      "\tKruskal-Wallis rank sum test\n",
      "\n",
      "data:  x by y\n",
      "Kruskal-Wallis chi-squared = 16.15, df = 4, p-value = 0.002825\n",
      "\n",
      "\n",
      "\tPairwise comparisons using Wilcoxon rank sum test \n",
      "\n",
      "data:  x and y \n",
      "\n",
      "         Nontumor CIS    LG     HG    \n",
      "CIS      1.0000   -      -      -     \n",
      "LG       1.0000   0.0049 -      -     \n",
      "HG       1.0000   0.0891 0.4543 -     \n",
      "Invasive 1.0000   1.0000 0.0569 1.0000\n",
      "\n",
      "P value adjustment method: bonferroni \n"
     ]
    }
   ],
   "source": [
    "DATA %>% summary_bi(foxp3_lymph_stroma, histo_code)"
   ]
  },
  {
   "cell_type": "markdown",
   "metadata": {},
   "source": [
    "### FOXP3 intensity in lymphocytes"
   ]
  },
  {
   "cell_type": "code",
   "execution_count": 12,
   "metadata": {},
   "outputs": [
    {
     "name": "stdout",
     "output_type": "stream",
     "text": [
      "                   \n",
      "                    Nontumor CIS LG HG Invasive\n",
      "  No staining              0   0  1  0        1\n",
      "  Weak staining            0   0  0  1        0\n",
      "  Moderate staining        6   7 43 38       29\n",
      "  Strong staining          2  13 45 92       62\n",
      "  <NA>                    40   1 27 37       16\n",
      "\n",
      " Percentage by columns                   \n",
      "                    Nontumor  CIS   LG   HG Invasive\n",
      "  No staining            0.0  0.0  0.9  0.0      0.9\n",
      "  Weak staining          0.0  0.0  0.0  0.6      0.0\n",
      "  Moderate staining     12.5 33.3 37.1 22.6     26.9\n",
      "  Strong staining        4.2 61.9 38.8 54.8     57.4\n",
      "  <NA>                  83.3  4.8 23.3 22.0     14.8\n",
      "\n",
      " Percentage by rows                   \n",
      "                    Nontumor   CIS    LG    HG Invasive\n",
      "  No staining            0.0   0.0  50.0   0.0     50.0\n",
      "  Weak staining          0.0   0.0   0.0 100.0      0.0\n",
      "  Moderate staining      4.9   5.7  35.0  30.9     23.6\n",
      "  Strong staining        0.9   6.1  21.0  43.0     29.0\n",
      "  <NA>                  33.1   0.8  22.3  30.6     13.2\n",
      "\n",
      "\tPearson's Chi-squared test\n",
      "\n",
      "data:  x and y\n",
      "X-squared = 18.136, df = 12, p-value = 0.1116\n",
      "\n"
     ]
    }
   ],
   "source": [
    "DATA %>% summary_contingency(foxp3_lymph_intensity, histo_code)"
   ]
  },
  {
   "cell_type": "markdown",
   "metadata": {},
   "source": [
    "## FOXP3 expression and outcome\n",
    "The outcome analysis was carried out at the case level. PD-L1 expression per case was summarized considering the maximum expression across all TMA spots from the case."
   ]
  },
  {
   "cell_type": "code",
   "execution_count": 13,
   "metadata": {},
   "outputs": [
    {
     "name": "stdout",
     "output_type": "stream",
     "text": [
      "Observations: 143\n",
      "Variables: 10\n",
      "$ sp_id                  <fct> 01-S-10015, 01-S-7500, 01-S-9347, 02-S-2362, 0…\n",
      "$ foxp3_tumor            <dbl> 0, 0, 21, NA, 82, 0, NA, 2, 0, 0, 0, 0, 0, 0, …\n",
      "$ foxp3_intratumoral     <dbl> 4, 3, 2, NA, 0, 0, NA, 0, 0, 8, 0, 1, 1, 2, 0,…\n",
      "$ foxp3_peritumoral      <dbl> 186, 11, 22, 128, 11, 0, 16, 123, 55, 18, 0, 4…\n",
      "$ recurrence_next        <fct> No tumor recurrence, With tumor recurrence, Wi…\n",
      "$ recurrence_any         <fct> With tumor recurrence, With tumor recurrence, …\n",
      "$ progression_grade_next <fct> No grade progression, No grade progression, No…\n",
      "$ progression_grade_any  <fct> No grade progression, No grade progression, No…\n",
      "$ progression_stage_next <fct> No stage progression, No stage progression, No…\n",
      "$ progression_stage_any  <fct> No stage progression, No stage progression, No…\n"
     ]
    }
   ],
   "source": [
    "OUTCOME <- DATA %>% \n",
    "    group_by(sp_id) %>% \n",
    "    summarize(\n",
    "        foxp3_tumor = quantile(foxp3_tumor_count, probs = 1, na.rm = TRUE),\n",
    "        foxp3_intratumoral = quantile(foxp3_lymph_tumor, probs = 1, na.rm = TRUE),\n",
    "        foxp3_peritumoral = quantile(foxp3_lymph_stroma, probs = 1, na.rm = TRUE),\n",
    "        recurrence_next = unique(rec_next_time),\n",
    "        recurrence_any = unique(rec_any_time),\n",
    "        progression_grade_next = unique(grade_prog_next_time),\n",
    "        progression_grade_any = unique(grade_prog_any_time),\n",
    "        progression_stage_next = unique(pT_upstage_next_time),\n",
    "        progression_stage_any = unique(pT_upstage_any_time),\n",
    "    )\n",
    "\n",
    "glimpse(OUTCOME)"
   ]
  },
  {
   "cell_type": "markdown",
   "metadata": {},
   "source": [
    "### Tumor recurrence at next time"
   ]
  },
  {
   "cell_type": "markdown",
   "metadata": {},
   "source": [
    "#### FOXP3+ tumor cells"
   ]
  },
  {
   "cell_type": "code",
   "execution_count": 14,
   "metadata": {},
   "outputs": [
    {
     "name": "stdout",
     "output_type": "stream",
     "text": [
      "# A tibble: 3 x 9\n",
      "  Levels                    N  Mean    SD Median   IQR   Min   Max Missing\n",
      "  <fct>                 <int> <dbl> <dbl>  <dbl> <dbl> <dbl> <dbl>   <int>\n",
      "1 No tumor recurrence      51  3.76  11.9      0     0     0    53      18\n",
      "2 With tumor recurrence    72  4.14  16.1      0     0     0    95       9\n",
      "3 <NA>                     20  0      0        0     0     0     0       5\n",
      "\n",
      "\tWilcoxon rank sum test with continuity correction\n",
      "\n",
      "data:  x by y\n",
      "W = 1036.5, p-value = 0.9774\n",
      "alternative hypothesis: true location shift is not equal to 0\n",
      "\n"
     ]
    }
   ],
   "source": [
    "OUTCOME %>% summary_bi(foxp3_tumor, recurrence_next)"
   ]
  },
  {
   "cell_type": "markdown",
   "metadata": {},
   "source": [
    "#### FOXP3+ intratumoral lymphocytes"
   ]
  },
  {
   "cell_type": "code",
   "execution_count": 15,
   "metadata": {},
   "outputs": [
    {
     "name": "stdout",
     "output_type": "stream",
     "text": [
      "# A tibble: 3 x 9\n",
      "  Levels                    N  Mean    SD Median   IQR   Min   Max Missing\n",
      "  <fct>                 <int> <dbl> <dbl>  <dbl> <dbl> <dbl> <dbl>   <int>\n",
      "1 No tumor recurrence      51  4.42  5.95    2    4        0    22      18\n",
      "2 With tumor recurrence    72  4.11  9.21    1.5  4        0    66       8\n",
      "3 <NA>                     20  4.44  5.57    1.5  7.75     0    17       4\n",
      "\n",
      "\tWilcoxon rank sum test with continuity correction\n",
      "\n",
      "data:  x by y\n",
      "W = 1201, p-value = 0.2608\n",
      "alternative hypothesis: true location shift is not equal to 0\n",
      "\n"
     ]
    }
   ],
   "source": [
    "OUTCOME %>% summary_bi(foxp3_intratumoral, recurrence_next)"
   ]
  },
  {
   "cell_type": "markdown",
   "metadata": {},
   "source": [
    "#### FOXP3+ peritumoral lymphocytes"
   ]
  },
  {
   "cell_type": "code",
   "execution_count": 16,
   "metadata": {},
   "outputs": [
    {
     "name": "stdout",
     "output_type": "stream",
     "text": [
      "# A tibble: 3 x 9\n",
      "  Levels                    N  Mean    SD Median   IQR   Min   Max Missing\n",
      "  <fct>                 <int> <dbl> <dbl>  <dbl> <dbl> <dbl> <dbl>   <int>\n",
      "1 No tumor recurrence      51  59.2  66.6     33  80.5     0   270      11\n",
      "2 With tumor recurrence    72  54.1  68.4     22  93       0   361       3\n",
      "3 <NA>                     20  63.3  60.0     26 108       1   157       3\n",
      "\n",
      "\tWilcoxon rank sum test with continuity correction\n",
      "\n",
      "data:  x by y\n",
      "W = 1540.5, p-value = 0.3142\n",
      "alternative hypothesis: true location shift is not equal to 0\n",
      "\n"
     ]
    }
   ],
   "source": [
    "OUTCOME %>% summary_bi(foxp3_peritumoral, recurrence_next)"
   ]
  },
  {
   "cell_type": "markdown",
   "metadata": {},
   "source": [
    "### Tumor recurrence at any time"
   ]
  },
  {
   "cell_type": "markdown",
   "metadata": {},
   "source": [
    "#### FOXP3+ tumor cells"
   ]
  },
  {
   "cell_type": "code",
   "execution_count": 17,
   "metadata": {},
   "outputs": [
    {
     "name": "stdout",
     "output_type": "stream",
     "text": [
      "# A tibble: 2 x 9\n",
      "  Levels                    N  Mean    SD Median   IQR   Min   Max Missing\n",
      "  <fct>                 <int> <dbl> <dbl>  <dbl> <dbl> <dbl> <dbl>   <int>\n",
      "1 No tumor recurrence      15  1.5   3.51      0   0.5     0    10       7\n",
      "2 With tumor recurrence   128  3.62 14.2       0   0       0    95      25\n",
      "\n",
      "\tWilcoxon rank sum test with continuity correction\n",
      "\n",
      "data:  x by y\n",
      "W = 445.5, p-value = 0.5576\n",
      "alternative hypothesis: true location shift is not equal to 0\n",
      "\n"
     ]
    }
   ],
   "source": [
    "OUTCOME %>% summary_bi(foxp3_tumor, recurrence_any)"
   ]
  },
  {
   "cell_type": "markdown",
   "metadata": {},
   "source": [
    "#### FOXP3+ intratumoral lymphocytes"
   ]
  },
  {
   "cell_type": "code",
   "execution_count": 18,
   "metadata": {},
   "outputs": [
    {
     "name": "stdout",
     "output_type": "stream",
     "text": [
      "# A tibble: 2 x 9\n",
      "  Levels                    N  Mean    SD Median   IQR   Min   Max Missing\n",
      "  <fct>                 <int> <dbl> <dbl>  <dbl> <dbl> <dbl> <dbl>   <int>\n",
      "1 No tumor recurrence      15  4.5   4.69    2.5   3.5     1    12       7\n",
      "2 With tumor recurrence   128  4.23  8.08    1     5       0    66      23\n",
      "\n",
      "\tWilcoxon rank sum test with continuity correction\n",
      "\n",
      "data:  x by y\n",
      "W = 531, p-value = 0.2064\n",
      "alternative hypothesis: true location shift is not equal to 0\n",
      "\n"
     ]
    }
   ],
   "source": [
    "OUTCOME %>% summary_bi(foxp3_intratumoral, recurrence_any)"
   ]
  },
  {
   "cell_type": "markdown",
   "metadata": {},
   "source": [
    "#### FOXP3+ peritumoral lymphocytes"
   ]
  },
  {
   "cell_type": "code",
   "execution_count": 19,
   "metadata": {},
   "outputs": [
    {
     "name": "stdout",
     "output_type": "stream",
     "text": [
      "# A tibble: 2 x 9\n",
      "  Levels                    N  Mean    SD Median   IQR   Min   Max Missing\n",
      "  <fct>                 <int> <dbl> <dbl>  <dbl> <dbl> <dbl> <dbl>   <int>\n",
      "1 No tumor recurrence      15  46.2  49.1     19    51    11   155       6\n",
      "2 With tumor recurrence   128  57.8  67.6     27    98     0   361      11\n",
      "\n",
      "\tWilcoxon rank sum test with continuity correction\n",
      "\n",
      "data:  x by y\n",
      "W = 540.5, p-value = 0.8982\n",
      "alternative hypothesis: true location shift is not equal to 0\n",
      "\n"
     ]
    }
   ],
   "source": [
    "OUTCOME %>% summary_bi(foxp3_peritumoral, recurrence_any)"
   ]
  },
  {
   "cell_type": "markdown",
   "metadata": {},
   "source": [
    "### Tumor grade progression at next time"
   ]
  },
  {
   "cell_type": "markdown",
   "metadata": {},
   "source": [
    "#### FOXP3+ tumor cells"
   ]
  },
  {
   "cell_type": "code",
   "execution_count": 20,
   "metadata": {},
   "outputs": [
    {
     "name": "stdout",
     "output_type": "stream",
     "text": [
      "# A tibble: 3 x 9\n",
      "  Levels                     N  Mean    SD Median   IQR   Min   Max Missing\n",
      "  <fct>                  <int> <dbl> <dbl>  <dbl> <dbl> <dbl> <dbl>   <int>\n",
      "1 No grade progression     118  2.99  11.4      0     0     0    82      23\n",
      "2 With grade progression     9 20.2   41.9      0     6     0    95       4\n",
      "3 <NA>                      16  0      0        0     0     0     0       5\n",
      "\n",
      "\tWilcoxon rank sum test with continuity correction\n",
      "\n",
      "data:  x by y\n",
      "W = 176.5, p-value = 0.1531\n",
      "alternative hypothesis: true location shift is not equal to 0\n",
      "\n"
     ]
    }
   ],
   "source": [
    "OUTCOME %>% summary_bi(foxp3_tumor, progression_grade_next)"
   ]
  },
  {
   "cell_type": "markdown",
   "metadata": {},
   "source": [
    "#### FOXP3+ intratumoral lymphocytes"
   ]
  },
  {
   "cell_type": "code",
   "execution_count": 21,
   "metadata": {},
   "outputs": [
    {
     "name": "stdout",
     "output_type": "stream",
     "text": [
      "# A tibble: 3 x 9\n",
      "  Levels                     N  Mean    SD Median   IQR   Min   Max Missing\n",
      "  <fct>                  <int> <dbl> <dbl>  <dbl> <dbl> <dbl> <dbl>   <int>\n",
      "1 No grade progression     118  4.35  8.29    2    4        0    66      22\n",
      "2 With grade progression     9  1.8   2.68    0    3        0     6       4\n",
      "3 <NA>                      16  4.42  5.60    1.5  7.75     0    17       4\n",
      "\n",
      "\tWilcoxon rank sum test with continuity correction\n",
      "\n",
      "data:  x by y\n",
      "W = 299.5, p-value = 0.3459\n",
      "alternative hypothesis: true location shift is not equal to 0\n",
      "\n"
     ]
    }
   ],
   "source": [
    "OUTCOME %>% summary_bi(foxp3_intratumoral, progression_grade_next)"
   ]
  },
  {
   "cell_type": "markdown",
   "metadata": {},
   "source": [
    "#### FOXP3+ peritumoral lymphocytes"
   ]
  },
  {
   "cell_type": "code",
   "execution_count": 22,
   "metadata": {},
   "outputs": [
    {
     "name": "stdout",
     "output_type": "stream",
     "text": [
      "# A tibble: 3 x 9\n",
      "  Levels                     N  Mean    SD Median   IQR   Min   Max Missing\n",
      "  <fct>                  <int> <dbl> <dbl>  <dbl> <dbl> <dbl> <dbl>   <int>\n",
      "1 No grade progression     118  57.9  67.9   28    95       0   361      11\n",
      "2 With grade progression     9  14.5  14.8   11.5  15.8     0    40       3\n",
      "3 <NA>                      16  69    63.4   37   119       1   157       3\n",
      "\n",
      "\tWilcoxon rank sum test with continuity correction\n",
      "\n",
      "data:  x by y\n",
      "W = 446, p-value = 0.1108\n",
      "alternative hypothesis: true location shift is not equal to 0\n",
      "\n"
     ]
    }
   ],
   "source": [
    "OUTCOME %>% summary_bi(foxp3_peritumoral, progression_grade_next)"
   ]
  },
  {
   "cell_type": "markdown",
   "metadata": {},
   "source": [
    "### Tumor grade progression at any time"
   ]
  },
  {
   "cell_type": "markdown",
   "metadata": {},
   "source": [
    "#### FOXP3+ tumor cells"
   ]
  },
  {
   "cell_type": "code",
   "execution_count": 23,
   "metadata": {},
   "outputs": [
    {
     "name": "stdout",
     "output_type": "stream",
     "text": [
      "# A tibble: 2 x 9\n",
      "  Levels                     N  Mean    SD Median   IQR   Min   Max Missing\n",
      "  <fct>                  <int> <dbl> <dbl>  <dbl> <dbl> <dbl> <dbl>   <int>\n",
      "1 No grade progression     129  2.74  11.0      0   0       0    82      28\n",
      "2 With grade progression    14 10.8   29.7      0   4.5     0    95       4\n",
      "\n",
      "\tWilcoxon rank sum test with continuity correction\n",
      "\n",
      "data:  x by y\n",
      "W = 423.5, p-value = 0.1936\n",
      "alternative hypothesis: true location shift is not equal to 0\n",
      "\n"
     ]
    }
   ],
   "source": [
    "OUTCOME %>% summary_bi(foxp3_tumor, progression_grade_any)"
   ]
  },
  {
   "cell_type": "markdown",
   "metadata": {},
   "source": [
    "#### FOXP3+ intratumoral lymphocytes"
   ]
  },
  {
   "cell_type": "code",
   "execution_count": 24,
   "metadata": {},
   "outputs": [
    {
     "name": "stdout",
     "output_type": "stream",
     "text": [
      "# A tibble: 2 x 9\n",
      "  Levels                     N  Mean    SD Median   IQR   Min   Max Missing\n",
      "  <fct>                  <int> <dbl> <dbl>  <dbl> <dbl> <dbl> <dbl>   <int>\n",
      "1 No grade progression     129  4.39  8.13      2   5       0    66      26\n",
      "2 With grade progression    14  2.8   4.34      1   2.5     0    14       4\n",
      "\n",
      "\tWilcoxon rank sum test with continuity correction\n",
      "\n",
      "data:  x by y\n",
      "W = 562, p-value = 0.6311\n",
      "alternative hypothesis: true location shift is not equal to 0\n",
      "\n"
     ]
    }
   ],
   "source": [
    "OUTCOME %>% summary_bi(foxp3_intratumoral, progression_grade_any)"
   ]
  },
  {
   "cell_type": "markdown",
   "metadata": {},
   "source": [
    "#### FOXP3+ peritumoral lymphocytes"
   ]
  },
  {
   "cell_type": "code",
   "execution_count": 25,
   "metadata": {},
   "outputs": [
    {
     "name": "stdout",
     "output_type": "stream",
     "text": [
      "# A tibble: 2 x 9\n",
      "  Levels                     N  Mean    SD Median   IQR   Min   Max Missing\n",
      "  <fct>                  <int> <dbl> <dbl>  <dbl> <dbl> <dbl> <dbl>   <int>\n",
      "1 No grade progression     129  61.5  68.1     33  99.5     0   361      15\n",
      "2 With grade progression    14  13.9  12.7     13  19.5     0    37       2\n",
      "\n",
      "\tWilcoxon rank sum test with continuity correction\n",
      "\n",
      "data:  x by y\n",
      "W = 973.5, p-value = 0.01628\n",
      "alternative hypothesis: true location shift is not equal to 0\n",
      "\n"
     ]
    }
   ],
   "source": [
    "OUTCOME %>% summary_bi(foxp3_peritumoral, progression_grade_any)"
   ]
  },
  {
   "cell_type": "markdown",
   "metadata": {},
   "source": [
    "### Tumor stage progression at next time"
   ]
  },
  {
   "cell_type": "markdown",
   "metadata": {},
   "source": [
    "#### FOXP3+ tumor cells"
   ]
  },
  {
   "cell_type": "code",
   "execution_count": 26,
   "metadata": {},
   "outputs": [
    {
     "name": "stdout",
     "output_type": "stream",
     "text": [
      "# A tibble: 3 x 9\n",
      "  Levels                     N  Mean    SD Median   IQR   Min   Max Missing\n",
      "  <fct>                  <int> <dbl> <dbl>  <dbl> <dbl> <dbl> <dbl>   <int>\n",
      "1 No stage progression     113  3.19  11.6      0     0     0    82      22\n",
      "2 With stage progression    10 19     42.5      0     0     0    95       5\n",
      "3 <NA>                      20  0      0        0     0     0     0       5\n",
      "\n",
      "\tWilcoxon rank sum test with continuity correction\n",
      "\n",
      "data:  x by y\n",
      "W = 216, p-value = 0.7899\n",
      "alternative hypothesis: true location shift is not equal to 0\n",
      "\n"
     ]
    }
   ],
   "source": [
    "OUTCOME %>% summary_bi(foxp3_tumor, progression_stage_next)"
   ]
  },
  {
   "cell_type": "markdown",
   "metadata": {},
   "source": [
    "#### FOXP3+ intratumoral lymphocytes"
   ]
  },
  {
   "cell_type": "code",
   "execution_count": 27,
   "metadata": {},
   "outputs": [
    {
     "name": "stdout",
     "output_type": "stream",
     "text": [
      "# A tibble: 3 x 9\n",
      "  Levels                     N  Mean    SD Median   IQR   Min   Max Missing\n",
      "  <fct>                  <int> <dbl> <dbl>  <dbl> <dbl> <dbl> <dbl>   <int>\n",
      "1 No stage progression     113  4.26  8.23    2    4.25     0    66      21\n",
      "2 With stage progression    10  4.2   8.84    0    1        0    20       5\n",
      "3 <NA>                      20  4.19  5.54    1.5  7        0    17       4\n",
      "\n",
      "\tWilcoxon rank sum test with continuity correction\n",
      "\n",
      "data:  x by y\n",
      "W = 292.5, p-value = 0.3013\n",
      "alternative hypothesis: true location shift is not equal to 0\n",
      "\n"
     ]
    }
   ],
   "source": [
    "OUTCOME %>% summary_bi(foxp3_intratumoral, progression_stage_next)"
   ]
  },
  {
   "cell_type": "markdown",
   "metadata": {},
   "source": [
    "#### FOXP3+ peritumoral lymphocytes"
   ]
  },
  {
   "cell_type": "code",
   "execution_count": 28,
   "metadata": {},
   "outputs": [
    {
     "name": "stdout",
     "output_type": "stream",
     "text": [
      "# A tibble: 3 x 9\n",
      "  Levels                     N  Mean    SD Median   IQR   Min   Max Missing\n",
      "  <fct>                  <int> <dbl> <dbl>  <dbl> <dbl> <dbl> <dbl>   <int>\n",
      "1 No stage progression     113  56.5  67.0     28  93       0   361      11\n",
      "2 With stage progression    10  59    86.3     16  71.5     0   220       3\n",
      "3 <NA>                      20  59    57.4     26 104       1   157       3\n",
      "\n",
      "\tWilcoxon rank sum test with continuity correction\n",
      "\n",
      "data:  x by y\n",
      "W = 381, p-value = 0.7714\n",
      "alternative hypothesis: true location shift is not equal to 0\n",
      "\n"
     ]
    }
   ],
   "source": [
    "OUTCOME %>% summary_bi(foxp3_peritumoral, progression_stage_next)"
   ]
  },
  {
   "cell_type": "markdown",
   "metadata": {},
   "source": [
    "### Tumor stage progression at any time"
   ]
  },
  {
   "cell_type": "markdown",
   "metadata": {},
   "source": [
    "#### FOXP3+ tumor cells"
   ]
  },
  {
   "cell_type": "code",
   "execution_count": 29,
   "metadata": {},
   "outputs": [
    {
     "name": "stdout",
     "output_type": "stream",
     "text": [
      "# A tibble: 2 x 9\n",
      "  Levels                     N  Mean    SD Median   IQR   Min   Max Missing\n",
      "  <fct>                  <int> <dbl> <dbl>  <dbl> <dbl> <dbl> <dbl>   <int>\n",
      "1 No stage progression     125  2.07  7.78      0     0     0    53      28\n",
      "2 With stage progression    18 13.1  32.1       0     0     0    95       4\n",
      "\n",
      "\tWilcoxon rank sum test with continuity correction\n",
      "\n",
      "data:  x by y\n",
      "W = 623.5, p-value = 0.4465\n",
      "alternative hypothesis: true location shift is not equal to 0\n",
      "\n"
     ]
    }
   ],
   "source": [
    "OUTCOME %>% summary_bi(foxp3_tumor, progression_stage_any)"
   ]
  },
  {
   "cell_type": "markdown",
   "metadata": {},
   "source": [
    "#### FOXP3+ intratumoral lymphocytes"
   ]
  },
  {
   "cell_type": "code",
   "execution_count": 30,
   "metadata": {},
   "outputs": [
    {
     "name": "stdout",
     "output_type": "stream",
     "text": [
      "# A tibble: 2 x 9\n",
      "  Levels                     N  Mean    SD Median   IQR   Min   Max Missing\n",
      "  <fct>                  <int> <dbl> <dbl>  <dbl> <dbl> <dbl> <dbl>   <int>\n",
      "1 No stage progression     125  4.13  8.09      2     4     0    66      26\n",
      "2 With stage progression    18  5.07  6.27      2     8     0    20       4\n",
      "\n",
      "\tWilcoxon rank sum test with continuity correction\n",
      "\n",
      "data:  x by y\n",
      "W = 639.5, p-value = 0.6371\n",
      "alternative hypothesis: true location shift is not equal to 0\n",
      "\n"
     ]
    }
   ],
   "source": [
    "OUTCOME %>% summary_bi(foxp3_intratumoral, progression_stage_any)"
   ]
  },
  {
   "cell_type": "markdown",
   "metadata": {},
   "source": [
    "#### FOXP3+ peritumoral lymphocytes"
   ]
  },
  {
   "cell_type": "code",
   "execution_count": 31,
   "metadata": {},
   "outputs": [
    {
     "name": "stdout",
     "output_type": "stream",
     "text": [
      "# A tibble: 2 x 9\n",
      "  Levels                     N  Mean    SD Median   IQR   Min   Max Missing\n",
      "  <fct>                  <int> <dbl> <dbl>  <dbl> <dbl> <dbl> <dbl>   <int>\n",
      "1 No stage progression     125  57.3  67.3     28    98     0   361      16\n",
      "2 With stage progression    18  54.6  61.6     25    79     0   220       1\n",
      "\n",
      "\tWilcoxon rank sum test with continuity correction\n",
      "\n",
      "data:  x by y\n",
      "W = 881, p-value = 0.7479\n",
      "alternative hypothesis: true location shift is not equal to 0\n",
      "\n"
     ]
    }
   ],
   "source": [
    "OUTCOME %>% summary_bi(foxp3_peritumoral, progression_stage_any)"
   ]
  }
 ],
 "metadata": {
  "kernelspec": {
   "display_name": "R",
   "language": "R",
   "name": "ir"
  },
  "language_info": {
   "codemirror_mode": "r",
   "file_extension": ".r",
   "mimetype": "text/x-r-source",
   "name": "R",
   "pygments_lexer": "r",
   "version": "3.5.3"
  },
  "toc": {
   "base_numbering": 1,
   "nav_menu": {},
   "number_sections": true,
   "sideBar": true,
   "skip_h1_title": true,
   "title_cell": "Table of Contents",
   "title_sidebar": "Contents",
   "toc_cell": false,
   "toc_position": {
    "height": "calc(100% - 180px)",
    "left": "10px",
    "top": "150px",
    "width": "336px"
   },
   "toc_section_display": true,
   "toc_window_display": false
  }
 },
 "nbformat": 4,
 "nbformat_minor": 2
}
