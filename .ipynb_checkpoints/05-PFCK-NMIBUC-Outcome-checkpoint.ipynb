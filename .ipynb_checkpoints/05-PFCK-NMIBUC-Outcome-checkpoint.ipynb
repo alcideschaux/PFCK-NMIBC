{
 "cells": [
  {
   "cell_type": "markdown",
   "metadata": {},
   "source": [
    "# Outcome analysis: Relative risks\n",
    "\n",
    "**PD-L1 expression:** PD-L1 expression was evaluated in tumor cells and in peritumoral lymphocytes. PD-L1 expression per case was summarized using the maximum percentage of positive tumor cells and positive peritumoral lymphocytes across TMAs. Expression was then categorized in low/high using 1% and 5% as the cutoff points.\n",
    "\n",
    "**FOXP3, CD8 and Ki67:** FOXP3, CD8 and Ki67 were evaluated in intratumoral and peritumoral lymphocytes. Expression per case was summarized using the maximum counts of positive cells across TMAs. FOXP3, CD8 and Ki67 expression per case was summarized in low/high density using the median count of positive lymphocytes per high power field.\n",
    "\n",
    "**FOXP3/CD8 ratio:** FOXP3 and CD8 maximum counts were scaled and centered to build an expression ratio of FOXP3/CD8, which was categorized as \"> 1\" or \"<= 1\". For intratumoral and peritumoral lymphocytes, \"> 1\" meant that the median count (scaled and centered) of FOXP3+ lymphocytes was higher than the median count (scaled and centered) of CD8+ lymphocytes.  \n",
    "\n",
    "**Data analysis:** Relative risks were estimated by unconditional maximum likelihood estimation with 95% confidence intervals calculated using normal approximation (Wald). P values were calculated using Barnard's unconditional exact test."
   ]
  },
  {
   "cell_type": "code",
   "execution_count": 1,
   "metadata": {
    "scrolled": false
   },
   "outputs": [
    {
     "name": "stdout",
     "output_type": "stream",
     "text": [
      "Observations: 143\n",
      "Variables: 27\n",
      "$ sp_id                        <fct> 01-S-10015, 01-S-7500, 01-S-9347, 02-S-2…\n",
      "$ pdl1_tumor                   <dbl> 100.00, 0.00, 0.00, 0.00, 0.00, 0.00, NA…\n",
      "$ pdl1_lymph                   <dbl> 80, NA, 1, 5, NA, NA, NA, 5, 0, 1, NA, 3…\n",
      "$ foxp3_intratumoral           <dbl> 4, 3, 2, NA, 0, 0, NA, 0, 0, 8, 0, 1, 1,…\n",
      "$ foxp3_peritumoral            <dbl> 186, 11, 22, 128, 11, 0, 16, 123, 55, 18…\n",
      "$ cd8_intratumoral             <dbl> 14, 2, 15, NA, 1, 2, NA, 1, 0, 7, 0, 1, …\n",
      "$ cd8ki67_intratumoral         <dbl> 1, 0, 0, NA, 0, 0, NA, 0, 0, 1, 0, 0, 0,…\n",
      "$ cd8_peritumoral              <dbl> 216, 30, 8, 87, 3, 7, 12, 136, 45, 6, 8,…\n",
      "$ cd8ki67_peritumoral          <dbl> 1, 0, 1, 0, 0, 0, 0, 0, 0, 0, 0, 1, 0, 0…\n",
      "$ recurrence_next              <fct> No tumor recurrence, With tumor recurren…\n",
      "$ recurrence_any               <fct> With tumor recurrence, With tumor recurr…\n",
      "$ progression_stage_next       <fct> No stage progression, No stage progressi…\n",
      "$ progression_stage_any        <fct> No stage progression, No stage progressi…\n",
      "$ progression_grade_next       <fct> No grade progression, No grade progressi…\n",
      "$ progression_grade_any        <fct> No grade progression, No grade progressi…\n",
      "$ pdl1_tumor_pos_1             <ord> High PD-L1 (>1%), Low PD-L1 (0%-1%), Low…\n",
      "$ pdl1_tumor_pos_5             <ord> High PD-L1 (>5%), Low PD-L1 (0%-5%), Low…\n",
      "$ pdl1_lymph_pos_1             <ord> High PD-L1 (>1%), NA, Low PD-L1 (0%-1%),…\n",
      "$ pdl1_lymph_pos_5             <ord> High PD-L1 (>5%), NA, Low PD-L1 (0%-5%),…\n",
      "$ foxp3_intratumoral_density   <ord> High FOXP3 density, High FOXP3 density, …\n",
      "$ foxp3_peritumoral_density    <ord> High FOXP3 density, Low FOXP3 density, L…\n",
      "$ cd8_intratumoral_density     <ord> High CD8 density, Low CD8 density, High …\n",
      "$ cd8ki67_intratumoral_density <ord> High CD8 density, Low CD8 density, Low C…\n",
      "$ cd8_peritumoral_density      <ord> High CD8 density, Low CD8 density, Low C…\n",
      "$ cd8ki67_peritumoral_density  <ord> High CD8 density, Low CD8 density, High …\n",
      "$ foxp3cd8_intratumoral        <ord> FOXP3/CD8 <= 1, FOXP3/CD8 > 1, FOXP3/CD8…\n",
      "$ foxp3cd8_peritumoral         <ord> FOXP3/CD8 <= 1, FOXP3/CD8 <= 1, FOXP3/CD…\n"
     ]
    }
   ],
   "source": [
    "# Libraries\n",
    "suppressPackageStartupMessages(library(tidyverse))\n",
    "library(epitools)\n",
    "library(Exact)\n",
    "\n",
    "options(warn = -1)\n",
    "\n",
    "# Scripts\n",
    "source(\"summaries.R\")\n",
    "\n",
    "# Loading the datasets\n",
    "load(\"df.Rdata\")\n",
    "\n",
    "# Grouping the data by SP cases\n",
    "OUTCOME  <- DATA %>% \n",
    "    group_by(sp_id) %>% \n",
    "# Summarizing using the maximum value\n",
    "    summarize(\n",
    "        # Using the maximum value to summarize expression\n",
    "        pdl1_tumor = quantile(pdl1_tumor, probs = 1, na.rm = TRUE),\n",
    "        pdl1_lymph = quantile(pdl1_stroma, probs = 1, na.rm = TRUE),\n",
    "        foxp3_intratumoral = quantile(foxp3_lymph_tumor, probs = 1, na.rm = TRUE),\n",
    "        foxp3_peritumoral = quantile(foxp3_lymph_stroma, probs = 1, na.rm = TRUE),\n",
    "        cd8_intratumoral =  quantile(cd8_tumor_count, probs = 1, na.rm = TRUE),\n",
    "        cd8ki67_intratumoral =  quantile(cd8ki67_tumor_count, probs = 1, na.rm = TRUE),\n",
    "        cd8_peritumoral =  quantile(cd8_stroma_count, probs = 1, na.rm = TRUE),\n",
    "        cd8ki67_peritumoral =  quantile(cd8ki67_stroma_count, probs = 1, na.rm = TRUE),\n",
    "        # Outcome summary\n",
    "        recurrence_next = unique(rec_next_time),\n",
    "        recurrence_any = unique(rec_any_time),\n",
    "        progression_stage_next = unique(pT_upstage_next_time),\n",
    "        progression_stage_any = unique(pT_upstage_any_time),\n",
    "        progression_grade_next = unique(grade_prog_next_time),\n",
    "        progression_grade_any = unique(grade_prog_any_time)\n",
    "    ) %>% \n",
    "# Creating categories of low/high expression/density\n",
    "    mutate(\n",
    "        # PD-L1 expression levels\n",
    "        pdl1_tumor_pos_1 = factor(\n",
    "            ifelse(pdl1_tumor > 1, \"High PD-L1 (>1%)\", \"Low PD-L1 (0%-1%)\"),\n",
    "            levels = c(\"Low PD-L1 (0%-1%)\", \"High PD-L1 (>1%)\"), ordered = TRUE\n",
    "        ),\n",
    "        pdl1_tumor_pos_5 = factor(\n",
    "            ifelse(pdl1_tumor > 5, \"High PD-L1 (>5%)\", \"Low PD-L1 (0%-5%)\"),\n",
    "            levels = c(\"Low PD-L1 (0%-5%)\", \"High PD-L1 (>5%)\"), ordered = TRUE\n",
    "        ),\n",
    "        pdl1_lymph_pos_1 = factor(\n",
    "            ifelse(pdl1_lymph > 1, \"High PD-L1 (>1%)\", \"Low PD-L1 (0%-1%)\"),\n",
    "            levels = c(\"Low PD-L1 (0%-1%)\", \"High PD-L1 (>1%)\"), ordered = TRUE\n",
    "        ),\n",
    "        pdl1_lymph_pos_5 = factor(\n",
    "            ifelse(pdl1_lymph > 5, \"High PD-L1 (>5%)\", \"Low PD-L1 (0%-5%)\"),\n",
    "            levels = c(\"Low PD-L1 (0%-5%)\", \"High PD-L1 (>5%)\"), ordered = TRUE\n",
    "        ),\n",
    "        # FOXP3 density with the median as the cutoff point\n",
    "        foxp3_intratumoral_density = factor(\n",
    "            ifelse(\n",
    "                foxp3_intratumoral > median(foxp3_intratumoral, na.rm = TRUE),\n",
    "                \"High FOXP3 density\", \"Low FOXP3 density\"\n",
    "            ),\n",
    "            levels = c(\"Low FOXP3 density\", \"High FOXP3 density\"), ordered = TRUE\n",
    "        ),\n",
    "        foxp3_peritumoral_density = factor(\n",
    "            ifelse(\n",
    "                foxp3_peritumoral > median(foxp3_peritumoral, na.rm = TRUE),\n",
    "                \"High FOXP3 density\", \"Low FOXP3 density\"\n",
    "            ),\n",
    "            levels = c(\"Low FOXP3 density\", \"High FOXP3 density\"), ordered = TRUE\n",
    "        ),\n",
    "        \n",
    "        # CD8 & Ki67 density with the median as the cutoff point\n",
    "        cd8_intratumoral_density = factor(\n",
    "            ifelse(\n",
    "                cd8_intratumoral > median(cd8_intratumoral, na.rm = TRUE),\n",
    "                \"High CD8 density\", \"Low CD8 density\"\n",
    "            ),\n",
    "            levels = c(\"Low CD8 density\", \"High CD8 density\"), ordered = TRUE\n",
    "        ),\n",
    "        cd8ki67_intratumoral_density = factor(\n",
    "            ifelse(\n",
    "                cd8ki67_intratumoral > median(cd8ki67_intratumoral, na.rm = TRUE),\n",
    "                \"High CD8 density\", \"Low CD8 density\"\n",
    "            ),\n",
    "            levels = c(\"Low CD8 density\", \"High CD8 density\"), ordered = TRUE\n",
    "        ),\n",
    "        cd8_peritumoral_density = factor(\n",
    "            ifelse(\n",
    "                cd8_peritumoral > median(cd8_peritumoral, na.rm = TRUE),\n",
    "                \"High CD8 density\", \"Low CD8 density\"\n",
    "            ),\n",
    "            levels = c(\"Low CD8 density\", \"High CD8 density\"), ordered = TRUE\n",
    "        ),\n",
    "        cd8ki67_peritumoral_density = factor(\n",
    "            ifelse(\n",
    "                cd8ki67_peritumoral > median(cd8ki67_peritumoral, na.rm = TRUE),\n",
    "                \"High CD8 density\", \"Low CD8 density\"\n",
    "            ),\n",
    "            levels = c(\"Low CD8 density\", \"High CD8 density\"), ordered = TRUE\n",
    "        ),\n",
    "        \n",
    "        # FOXP3/CD8 ratio\n",
    "        foxp3cd8_intratumoral = factor(\n",
    "            ifelse(\n",
    "                scale(foxp3_intratumoral) > scale(cd8_intratumoral),\n",
    "                \"FOXP3/CD8 > 1\", \"FOXP3/CD8 <= 1\"\n",
    "            ),\n",
    "            levels = c(\"FOXP3/CD8 <= 1\", \"FOXP3/CD8 > 1\"), ordered = TRUE\n",
    "        ),\n",
    "        foxp3cd8_peritumoral = factor(\n",
    "            ifelse(\n",
    "                scale(foxp3_peritumoral) > scale(cd8_peritumoral),\n",
    "                \"FOXP3/CD8 > 1\", \"FOXP3/CD8 <= 1\"\n",
    "            ),\n",
    "            levels = c(\"FOXP3/CD8 <= 1\", \"FOXP3/CD8 > 1\"), ordered = TRUE\n",
    "        )\n",
    "    )\n",
    "\n",
    "glimpse(OUTCOME)"
   ]
  },
  {
   "cell_type": "markdown",
   "metadata": {},
   "source": [
    "## PD-L1 expression in tumor cells\n",
    "### Tumor recurrence at next biopsy\n",
    "#### PD-L1 positivity > 1%"
   ]
  },
  {
   "cell_type": "code",
   "execution_count": 2,
   "metadata": {
    "scrolled": false
   },
   "outputs": [
    {
     "name": "stdout",
     "output_type": "stream",
     "text": [
      "                   Outcome\n",
      "Predictor           No tumor recurrence With tumor recurrence Total\n",
      "  Low PD-L1 (0%-1%)                  32                    50    82\n",
      "  High PD-L1 (>1%)                   12                    16    28\n",
      "  Total                              44                    66   110\n",
      "\n",
      "\tz-pooled\n",
      "\n",
      "data:  32 out of 82 vs. 12 out of 28\n",
      "test statistic = -0.35743, first sample size = 82, second sample size =\n",
      "28, p-value = 0.7391\n",
      "alternative hypothesis: true difference in proportion is not equal to 0\n",
      "sample estimates:\n",
      "difference in proportion \n",
      "             -0.03832753 \n",
      "\n",
      "                   risk ratio with 95% C.I.\n",
      "Predictor           estimate lower upper\n",
      "  Low PD-L1 (0%-1%)     1.00    NA    NA\n",
      "  High PD-L1 (>1%)      0.94  0.65  1.35\n"
     ]
    }
   ],
   "source": [
    "OUTCOME %>% RR(pdl1_tumor_pos_1, recurrence_next)"
   ]
  },
  {
   "cell_type": "markdown",
   "metadata": {},
   "source": [
    "#### PD-L1 positivity > 5%"
   ]
  },
  {
   "cell_type": "code",
   "execution_count": 3,
   "metadata": {
    "scrolled": false
   },
   "outputs": [
    {
     "name": "stdout",
     "output_type": "stream",
     "text": [
      "                   Outcome\n",
      "Predictor           No tumor recurrence With tumor recurrence Total\n",
      "  Low PD-L1 (0%-5%)                  36                    55    91\n",
      "  High PD-L1 (>5%)                    8                    11    19\n",
      "  Total                              44                    66   110\n",
      "\n",
      "\tz-pooled\n",
      "\n",
      "data:  36 out of 91 vs. 8 out of 19\n",
      "test statistic = -0.20595, first sample size = 91, second sample size =\n",
      "19, p-value = 0.8897\n",
      "alternative hypothesis: true difference in proportion is not equal to 0\n",
      "sample estimates:\n",
      "difference in proportion \n",
      "             -0.02544824 \n",
      "\n",
      "                   risk ratio with 95% C.I.\n",
      "Predictor           estimate lower upper\n",
      "  Low PD-L1 (0%-5%)     1.00    NA    NA\n",
      "  High PD-L1 (>5%)      0.96  0.63  1.45\n"
     ]
    }
   ],
   "source": [
    "OUTCOME %>% RR(pdl1_tumor_pos_5, recurrence_next)"
   ]
  },
  {
   "cell_type": "markdown",
   "metadata": {},
   "source": [
    "### Tumor recurrence at any biopsy\n",
    "#### PD-L1 positivity > 1%"
   ]
  },
  {
   "cell_type": "code",
   "execution_count": 4,
   "metadata": {
    "scrolled": false
   },
   "outputs": [
    {
     "name": "stdout",
     "output_type": "stream",
     "text": [
      "                   Outcome\n",
      "Predictor           No tumor recurrence With tumor recurrence Total\n",
      "  Low PD-L1 (0%-1%)                   6                    91    97\n",
      "  High PD-L1 (>1%)                    7                    24    31\n",
      "  Total                              13                   115   128\n",
      "\n",
      "\tz-pooled\n",
      "\n",
      "data:  6 out of 97 vs. 7 out of 31\n",
      "test statistic = -2.6307, first sample size = 97, second sample size =\n",
      "31, p-value = 0.008503\n",
      "alternative hypothesis: true difference in proportion is not equal to 0\n",
      "sample estimates:\n",
      "difference in proportion \n",
      "              -0.1639508 \n",
      "\n",
      "                   risk ratio with 95% C.I.\n",
      "Predictor           estimate lower upper\n",
      "  Low PD-L1 (0%-1%)     1.00    NA    NA\n",
      "  High PD-L1 (>1%)      0.83  0.68     1\n"
     ]
    }
   ],
   "source": [
    "OUTCOME %>% RR(pdl1_tumor_pos_1, recurrence_any)"
   ]
  },
  {
   "cell_type": "markdown",
   "metadata": {},
   "source": [
    "#### PD-L1 positivity > 5%"
   ]
  },
  {
   "cell_type": "code",
   "execution_count": 5,
   "metadata": {
    "scrolled": false
   },
   "outputs": [
    {
     "name": "stdout",
     "output_type": "stream",
     "text": [
      "                   Outcome\n",
      "Predictor           No tumor recurrence With tumor recurrence Total\n",
      "  Low PD-L1 (0%-5%)                   8                   100   108\n",
      "  High PD-L1 (>5%)                    5                    15    20\n",
      "  Total                              13                   115   128\n",
      "\n",
      "\tz-pooled\n",
      "\n",
      "data:  8 out of 108 vs. 5 out of 20\n",
      "test statistic = -2.3924, first sample size = 108, second sample size =\n",
      "20, p-value = 0.0255\n",
      "alternative hypothesis: true difference in proportion is not equal to 0\n",
      "sample estimates:\n",
      "difference in proportion \n",
      "              -0.1759259 \n",
      "\n",
      "                   risk ratio with 95% C.I.\n",
      "Predictor           estimate lower upper\n",
      "  Low PD-L1 (0%-5%)     1.00    NA    NA\n",
      "  High PD-L1 (>5%)      0.81  0.63  1.05\n"
     ]
    }
   ],
   "source": [
    "OUTCOME %>% RR(pdl1_tumor_pos_5, recurrence_any)"
   ]
  },
  {
   "cell_type": "markdown",
   "metadata": {},
   "source": [
    "### Stage progression at next biopsy\n",
    "#### PD-L1 positivity > 1%"
   ]
  },
  {
   "cell_type": "code",
   "execution_count": 6,
   "metadata": {
    "scrolled": false
   },
   "outputs": [
    {
     "name": "stdout",
     "output_type": "stream",
     "text": [
      "                   Outcome\n",
      "Predictor           No stage progression With stage progression Total\n",
      "  Low PD-L1 (0%-1%)                   77                      6    83\n",
      "  High PD-L1 (>1%)                    26                      1    27\n",
      "  Total                              103                      7   110\n",
      "\n",
      "\tz-pooled\n",
      "\n",
      "data:  77 out of 83 vs. 26 out of 27\n",
      "test statistic = -0.65183, first sample size = 83, second sample size =\n",
      "27, p-value = 0.5906\n",
      "alternative hypothesis: true difference in proportion is not equal to 0\n",
      "sample estimates:\n",
      "difference in proportion \n",
      "             -0.03525212 \n",
      "\n",
      "                   risk ratio with 95% C.I.\n",
      "Predictor           estimate lower upper\n",
      "  Low PD-L1 (0%-1%)     1.00    NA    NA\n",
      "  High PD-L1 (>1%)      0.51  0.06  4.07\n"
     ]
    }
   ],
   "source": [
    "OUTCOME %>% RR(pdl1_tumor_pos_1, progression_stage_next)"
   ]
  },
  {
   "cell_type": "markdown",
   "metadata": {},
   "source": [
    "#### PD-L1 positivity > 5%"
   ]
  },
  {
   "cell_type": "code",
   "execution_count": 7,
   "metadata": {
    "scrolled": false
   },
   "outputs": [
    {
     "name": "stdout",
     "output_type": "stream",
     "text": [
      "                   Outcome\n",
      "Predictor           No stage progression With stage progression Total\n",
      "  Low PD-L1 (0%-5%)                   85                      6    91\n",
      "  High PD-L1 (>5%)                    18                      1    19\n",
      "  Total                              103                      7   110\n",
      "\n",
      "\tz-pooled\n",
      "\n",
      "data:  85 out of 91 vs. 18 out of 19\n",
      "test statistic = -0.21605, first sample size = 91, second sample size =\n",
      "19, p-value = 0.8897\n",
      "alternative hypothesis: true difference in proportion is not equal to 0\n",
      "sample estimates:\n",
      "difference in proportion \n",
      "             -0.01330249 \n",
      "\n",
      "                   risk ratio with 95% C.I.\n",
      "Predictor           estimate lower upper\n",
      "  Low PD-L1 (0%-5%)      1.0    NA    NA\n",
      "  High PD-L1 (>5%)       0.8   0.1  6.25\n"
     ]
    }
   ],
   "source": [
    "OUTCOME %>% RR(pdl1_tumor_pos_5, progression_stage_next)"
   ]
  },
  {
   "cell_type": "markdown",
   "metadata": {},
   "source": [
    "### Stage progression at any biopsy\n",
    "#### PD-L1 expression > 1%"
   ]
  },
  {
   "cell_type": "code",
   "execution_count": 8,
   "metadata": {
    "scrolled": false
   },
   "outputs": [
    {
     "name": "stdout",
     "output_type": "stream",
     "text": [
      "                   Outcome\n",
      "Predictor           No stage progression With stage progression Total\n",
      "  Low PD-L1 (0%-1%)                   87                     10    97\n",
      "  High PD-L1 (>1%)                    25                      6    31\n",
      "  Total                              112                     16   128\n",
      "\n",
      "\tz-pooled\n",
      "\n",
      "data:  87 out of 97 vs. 25 out of 31\n",
      "test statistic = 1.3257, first sample size = 97, second sample size =\n",
      "31, p-value = 0.1966\n",
      "alternative hypothesis: true difference in proportion is not equal to 0\n",
      "sample estimates:\n",
      "difference in proportion \n",
      "               0.0904556 \n",
      "\n",
      "                   risk ratio with 95% C.I.\n",
      "Predictor           estimate lower upper\n",
      "  Low PD-L1 (0%-1%)     1.00    NA    NA\n",
      "  High PD-L1 (>1%)      1.88  0.74  4.75\n"
     ]
    }
   ],
   "source": [
    "OUTCOME %>% RR(pdl1_tumor_pos_1, progression_stage_any)"
   ]
  },
  {
   "cell_type": "markdown",
   "metadata": {},
   "source": [
    "#### PD-L1 expression > 5%"
   ]
  },
  {
   "cell_type": "code",
   "execution_count": 9,
   "metadata": {
    "scrolled": false
   },
   "outputs": [
    {
     "name": "stdout",
     "output_type": "stream",
     "text": [
      "                   Outcome\n",
      "Predictor           No stage progression With stage progression Total\n",
      "  Low PD-L1 (0%-5%)                   96                     12   108\n",
      "  High PD-L1 (>5%)                    16                      4    20\n",
      "  Total                              112                     16   128\n",
      "\n",
      "\tz-pooled\n",
      "\n",
      "data:  96 out of 108 vs. 16 out of 20\n",
      "test statistic = 1.1041, first sample size = 108, second sample size =\n",
      "20, p-value = 0.3071\n",
      "alternative hypothesis: true difference in proportion is not equal to 0\n",
      "sample estimates:\n",
      "difference in proportion \n",
      "              0.08888889 \n",
      "\n",
      "                   risk ratio with 95% C.I.\n",
      "Predictor           estimate lower upper\n",
      "  Low PD-L1 (0%-5%)      1.0    NA    NA\n",
      "  High PD-L1 (>5%)       1.8  0.65  5.02\n"
     ]
    }
   ],
   "source": [
    "OUTCOME %>% RR(pdl1_tumor_pos_5, progression_stage_any)"
   ]
  },
  {
   "cell_type": "markdown",
   "metadata": {},
   "source": [
    "### Grade progression at next biopsy\n",
    "#### PD-L1 expression > 1%"
   ]
  },
  {
   "cell_type": "code",
   "execution_count": 10,
   "metadata": {
    "scrolled": false
   },
   "outputs": [
    {
     "name": "stdout",
     "output_type": "stream",
     "text": [
      "                   Outcome\n",
      "Predictor           No grade progression With grade progression Total\n",
      "  Low PD-L1 (0%-1%)                   79                      6    85\n",
      "  High PD-L1 (>1%)                    28                      1    29\n",
      "  Total                              107                      7   114\n",
      "\n",
      "\tz-pooled\n",
      "\n",
      "data:  79 out of 85 vs. 28 out of 29\n",
      "test statistic = -0.69935, first sample size = 85, second sample size =\n",
      "29, p-value = 0.5912\n",
      "alternative hypothesis: true difference in proportion is not equal to 0\n",
      "sample estimates:\n",
      "difference in proportion \n",
      "             -0.03610548 \n",
      "\n",
      "                   risk ratio with 95% C.I.\n",
      "Predictor           estimate lower upper\n",
      "  Low PD-L1 (0%-1%)     1.00    NA    NA\n",
      "  High PD-L1 (>1%)      0.49  0.06  3.89\n"
     ]
    }
   ],
   "source": [
    "OUTCOME %>% RR(pdl1_tumor_pos_1, progression_grade_next)"
   ]
  },
  {
   "cell_type": "markdown",
   "metadata": {},
   "source": [
    "#### PD-L1 expression > 5%"
   ]
  },
  {
   "cell_type": "code",
   "execution_count": 11,
   "metadata": {
    "scrolled": false
   },
   "outputs": [
    {
     "name": "stdout",
     "output_type": "stream",
     "text": [
      "                   Outcome\n",
      "Predictor           No grade progression With grade progression Total\n",
      "  Low PD-L1 (0%-5%)                   88                      7    95\n",
      "  High PD-L1 (>5%)                    19                      0    19\n",
      "  Total                              107                      7   114\n",
      "\n",
      "\tz-pooled\n",
      "\n",
      "data:  88 out of 95 vs. 19 out of 19\n",
      "test statistic = -1.2213, first sample size = 95, second sample size =\n",
      "19, p-value = 0.2477\n",
      "alternative hypothesis: true difference in proportion is not equal to 0\n",
      "sample estimates:\n",
      "difference in proportion \n",
      "             -0.07368421 \n",
      "\n",
      "                   risk ratio with 95% C.I.\n",
      "Predictor           estimate lower upper\n",
      "  Low PD-L1 (0%-5%)        1    NA    NA\n",
      "  High PD-L1 (>5%)         0     0   NaN\n"
     ]
    }
   ],
   "source": [
    "OUTCOME %>% RR(pdl1_tumor_pos_5, progression_grade_next)"
   ]
  },
  {
   "cell_type": "markdown",
   "metadata": {},
   "source": [
    "### Grade progression at any biopsy\n",
    "#### PD-L1 expression > 1%¶"
   ]
  },
  {
   "cell_type": "code",
   "execution_count": 12,
   "metadata": {
    "scrolled": false
   },
   "outputs": [
    {
     "name": "stdout",
     "output_type": "stream",
     "text": [
      "                   Outcome\n",
      "Predictor           No grade progression With grade progression Total\n",
      "  Low PD-L1 (0%-1%)                   87                     10    97\n",
      "  High PD-L1 (>1%)                    28                      3    31\n",
      "  Total                              115                     13   128\n",
      "\n",
      "\tz-pooled\n",
      "\n",
      "data:  87 out of 97 vs. 28 out of 31\n",
      "test statistic = -0.10138, first sample size = 97, second sample size =\n",
      "31, p-value = 0.9386\n",
      "alternative hypothesis: true difference in proportion is not equal to 0\n",
      "sample estimates:\n",
      "difference in proportion \n",
      "             -0.00631859 \n",
      "\n",
      "                   risk ratio with 95% C.I.\n",
      "Predictor           estimate lower upper\n",
      "  Low PD-L1 (0%-1%)     1.00    NA    NA\n",
      "  High PD-L1 (>1%)      0.94  0.28   3.2\n"
     ]
    }
   ],
   "source": [
    "OUTCOME %>% RR(pdl1_tumor_pos_1, progression_grade_any)"
   ]
  },
  {
   "cell_type": "markdown",
   "metadata": {},
   "source": [
    "#### PD-L1 expression > 5%"
   ]
  },
  {
   "cell_type": "code",
   "execution_count": 13,
   "metadata": {
    "scrolled": false
   },
   "outputs": [
    {
     "name": "stdout",
     "output_type": "stream",
     "text": [
      "                   Outcome\n",
      "Predictor           No grade progression With grade progression Total\n",
      "  Low PD-L1 (0%-5%)                   97                     11   108\n",
      "  High PD-L1 (>5%)                    18                      2    20\n",
      "  Total                              115                     13   128\n",
      "\n",
      "\tz-pooled\n",
      "\n",
      "data:  97 out of 108 vs. 18 out of 20\n",
      "test statistic = -0.025184, first sample size = 108, second sample size\n",
      "= 20, p-value = 0.9997\n",
      "alternative hypothesis: true difference in proportion is not equal to 0\n",
      "sample estimates:\n",
      "difference in proportion \n",
      "            -0.001851852 \n",
      "\n",
      "                   risk ratio with 95% C.I.\n",
      "Predictor           estimate lower upper\n",
      "  Low PD-L1 (0%-5%)     1.00    NA    NA\n",
      "  High PD-L1 (>5%)      0.98  0.24   4.1\n"
     ]
    }
   ],
   "source": [
    "OUTCOME %>% RR(pdl1_tumor_pos_5, progression_grade_any)"
   ]
  },
  {
   "cell_type": "markdown",
   "metadata": {},
   "source": [
    "## PD-L1 expression in peritumoral lymphocytes\n",
    "### Recurrence at next biopsy\n",
    "#### PD-L1 expression > 1%"
   ]
  },
  {
   "cell_type": "code",
   "execution_count": 14,
   "metadata": {
    "scrolled": false
   },
   "outputs": [
    {
     "name": "stdout",
     "output_type": "stream",
     "text": [
      "                   Outcome\n",
      "Predictor           No tumor recurrence With tumor recurrence Total\n",
      "  Low PD-L1 (0%-1%)                  16                    24    40\n",
      "  High PD-L1 (>1%)                   23                    27    50\n",
      "  Total                              39                    51    90\n",
      "\n",
      "\tz-pooled\n",
      "\n",
      "data:  16 out of 40 vs. 23 out of 50\n",
      "test statistic = -0.57078, first sample size = 40, second sample size =\n",
      "50, p-value = 0.6068\n",
      "alternative hypothesis: true difference in proportion is not equal to 0\n",
      "sample estimates:\n",
      "difference in proportion \n",
      "                   -0.06 \n",
      "\n",
      "                   risk ratio with 95% C.I.\n",
      "Predictor           estimate lower upper\n",
      "  Low PD-L1 (0%-1%)      1.0    NA    NA\n",
      "  High PD-L1 (>1%)       0.9  0.63  1.29\n"
     ]
    }
   ],
   "source": [
    "OUTCOME %>% RR(pdl1_lymph_pos_1, recurrence_next)"
   ]
  },
  {
   "cell_type": "markdown",
   "metadata": {},
   "source": [
    "#### PD-L1 positivity > 5%"
   ]
  },
  {
   "cell_type": "code",
   "execution_count": 15,
   "metadata": {
    "scrolled": false
   },
   "outputs": [
    {
     "name": "stdout",
     "output_type": "stream",
     "text": [
      "                   Outcome\n",
      "Predictor           No tumor recurrence With tumor recurrence Total\n",
      "  Low PD-L1 (0%-5%)                  20                    31    51\n",
      "  High PD-L1 (>5%)                   19                    20    39\n",
      "  Total                              39                    51    90\n",
      "\n",
      "\tz-pooled\n",
      "\n",
      "data:  20 out of 51 vs. 19 out of 39\n",
      "test statistic = -0.90146, first sample size = 51, second sample size =\n",
      "39, p-value = 0.3812\n",
      "alternative hypothesis: true difference in proportion is not equal to 0\n",
      "sample estimates:\n",
      "difference in proportion \n",
      "             -0.09502262 \n",
      "\n",
      "                   risk ratio with 95% C.I.\n",
      "Predictor           estimate lower upper\n",
      "  Low PD-L1 (0%-5%)     1.00    NA    NA\n",
      "  High PD-L1 (>5%)      0.84  0.58  1.23\n"
     ]
    }
   ],
   "source": [
    "OUTCOME %>% RR(pdl1_lymph_pos_5, recurrence_next)"
   ]
  },
  {
   "cell_type": "markdown",
   "metadata": {},
   "source": [
    "### Recurrence at any biopsy\n",
    "#### PD-L1 positivity > 1%"
   ]
  },
  {
   "cell_type": "code",
   "execution_count": 16,
   "metadata": {
    "scrolled": false
   },
   "outputs": [
    {
     "name": "stdout",
     "output_type": "stream",
     "text": [
      "                   Outcome\n",
      "Predictor           No tumor recurrence With tumor recurrence Total\n",
      "  Low PD-L1 (0%-1%)                   5                    43    48\n",
      "  High PD-L1 (>1%)                    7                    50    57\n",
      "  Total                              12                    93   105\n",
      "\n",
      "\tz-pooled\n",
      "\n",
      "data:  5 out of 48 vs. 7 out of 57\n",
      "test statistic = -0.29907, first sample size = 48, second sample size =\n",
      "57, p-value = 0.7922\n",
      "alternative hypothesis: true difference in proportion is not equal to 0\n",
      "sample estimates:\n",
      "difference in proportion \n",
      "             -0.01864035 \n",
      "\n",
      "                   risk ratio with 95% C.I.\n",
      "Predictor           estimate lower upper\n",
      "  Low PD-L1 (0%-1%)     1.00    NA    NA\n",
      "  High PD-L1 (>1%)      0.98  0.85  1.12\n"
     ]
    }
   ],
   "source": [
    "OUTCOME %>% RR(pdl1_lymph_pos_1, recurrence_any)"
   ]
  },
  {
   "cell_type": "markdown",
   "metadata": {},
   "source": [
    "#### PD-L1 positivity > 5%"
   ]
  },
  {
   "cell_type": "code",
   "execution_count": 17,
   "metadata": {
    "scrolled": false
   },
   "outputs": [
    {
     "name": "stdout",
     "output_type": "stream",
     "text": [
      "                   Outcome\n",
      "Predictor           No tumor recurrence With tumor recurrence Total\n",
      "  Low PD-L1 (0%-5%)                   7                    53    60\n",
      "  High PD-L1 (>5%)                    5                    40    45\n",
      "  Total                              12                    93   105\n",
      "\n",
      "\tz-pooled\n",
      "\n",
      "data:  7 out of 60 vs. 5 out of 45\n",
      "test statistic = 0.088547, first sample size = 60, second sample size =\n",
      "45, p-value = 0.9655\n",
      "alternative hypothesis: true difference in proportion is not equal to 0\n",
      "sample estimates:\n",
      "difference in proportion \n",
      "             0.005555556 \n",
      "\n",
      "                   risk ratio with 95% C.I.\n",
      "Predictor           estimate lower upper\n",
      "  Low PD-L1 (0%-5%)     1.00    NA    NA\n",
      "  High PD-L1 (>5%)      1.01  0.88  1.16\n"
     ]
    }
   ],
   "source": [
    "OUTCOME %>% RR(pdl1_lymph_pos_5, recurrence_any)"
   ]
  },
  {
   "cell_type": "markdown",
   "metadata": {},
   "source": [
    "### Stage progression at next biopsy\n",
    "#### PD-L1 positivity > 1%"
   ]
  },
  {
   "cell_type": "code",
   "execution_count": 18,
   "metadata": {
    "scrolled": false
   },
   "outputs": [
    {
     "name": "stdout",
     "output_type": "stream",
     "text": [
      "                   Outcome\n",
      "Predictor           No stage progression With stage progression Total\n",
      "  Low PD-L1 (0%-1%)                   37                      3    40\n",
      "  High PD-L1 (>1%)                    49                      1    50\n",
      "  Total                               86                      4    90\n",
      "\n",
      "\tz-pooled\n",
      "\n",
      "data:  37 out of 40 vs. 49 out of 50\n",
      "test statistic = -1.2581, first sample size = 40, second sample size =\n",
      "50, p-value = 0.2615\n",
      "alternative hypothesis: true difference in proportion is not equal to 0\n",
      "sample estimates:\n",
      "difference in proportion \n",
      "                  -0.055 \n",
      "\n",
      "                   risk ratio with 95% C.I.\n",
      "Predictor           estimate lower upper\n",
      "  Low PD-L1 (0%-1%)     1.00    NA    NA\n",
      "  High PD-L1 (>1%)      0.27  0.03  2.47\n"
     ]
    }
   ],
   "source": [
    "OUTCOME %>% RR(pdl1_lymph_pos_1, progression_stage_next)"
   ]
  },
  {
   "cell_type": "markdown",
   "metadata": {},
   "source": [
    "#### PD-L1 positivity > 5%"
   ]
  },
  {
   "cell_type": "code",
   "execution_count": 19,
   "metadata": {
    "scrolled": false
   },
   "outputs": [
    {
     "name": "stdout",
     "output_type": "stream",
     "text": [
      "                   Outcome\n",
      "Predictor           No stage progression With stage progression Total\n",
      "  Low PD-L1 (0%-5%)                   48                      3    51\n",
      "  High PD-L1 (>5%)                    38                      1    39\n",
      "  Total                               86                      4    90\n",
      "\n",
      "\tz-pooled\n",
      "\n",
      "data:  48 out of 51 vs. 38 out of 39\n",
      "test statistic = -0.75695, first sample size = 51, second sample size =\n",
      "39, p-value = 0.6062\n",
      "alternative hypothesis: true difference in proportion is not equal to 0\n",
      "sample estimates:\n",
      "difference in proportion \n",
      "              -0.0331825 \n",
      "\n",
      "                   risk ratio with 95% C.I.\n",
      "Predictor           estimate lower upper\n",
      "  Low PD-L1 (0%-5%)     1.00    NA    NA\n",
      "  High PD-L1 (>5%)      0.44  0.05  4.03\n"
     ]
    }
   ],
   "source": [
    "OUTCOME %>% RR(pdl1_lymph_pos_5, progression_stage_next)"
   ]
  },
  {
   "cell_type": "markdown",
   "metadata": {},
   "source": [
    "### Stage progression at any biopsy\n",
    "#### PD-L1 positivity > 1%"
   ]
  },
  {
   "cell_type": "code",
   "execution_count": 20,
   "metadata": {
    "scrolled": false
   },
   "outputs": [
    {
     "name": "stdout",
     "output_type": "stream",
     "text": [
      "                   Outcome\n",
      "Predictor           No stage progression With stage progression Total\n",
      "  Low PD-L1 (0%-1%)                   46                      2    48\n",
      "  High PD-L1 (>1%)                    51                      6    57\n",
      "  Total                               97                      8   105\n",
      "\n",
      "\tz-pooled\n",
      "\n",
      "data:  46 out of 48 vs. 51 out of 57\n",
      "test statistic = 1.2236, first sample size = 48, second sample size =\n",
      "57, p-value = 0.24\n",
      "alternative hypothesis: true difference in proportion is not equal to 0\n",
      "sample estimates:\n",
      "difference in proportion \n",
      "              0.06359649 \n",
      "\n",
      "                   risk ratio with 95% C.I.\n",
      "Predictor           estimate lower upper\n",
      "  Low PD-L1 (0%-1%)     1.00    NA    NA\n",
      "  High PD-L1 (>1%)      2.53  0.53 11.95\n"
     ]
    }
   ],
   "source": [
    "OUTCOME %>% RR(pdl1_lymph_pos_1, progression_stage_any)"
   ]
  },
  {
   "cell_type": "markdown",
   "metadata": {},
   "source": [
    "#### PD-L1 positivity > 5%"
   ]
  },
  {
   "cell_type": "code",
   "execution_count": 21,
   "metadata": {
    "scrolled": false
   },
   "outputs": [
    {
     "name": "stdout",
     "output_type": "stream",
     "text": [
      "                   Outcome\n",
      "Predictor           No stage progression With stage progression Total\n",
      "  Low PD-L1 (0%-5%)                   58                      2    60\n",
      "  High PD-L1 (>5%)                    39                      6    45\n",
      "  Total                               97                      8   105\n",
      "\n",
      "\tz-pooled\n",
      "\n",
      "data:  58 out of 60 vs. 39 out of 45\n",
      "test statistic = 1.9114, first sample size = 60, second sample size =\n",
      "45, p-value = 0.06227\n",
      "alternative hypothesis: true difference in proportion is not equal to 0\n",
      "sample estimates:\n",
      "difference in proportion \n",
      "                     0.1 \n",
      "\n",
      "                   risk ratio with 95% C.I.\n",
      "Predictor           estimate lower upper\n",
      "  Low PD-L1 (0%-5%)        1    NA    NA\n",
      "  High PD-L1 (>5%)         4  0.85  18.9\n"
     ]
    }
   ],
   "source": [
    "OUTCOME %>% RR(pdl1_lymph_pos_5, progression_stage_any)"
   ]
  },
  {
   "cell_type": "markdown",
   "metadata": {},
   "source": [
    "### Grade progression at next biopsy\n",
    "#### PD-L1 positivity > 1%"
   ]
  },
  {
   "cell_type": "code",
   "execution_count": 22,
   "metadata": {
    "scrolled": false
   },
   "outputs": [
    {
     "name": "stdout",
     "output_type": "stream",
     "text": [
      "                   Outcome\n",
      "Predictor           No grade progression With grade progression Total\n",
      "  Low PD-L1 (0%-1%)                   40                      2    42\n",
      "  High PD-L1 (>1%)                    50                      2    52\n",
      "  Total                               90                      4    94\n",
      "\n",
      "\tz-pooled\n",
      "\n",
      "data:  40 out of 42 vs. 50 out of 52\n",
      "test statistic = -0.21868, first sample size = 42, second sample size =\n",
      "52, p-value = 0.8543\n",
      "alternative hypothesis: true difference in proportion is not equal to 0\n",
      "sample estimates:\n",
      "difference in proportion \n",
      "            -0.009157509 \n",
      "\n",
      "                   risk ratio with 95% C.I.\n",
      "Predictor           estimate lower upper\n",
      "  Low PD-L1 (0%-1%)     1.00    NA    NA\n",
      "  High PD-L1 (>1%)      0.81  0.12  5.49\n"
     ]
    }
   ],
   "source": [
    "OUTCOME %>% RR(pdl1_lymph_pos_1, progression_grade_next)"
   ]
  },
  {
   "cell_type": "markdown",
   "metadata": {},
   "source": [
    "#### PD-L1 positivity > 5%"
   ]
  },
  {
   "cell_type": "code",
   "execution_count": 23,
   "metadata": {
    "scrolled": false
   },
   "outputs": [
    {
     "name": "stdout",
     "output_type": "stream",
     "text": [
      "                   Outcome\n",
      "Predictor           No grade progression With grade progression Total\n",
      "  Low PD-L1 (0%-5%)                   50                      3    53\n",
      "  High PD-L1 (>5%)                    40                      1    41\n",
      "  Total                               90                      4    94\n",
      "\n",
      "\tz-pooled\n",
      "\n",
      "data:  50 out of 53 vs. 40 out of 41\n",
      "test statistic = -0.76733, first sample size = 53, second sample size =\n",
      "41, p-value = 0.5909\n",
      "alternative hypothesis: true difference in proportion is not equal to 0\n",
      "sample estimates:\n",
      "difference in proportion \n",
      "             -0.03221353 \n",
      "\n",
      "                   risk ratio with 95% C.I.\n",
      "Predictor           estimate lower upper\n",
      "  Low PD-L1 (0%-5%)     1.00    NA    NA\n",
      "  High PD-L1 (>5%)      0.43  0.05  3.99\n"
     ]
    }
   ],
   "source": [
    "OUTCOME %>% RR(pdl1_lymph_pos_5, progression_grade_next)"
   ]
  },
  {
   "cell_type": "markdown",
   "metadata": {},
   "source": [
    "### Grade progression at any biopsy\n",
    "#### PD-L1 positivity > 1%"
   ]
  },
  {
   "cell_type": "code",
   "execution_count": 24,
   "metadata": {
    "scrolled": false
   },
   "outputs": [
    {
     "name": "stdout",
     "output_type": "stream",
     "text": [
      "                   Outcome\n",
      "Predictor           No grade progression With grade progression Total\n",
      "  Low PD-L1 (0%-1%)                   42                      6    48\n",
      "  High PD-L1 (>1%)                    54                      3    57\n",
      "  Total                               96                      9   105\n",
      "\n",
      "\tz-pooled\n",
      "\n",
      "data:  42 out of 48 vs. 54 out of 57\n",
      "test statistic = -1.3196, first sample size = 48, second sample size =\n",
      "57, p-value = 0.1965\n",
      "alternative hypothesis: true difference in proportion is not equal to 0\n",
      "sample estimates:\n",
      "difference in proportion \n",
      "             -0.07236842 \n",
      "\n",
      "                   risk ratio with 95% C.I.\n",
      "Predictor           estimate lower upper\n",
      "  Low PD-L1 (0%-1%)     1.00    NA    NA\n",
      "  High PD-L1 (>1%)      0.42  0.11  1.59\n"
     ]
    }
   ],
   "source": [
    "OUTCOME %>% RR(pdl1_lymph_pos_1, progression_grade_any)"
   ]
  },
  {
   "cell_type": "markdown",
   "metadata": {},
   "source": [
    "#### PD-L1 positivity > 5%"
   ]
  },
  {
   "cell_type": "code",
   "execution_count": 25,
   "metadata": {
    "scrolled": false
   },
   "outputs": [
    {
     "name": "stdout",
     "output_type": "stream",
     "text": [
      "                   Outcome\n",
      "Predictor           No grade progression With grade progression Total\n",
      "  Low PD-L1 (0%-5%)                   53                      7    60\n",
      "  High PD-L1 (>5%)                    43                      2    45\n",
      "  Total                               96                      9   105\n",
      "\n",
      "\tz-pooled\n",
      "\n",
      "data:  53 out of 60 vs. 43 out of 45\n",
      "test statistic = -1.3082, first sample size = 60, second sample size =\n",
      "45, p-value = 0.2202\n",
      "alternative hypothesis: true difference in proportion is not equal to 0\n",
      "sample estimates:\n",
      "difference in proportion \n",
      "             -0.07222222 \n",
      "\n",
      "                   risk ratio with 95% C.I.\n",
      "Predictor           estimate lower upper\n",
      "  Low PD-L1 (0%-5%)     1.00    NA    NA\n",
      "  High PD-L1 (>5%)      0.38  0.08  1.75\n"
     ]
    }
   ],
   "source": [
    "OUTCOME %>% RR(pdl1_lymph_pos_5, progression_grade_any)"
   ]
  },
  {
   "cell_type": "markdown",
   "metadata": {},
   "source": [
    "## FOXP3 expression in intratumoral lymphocytes\n",
    "### Recurrence at next biopsy"
   ]
  },
  {
   "cell_type": "code",
   "execution_count": 26,
   "metadata": {
    "scrolled": false
   },
   "outputs": [
    {
     "name": "stdout",
     "output_type": "stream",
     "text": [
      "                    Outcome\n",
      "Predictor            No tumor recurrence With tumor recurrence Total\n",
      "  Low FOXP3 density                   17                    39    56\n",
      "  High FOXP3 density                  16                    25    41\n",
      "  Total                               33                    64    97\n",
      "\n",
      "\tz-pooled\n",
      "\n",
      "data:  17 out of 56 vs. 16 out of 41\n",
      "test statistic = -0.89003, first sample size = 56, second sample size =\n",
      "41, p-value = 0.391\n",
      "alternative hypothesis: true difference in proportion is not equal to 0\n",
      "sample estimates:\n",
      "difference in proportion \n",
      "             -0.08667247 \n",
      "\n",
      "                    risk ratio with 95% C.I.\n",
      "Predictor            estimate lower upper\n",
      "  Low FOXP3 density      1.00    NA    NA\n",
      "  High FOXP3 density     0.88  0.65  1.18\n"
     ]
    }
   ],
   "source": [
    "OUTCOME %>% RR(foxp3_intratumoral_density, recurrence_next)"
   ]
  },
  {
   "cell_type": "markdown",
   "metadata": {},
   "source": [
    "### Recurrence at any biopsy"
   ]
  },
  {
   "cell_type": "code",
   "execution_count": 27,
   "metadata": {
    "scrolled": false
   },
   "outputs": [
    {
     "name": "stdout",
     "output_type": "stream",
     "text": [
      "                    Outcome\n",
      "Predictor            No tumor recurrence With tumor recurrence Total\n",
      "  Low FOXP3 density                    4                    62    66\n",
      "  High FOXP3 density                   4                    43    47\n",
      "  Total                                8                   105   113\n",
      "\n",
      "\tz-pooled\n",
      "\n",
      "data:  4 out of 66 vs. 4 out of 47\n",
      "test statistic = -0.50049, first sample size = 66, second sample size =\n",
      "47, p-value = 0.6488\n",
      "alternative hypothesis: true difference in proportion is not equal to 0\n",
      "sample estimates:\n",
      "difference in proportion \n",
      "             -0.02450032 \n",
      "\n",
      "                    risk ratio with 95% C.I.\n",
      "Predictor            estimate lower upper\n",
      "  Low FOXP3 density      1.00    NA    NA\n",
      "  High FOXP3 density     0.97  0.88  1.08\n"
     ]
    }
   ],
   "source": [
    "OUTCOME %>% RR(foxp3_intratumoral_density, recurrence_any)"
   ]
  },
  {
   "cell_type": "markdown",
   "metadata": {},
   "source": [
    "### Stage progression at next biopsy"
   ]
  },
  {
   "cell_type": "code",
   "execution_count": 28,
   "metadata": {
    "scrolled": false
   },
   "outputs": [
    {
     "name": "stdout",
     "output_type": "stream",
     "text": [
      "                    Outcome\n",
      "Predictor            No stage progression With stage progression Total\n",
      "  Low FOXP3 density                    52                      4    56\n",
      "  High FOXP3 density                   40                      1    41\n",
      "  Total                                92                      5    97\n",
      "\n",
      "\tz-pooled\n",
      "\n",
      "data:  52 out of 56 vs. 40 out of 41\n",
      "test statistic = -1.035, first sample size = 56, second sample size =\n",
      "41, p-value = 0.3558\n",
      "alternative hypothesis: true difference in proportion is not equal to 0\n",
      "sample estimates:\n",
      "difference in proportion \n",
      "             -0.04703833 \n",
      "\n",
      "                    risk ratio with 95% C.I.\n",
      "Predictor            estimate lower upper\n",
      "  Low FOXP3 density      1.00    NA    NA\n",
      "  High FOXP3 density     0.34  0.04  2.94\n"
     ]
    }
   ],
   "source": [
    "OUTCOME %>% RR(foxp3_intratumoral_density, progression_stage_next)"
   ]
  },
  {
   "cell_type": "markdown",
   "metadata": {},
   "source": [
    "### Stage progression at any biopsy"
   ]
  },
  {
   "cell_type": "code",
   "execution_count": 29,
   "metadata": {
    "scrolled": false
   },
   "outputs": [
    {
     "name": "stdout",
     "output_type": "stream",
     "text": [
      "                    Outcome\n",
      "Predictor            No stage progression With stage progression Total\n",
      "  Low FOXP3 density                    59                      7    66\n",
      "  High FOXP3 density                   40                      7    47\n",
      "  Total                                99                     14   113\n",
      "\n",
      "\tz-pooled\n",
      "\n",
      "data:  59 out of 66 vs. 40 out of 47\n",
      "test statistic = 0.68185, first sample size = 66, second sample size =\n",
      "47, p-value = 0.6073\n",
      "alternative hypothesis: true difference in proportion is not equal to 0\n",
      "sample estimates:\n",
      "difference in proportion \n",
      "              0.04287556 \n",
      "\n",
      "                    risk ratio with 95% C.I.\n",
      "Predictor            estimate lower upper\n",
      "  Low FOXP3 density       1.0    NA    NA\n",
      "  High FOXP3 density      1.4  0.53  3.74\n"
     ]
    }
   ],
   "source": [
    "OUTCOME %>% RR(foxp3_intratumoral_density, progression_stage_any)"
   ]
  },
  {
   "cell_type": "markdown",
   "metadata": {},
   "source": [
    "### Grade progression at next biopsy"
   ]
  },
  {
   "cell_type": "code",
   "execution_count": 30,
   "metadata": {
    "scrolled": false
   },
   "outputs": [
    {
     "name": "stdout",
     "output_type": "stream",
     "text": [
      "                    Outcome\n",
      "Predictor            No grade progression With grade progression Total\n",
      "  Low FOXP3 density                    56                      3    59\n",
      "  High FOXP3 density                   40                      2    42\n",
      "  Total                                96                      5   101\n",
      "\n",
      "\tz-pooled\n",
      "\n",
      "data:  56 out of 59 vs. 40 out of 42\n",
      "test statistic = -0.073719, first sample size = 59, second sample size\n",
      "= 42, p-value = 0.9654\n",
      "alternative hypothesis: true difference in proportion is not equal to 0\n",
      "sample estimates:\n",
      "difference in proportion \n",
      "             -0.00322841 \n",
      "\n",
      "                    risk ratio with 95% C.I.\n",
      "Predictor            estimate lower upper\n",
      "  Low FOXP3 density      1.00    NA    NA\n",
      "  High FOXP3 density     0.94  0.16  5.36\n"
     ]
    }
   ],
   "source": [
    "OUTCOME %>% RR(foxp3_intratumoral_density, progression_grade_next)"
   ]
  },
  {
   "cell_type": "markdown",
   "metadata": {},
   "source": [
    "### Grade progression at any biopsy"
   ]
  },
  {
   "cell_type": "code",
   "execution_count": 31,
   "metadata": {
    "scrolled": false,
    "slideshow": {
     "slide_type": "-"
    }
   },
   "outputs": [
    {
     "name": "stdout",
     "output_type": "stream",
     "text": [
      "                    Outcome\n",
      "Predictor            No grade progression With grade progression Total\n",
      "  Low FOXP3 density                    59                      7    66\n",
      "  High FOXP3 density                   44                      3    47\n",
      "  Total                               103                     10   113\n",
      "\n",
      "\tz-pooled\n",
      "\n",
      "data:  59 out of 66 vs. 44 out of 47\n",
      "test statistic = -0.77906, first sample size = 66, second sample size =\n",
      "47, p-value = 0.5709\n",
      "alternative hypothesis: true difference in proportion is not equal to 0\n",
      "sample estimates:\n",
      "difference in proportion \n",
      "             -0.04223082 \n",
      "\n",
      "                    risk ratio with 95% C.I.\n",
      "Predictor            estimate lower upper\n",
      "  Low FOXP3 density       1.0    NA    NA\n",
      "  High FOXP3 density      0.6  0.16  2.21\n"
     ]
    }
   ],
   "source": [
    "OUTCOME %>% RR(foxp3_intratumoral_density, progression_grade_any)"
   ]
  },
  {
   "cell_type": "markdown",
   "metadata": {},
   "source": [
    "## FOXP3 expression in peritumoral lymphocytes\n",
    "### Recurrence at next biopsy"
   ]
  },
  {
   "cell_type": "code",
   "execution_count": 32,
   "metadata": {
    "scrolled": false
   },
   "outputs": [
    {
     "name": "stdout",
     "output_type": "stream",
     "text": [
      "                    Outcome\n",
      "Predictor            No tumor recurrence With tumor recurrence Total\n",
      "  Low FOXP3 density                   18                    36    54\n",
      "  High FOXP3 density                  22                    33    55\n",
      "  Total                               40                    69   109\n",
      "\n",
      "\tz-pooled\n",
      "\n",
      "data:  18 out of 54 vs. 22 out of 55\n",
      "test statistic = -0.72201, first sample size = 54, second sample size =\n",
      "55, p-value = 0.5312\n",
      "alternative hypothesis: true difference in proportion is not equal to 0\n",
      "sample estimates:\n",
      "difference in proportion \n",
      "             -0.06666667 \n",
      "\n",
      "                    risk ratio with 95% C.I.\n",
      "Predictor            estimate lower upper\n",
      "  Low FOXP3 density       1.0    NA    NA\n",
      "  High FOXP3 density      0.9  0.68   1.2\n"
     ]
    }
   ],
   "source": [
    "OUTCOME %>% RR(foxp3_peritumoral_density, recurrence_next)"
   ]
  },
  {
   "cell_type": "markdown",
   "metadata": {},
   "source": [
    "### Recurrence at any biopsy"
   ]
  },
  {
   "cell_type": "code",
   "execution_count": 33,
   "metadata": {
    "scrolled": false
   },
   "outputs": [
    {
     "name": "stdout",
     "output_type": "stream",
     "text": [
      "                    Outcome\n",
      "Predictor            No tumor recurrence With tumor recurrence Total\n",
      "  Low FOXP3 density                    5                    58    63\n",
      "  High FOXP3 density                   4                    59    63\n",
      "  Total                                9                   117   126\n",
      "\n",
      "\tz-pooled\n",
      "\n",
      "data:  5 out of 63 vs. 4 out of 63\n",
      "test statistic = 0.34592, first sample size = 63, second sample size =\n",
      "63, p-value = 0.8182\n",
      "alternative hypothesis: true difference in proportion is not equal to 0\n",
      "sample estimates:\n",
      "difference in proportion \n",
      "              0.01587302 \n",
      "\n",
      "                    risk ratio with 95% C.I.\n",
      "Predictor            estimate lower upper\n",
      "  Low FOXP3 density      1.00    NA    NA\n",
      "  High FOXP3 density     1.02  0.92  1.12\n"
     ]
    }
   ],
   "source": [
    "OUTCOME %>% RR(foxp3_peritumoral_density, recurrence_any)"
   ]
  },
  {
   "cell_type": "markdown",
   "metadata": {},
   "source": [
    "### Stage progression at next biopsy"
   ]
  },
  {
   "cell_type": "code",
   "execution_count": 34,
   "metadata": {
    "scrolled": false
   },
   "outputs": [
    {
     "name": "stdout",
     "output_type": "stream",
     "text": [
      "                    Outcome\n",
      "Predictor            No stage progression With stage progression Total\n",
      "  Low FOXP3 density                    49                      5    54\n",
      "  High FOXP3 density                   53                      2    55\n",
      "  Total                               102                      7   109\n",
      "\n",
      "\tz-pooled\n",
      "\n",
      "data:  49 out of 54 vs. 53 out of 55\n",
      "test statistic = -1.1973, first sample size = 54, second sample size =\n",
      "55, p-value = 0.2513\n",
      "alternative hypothesis: true difference in proportion is not equal to 0\n",
      "sample estimates:\n",
      "difference in proportion \n",
      "             -0.05622896 \n",
      "\n",
      "                    risk ratio with 95% C.I.\n",
      "Predictor            estimate lower upper\n",
      "  Low FOXP3 density      1.00    NA    NA\n",
      "  High FOXP3 density     0.39  0.08  1.94\n"
     ]
    }
   ],
   "source": [
    "OUTCOME %>% RR(foxp3_peritumoral_density, progression_stage_next)"
   ]
  },
  {
   "cell_type": "markdown",
   "metadata": {},
   "source": [
    "### Stage progression at any biopsy"
   ]
  },
  {
   "cell_type": "code",
   "execution_count": 35,
   "metadata": {
    "scrolled": false
   },
   "outputs": [
    {
     "name": "stdout",
     "output_type": "stream",
     "text": [
      "                    Outcome\n",
      "Predictor            No stage progression With stage progression Total\n",
      "  Low FOXP3 density                    53                     10    63\n",
      "  High FOXP3 density                   56                      7    63\n",
      "  Total                               109                     17   126\n",
      "\n",
      "\tz-pooled\n",
      "\n",
      "data:  53 out of 63 vs. 56 out of 63\n",
      "test statistic = -0.78229, first sample size = 63, second sample size =\n",
      "63, p-value = 0.5314\n",
      "alternative hypothesis: true difference in proportion is not equal to 0\n",
      "sample estimates:\n",
      "difference in proportion \n",
      "             -0.04761905 \n",
      "\n",
      "                    risk ratio with 95% C.I.\n",
      "Predictor            estimate lower upper\n",
      "  Low FOXP3 density       1.0    NA    NA\n",
      "  High FOXP3 density      0.7  0.28  1.72\n"
     ]
    }
   ],
   "source": [
    "OUTCOME %>% RR(foxp3_peritumoral_density, progression_stage_any)"
   ]
  },
  {
   "cell_type": "markdown",
   "metadata": {},
   "source": [
    "### Grade progression at next biopsy"
   ]
  },
  {
   "cell_type": "code",
   "execution_count": 36,
   "metadata": {
    "scrolled": false
   },
   "outputs": [
    {
     "name": "stdout",
     "output_type": "stream",
     "text": [
      "                    Outcome\n",
      "Predictor            No grade progression With grade progression Total\n",
      "  Low FOXP3 density                    52                      5    57\n",
      "  High FOXP3 density                   55                      1    56\n",
      "  Total                               107                      6   113\n",
      "\n",
      "\tz-pooled\n",
      "\n",
      "data:  52 out of 57 vs. 55 out of 56\n",
      "test statistic = -1.6559, first sample size = 57, second sample size =\n",
      "56, p-value = 0.121\n",
      "alternative hypothesis: true difference in proportion is not equal to 0\n",
      "sample estimates:\n",
      "difference in proportion \n",
      "             -0.06986216 \n",
      "\n",
      "                    risk ratio with 95% C.I.\n",
      "Predictor            estimate lower upper\n",
      "  Low FOXP3 density       1.0    NA    NA\n",
      "  High FOXP3 density      0.2  0.02  1.69\n"
     ]
    }
   ],
   "source": [
    "OUTCOME %>% RR(foxp3_peritumoral_density, progression_grade_next)"
   ]
  },
  {
   "cell_type": "markdown",
   "metadata": {},
   "source": [
    "### Grade progression at any biopsy"
   ]
  },
  {
   "cell_type": "code",
   "execution_count": 37,
   "metadata": {
    "scrolled": false
   },
   "outputs": [
    {
     "name": "stdout",
     "output_type": "stream",
     "text": [
      "                    Outcome\n",
      "Predictor            No grade progression With grade progression Total\n",
      "  Low FOXP3 density                    53                     10    63\n",
      "  High FOXP3 density                   61                      2    63\n",
      "  Total                               114                     12   126\n",
      "\n",
      "\tz-pooled\n",
      "\n",
      "data:  53 out of 63 vs. 61 out of 63\n",
      "test statistic = -2.4279, first sample size = 63, second sample size =\n",
      "63, p-value = 0.0159\n",
      "alternative hypothesis: true difference in proportion is not equal to 0\n",
      "sample estimates:\n",
      "difference in proportion \n",
      "              -0.1269841 \n",
      "\n",
      "                    risk ratio with 95% C.I.\n",
      "Predictor            estimate lower upper\n",
      "  Low FOXP3 density       1.0    NA    NA\n",
      "  High FOXP3 density      0.2  0.05  0.88\n"
     ]
    }
   ],
   "source": [
    "OUTCOME %>% RR(foxp3_peritumoral_density, progression_grade_any)"
   ]
  },
  {
   "cell_type": "markdown",
   "metadata": {},
   "source": [
    "## CD8 expression in intratumoral lymphocytes\n",
    "### Recurrence at next biopsy"
   ]
  },
  {
   "cell_type": "code",
   "execution_count": 38,
   "metadata": {
    "scrolled": false
   },
   "outputs": [
    {
     "name": "stdout",
     "output_type": "stream",
     "text": [
      "                  Outcome\n",
      "Predictor          No tumor recurrence With tumor recurrence Total\n",
      "  Low CD8 density                   18                    29    47\n",
      "  High CD8 density                  15                    33    48\n",
      "  Total                             33                    62    95\n",
      "\n",
      "\tz-pooled\n",
      "\n",
      "data:  18 out of 47 vs. 15 out of 48\n",
      "test statistic = 0.72133, first sample size = 47, second sample size =\n",
      "48, p-value = 0.5309\n",
      "alternative hypothesis: true difference in proportion is not equal to 0\n",
      "sample estimates:\n",
      "difference in proportion \n",
      "              0.07047872 \n",
      "\n",
      "                  risk ratio with 95% C.I.\n",
      "Predictor          estimate lower upper\n",
      "  Low CD8 density      1.00    NA    NA\n",
      "  High CD8 density     1.11  0.83   1.5\n"
     ]
    }
   ],
   "source": [
    "OUTCOME %>% RR(cd8_intratumoral_density, recurrence_next)"
   ]
  },
  {
   "cell_type": "markdown",
   "metadata": {},
   "source": [
    "### Recurrence at any biopsy"
   ]
  },
  {
   "cell_type": "code",
   "execution_count": 39,
   "metadata": {
    "scrolled": false
   },
   "outputs": [
    {
     "name": "stdout",
     "output_type": "stream",
     "text": [
      "                  Outcome\n",
      "Predictor          No tumor recurrence With tumor recurrence Total\n",
      "  Low CD8 density                    6                    49    55\n",
      "  High CD8 density                   2                    53    55\n",
      "  Total                              8                   102   110\n",
      "\n",
      "\tz-pooled\n",
      "\n",
      "data:  6 out of 55 vs. 2 out of 55\n",
      "test statistic = 1.4686, first sample size = 55, second sample size =\n",
      "55, p-value = 0.163\n",
      "alternative hypothesis: true difference in proportion is not equal to 0\n",
      "sample estimates:\n",
      "difference in proportion \n",
      "              0.07272727 \n",
      "\n",
      "                  risk ratio with 95% C.I.\n",
      "Predictor          estimate lower upper\n",
      "  Low CD8 density      1.00    NA    NA\n",
      "  High CD8 density     1.08  0.97   1.2\n"
     ]
    }
   ],
   "source": [
    "OUTCOME %>% RR(cd8_intratumoral_density, recurrence_any)"
   ]
  },
  {
   "cell_type": "markdown",
   "metadata": {},
   "source": [
    "### Stage progression at next biopsy"
   ]
  },
  {
   "cell_type": "code",
   "execution_count": 40,
   "metadata": {
    "scrolled": false
   },
   "outputs": [
    {
     "name": "stdout",
     "output_type": "stream",
     "text": [
      "                  Outcome\n",
      "Predictor          No stage progression With stage progression Total\n",
      "  Low CD8 density                    43                      3    46\n",
      "  High CD8 density                   47                      2    49\n",
      "  Total                              90                      5    95\n",
      "\n",
      "\tz-pooled\n",
      "\n",
      "data:  43 out of 46 vs. 47 out of 49\n",
      "test statistic = -0.53228, first sample size = 46, second sample size =\n",
      "49, p-value = 0.621\n",
      "alternative hypothesis: true difference in proportion is not equal to 0\n",
      "sample estimates:\n",
      "difference in proportion \n",
      "             -0.02440106 \n",
      "\n",
      "                  risk ratio with 95% C.I.\n",
      "Predictor          estimate lower upper\n",
      "  Low CD8 density      1.00    NA    NA\n",
      "  High CD8 density     0.63  0.11  3.58\n"
     ]
    }
   ],
   "source": [
    "OUTCOME %>% RR(cd8_intratumoral_density, progression_stage_next)"
   ]
  },
  {
   "cell_type": "markdown",
   "metadata": {},
   "source": [
    "### Stage progression at any biopsy"
   ]
  },
  {
   "cell_type": "code",
   "execution_count": 41,
   "metadata": {
    "scrolled": false
   },
   "outputs": [
    {
     "name": "stdout",
     "output_type": "stream",
     "text": [
      "                  Outcome\n",
      "Predictor          No stage progression With stage progression Total\n",
      "  Low CD8 density                    47                      8    55\n",
      "  High CD8 density                   49                      6    55\n",
      "  Total                              96                     14   110\n",
      "\n",
      "\tz-pooled\n",
      "\n",
      "data:  47 out of 55 vs. 49 out of 55\n",
      "test statistic = -0.57217, first sample size = 55, second sample size =\n",
      "55, p-value = 0.6814\n",
      "alternative hypothesis: true difference in proportion is not equal to 0\n",
      "sample estimates:\n",
      "difference in proportion \n",
      "             -0.03636364 \n",
      "\n",
      "                  risk ratio with 95% C.I.\n",
      "Predictor          estimate lower upper\n",
      "  Low CD8 density      1.00    NA    NA\n",
      "  High CD8 density     0.75  0.28  2.02\n"
     ]
    }
   ],
   "source": [
    "OUTCOME %>% RR(cd8_intratumoral_density, progression_stage_any)"
   ]
  },
  {
   "cell_type": "markdown",
   "metadata": {},
   "source": [
    "### Grade progression at next biopsy"
   ]
  },
  {
   "cell_type": "code",
   "execution_count": 42,
   "metadata": {
    "scrolled": false
   },
   "outputs": [
    {
     "name": "stdout",
     "output_type": "stream",
     "text": [
      "                  Outcome\n",
      "Predictor          No grade progression With grade progression Total\n",
      "  Low CD8 density                    50                      0    50\n",
      "  High CD8 density                   45                      4    49\n",
      "  Total                              95                      4    99\n",
      "\n",
      "\tz-pooled\n",
      "\n",
      "data:  50 out of 50 vs. 45 out of 49\n",
      "test statistic = 2.0624, first sample size = 50, second sample size =\n",
      "49, p-value = 0.04388\n",
      "alternative hypothesis: true difference in proportion is not equal to 0\n",
      "sample estimates:\n",
      "difference in proportion \n",
      "              0.08163265 \n",
      "\n",
      "                  risk ratio with 95% C.I.\n",
      "Predictor          estimate lower upper\n",
      "  Low CD8 density         1    NA    NA\n",
      "  High CD8 density      Inf   NaN   Inf\n"
     ]
    }
   ],
   "source": [
    "OUTCOME %>% RR(cd8_intratumoral_density, progression_grade_next)"
   ]
  },
  {
   "cell_type": "markdown",
   "metadata": {},
   "source": [
    "### Grade progression at any biopsy"
   ]
  },
  {
   "cell_type": "code",
   "execution_count": 43,
   "metadata": {
    "scrolled": false
   },
   "outputs": [
    {
     "name": "stdout",
     "output_type": "stream",
     "text": [
      "                  Outcome\n",
      "Predictor          No grade progression With grade progression Total\n",
      "  Low CD8 density                    52                      3    55\n",
      "  High CD8 density                   48                      7    55\n",
      "  Total                             100                     10   110\n",
      "\n",
      "\tz-pooled\n",
      "\n",
      "data:  52 out of 55 vs. 48 out of 55\n",
      "test statistic = 1.3266, first sample size = 55, second sample size =\n",
      "55, p-value = 0.2422\n",
      "alternative hypothesis: true difference in proportion is not equal to 0\n",
      "sample estimates:\n",
      "difference in proportion \n",
      "              0.07272727 \n",
      "\n",
      "                  risk ratio with 95% C.I.\n",
      "Predictor          estimate lower upper\n",
      "  Low CD8 density      1.00    NA    NA\n",
      "  High CD8 density     2.33  0.64  8.56\n"
     ]
    }
   ],
   "source": [
    "OUTCOME %>% RR(cd8_intratumoral_density, progression_grade_any)"
   ]
  },
  {
   "cell_type": "markdown",
   "metadata": {},
   "source": [
    "## CD8/Ki67 expression in intratumoral lymphocytes\n",
    "### Recurrence at next biopsy"
   ]
  },
  {
   "cell_type": "code",
   "execution_count": 44,
   "metadata": {
    "scrolled": false
   },
   "outputs": [
    {
     "name": "stdout",
     "output_type": "stream",
     "text": [
      "                  Outcome\n",
      "Predictor          No tumor recurrence With tumor recurrence Total\n",
      "  Low CD8 density                   21                    44    65\n",
      "  High CD8 density                  12                    18    30\n",
      "  Total                             33                    62    95\n",
      "\n",
      "\tz-pooled\n",
      "\n",
      "data:  21 out of 65 vs. 12 out of 30\n",
      "test statistic = -0.73195, first sample size = 65, second sample size =\n",
      "30, p-value = 0.4982\n",
      "alternative hypothesis: true difference in proportion is not equal to 0\n",
      "sample estimates:\n",
      "difference in proportion \n",
      "             -0.07692308 \n",
      "\n",
      "                  risk ratio with 95% C.I.\n",
      "Predictor          estimate lower upper\n",
      "  Low CD8 density      1.00    NA    NA\n",
      "  High CD8 density     0.89  0.63  1.24\n"
     ]
    }
   ],
   "source": [
    "OUTCOME %>% RR(cd8ki67_intratumoral_density, recurrence_next)"
   ]
  },
  {
   "cell_type": "markdown",
   "metadata": {},
   "source": [
    "### Recurrence at any biopsy"
   ]
  },
  {
   "cell_type": "code",
   "execution_count": 45,
   "metadata": {
    "scrolled": false
   },
   "outputs": [
    {
     "name": "stdout",
     "output_type": "stream",
     "text": [
      "                  Outcome\n",
      "Predictor          No tumor recurrence With tumor recurrence Total\n",
      "  Low CD8 density                    4                    73    77\n",
      "  High CD8 density                   4                    29    33\n",
      "  Total                              8                   102   110\n",
      "\n",
      "\tz-pooled\n",
      "\n",
      "data:  4 out of 77 vs. 4 out of 33\n",
      "test statistic = -1.2819, first sample size = 77, second sample size =\n",
      "33, p-value = 0.2391\n",
      "alternative hypothesis: true difference in proportion is not equal to 0\n",
      "sample estimates:\n",
      "difference in proportion \n",
      "             -0.06926407 \n",
      "\n",
      "                  risk ratio with 95% C.I.\n",
      "Predictor          estimate lower upper\n",
      "  Low CD8 density      1.00    NA    NA\n",
      "  High CD8 density     0.93  0.81  1.06\n"
     ]
    }
   ],
   "source": [
    "OUTCOME %>% RR(cd8ki67_intratumoral_density, recurrence_any)"
   ]
  },
  {
   "cell_type": "markdown",
   "metadata": {},
   "source": [
    "### Stage progression at next biopsy"
   ]
  },
  {
   "cell_type": "code",
   "execution_count": 46,
   "metadata": {
    "scrolled": false
   },
   "outputs": [
    {
     "name": "stdout",
     "output_type": "stream",
     "text": [
      "                  Outcome\n",
      "Predictor          No stage progression With stage progression Total\n",
      "  Low CD8 density                    60                      4    64\n",
      "  High CD8 density                   30                      1    31\n",
      "  Total                              90                      5    95\n",
      "\n",
      "\tz-pooled\n",
      "\n",
      "data:  60 out of 64 vs. 30 out of 31\n",
      "test statistic = -0.61892, first sample size = 64, second sample size =\n",
      "31, p-value = 0.6144\n",
      "alternative hypothesis: true difference in proportion is not equal to 0\n",
      "sample estimates:\n",
      "difference in proportion \n",
      "             -0.03024194 \n",
      "\n",
      "                  risk ratio with 95% C.I.\n",
      "Predictor          estimate lower upper\n",
      "  Low CD8 density      1.00    NA    NA\n",
      "  High CD8 density     0.52  0.06  4.43\n"
     ]
    }
   ],
   "source": [
    "OUTCOME %>% RR(cd8ki67_intratumoral_density, progression_stage_next)"
   ]
  },
  {
   "cell_type": "markdown",
   "metadata": {},
   "source": [
    "### Stage progression at any biopsy"
   ]
  },
  {
   "cell_type": "code",
   "execution_count": 77,
   "metadata": {
    "scrolled": false
   },
   "outputs": [
    {
     "name": "stdout",
     "output_type": "stream",
     "text": [
      "                  Outcome\n",
      "Predictor          No stage progression With stage progression Total\n",
      "  Low CD8 density                    66                     11    77\n",
      "  High CD8 density                   30                      3    33\n",
      "  Total                              96                     14   110\n",
      "\n",
      "\tz-pooled\n",
      "\n",
      "data:  66 out of 77 vs. 30 out of 33\n",
      "test statistic = -0.74915, first sample size = 77, second sample size =\n",
      "33, p-value = 0.4783\n",
      "alternative hypothesis: true difference in proportion is not equal to 0\n",
      "sample estimates:\n",
      "difference in proportion \n",
      "             -0.05194805 \n",
      "\n",
      "                  risk ratio with 95% C.I.\n",
      "Predictor          estimate lower upper\n",
      "  Low CD8 density      1.00    NA    NA\n",
      "  High CD8 density     0.64  0.19  2.13\n"
     ]
    }
   ],
   "source": [
    "OUTCOME %>% RR(cd8ki67_intratumoral_density, progression_stage_any)"
   ]
  },
  {
   "cell_type": "markdown",
   "metadata": {},
   "source": [
    "### Grade progression at next biopsy"
   ]
  },
  {
   "cell_type": "code",
   "execution_count": 48,
   "metadata": {
    "scrolled": false
   },
   "outputs": [
    {
     "name": "stdout",
     "output_type": "stream",
     "text": [
      "                  Outcome\n",
      "Predictor          No grade progression With grade progression Total\n",
      "  Low CD8 density                    65                      4    69\n",
      "  High CD8 density                   30                      0    30\n",
      "  Total                              95                      4    99\n",
      "\n",
      "\tz-pooled\n",
      "\n",
      "data:  65 out of 69 vs. 30 out of 30\n",
      "test statistic = -1.3462, first sample size = 69, second sample size =\n",
      "30, p-value = 0.2267\n",
      "alternative hypothesis: true difference in proportion is not equal to 0\n",
      "sample estimates:\n",
      "difference in proportion \n",
      "             -0.05797101 \n",
      "\n",
      "                  risk ratio with 95% C.I.\n",
      "Predictor          estimate lower upper\n",
      "  Low CD8 density         1    NA    NA\n",
      "  High CD8 density        0     0   NaN\n"
     ]
    }
   ],
   "source": [
    "OUTCOME %>% RR(cd8ki67_intratumoral_density, progression_grade_next)"
   ]
  },
  {
   "cell_type": "markdown",
   "metadata": {},
   "source": [
    "### Grade progression at any biopsy"
   ]
  },
  {
   "cell_type": "code",
   "execution_count": 49,
   "metadata": {
    "scrolled": false
   },
   "outputs": [
    {
     "name": "stdout",
     "output_type": "stream",
     "text": [
      "                  Outcome\n",
      "Predictor          No grade progression With grade progression Total\n",
      "  Low CD8 density                    68                      9    77\n",
      "  High CD8 density                   32                      1    33\n",
      "  Total                             100                     10   110\n",
      "\n",
      "\tz-pooled\n",
      "\n",
      "data:  68 out of 77 vs. 32 out of 33\n",
      "test statistic = -1.4475, first sample size = 77, second sample size =\n",
      "33, p-value = 0.1715\n",
      "alternative hypothesis: true difference in proportion is not equal to 0\n",
      "sample estimates:\n",
      "difference in proportion \n",
      "             -0.08658009 \n",
      "\n",
      "                  risk ratio with 95% C.I.\n",
      "Predictor          estimate lower upper\n",
      "  Low CD8 density      1.00    NA    NA\n",
      "  High CD8 density     0.26  0.03  1.96\n"
     ]
    }
   ],
   "source": [
    "OUTCOME %>% RR(cd8ki67_intratumoral_density, progression_grade_any)"
   ]
  },
  {
   "cell_type": "markdown",
   "metadata": {},
   "source": [
    "## CD8 expression in peritumoral lymphocytes\n",
    "### Recurrence at next biopsy"
   ]
  },
  {
   "cell_type": "code",
   "execution_count": 50,
   "metadata": {
    "scrolled": false
   },
   "outputs": [
    {
     "name": "stdout",
     "output_type": "stream",
     "text": [
      "                  Outcome\n",
      "Predictor          No tumor recurrence With tumor recurrence Total\n",
      "  Low CD8 density                   20                    35    55\n",
      "  High CD8 density                  19                    33    52\n",
      "  Total                             39                    68   107\n",
      "\n",
      "\tz-pooled\n",
      "\n",
      "data:  20 out of 55 vs. 19 out of 52\n",
      "test statistic = -0.01878, first sample size = 55, second sample size =\n",
      "52, p-value = 1\n",
      "alternative hypothesis: true difference in proportion is not equal to 0\n",
      "sample estimates:\n",
      "difference in proportion \n",
      "            -0.001748252 \n",
      "\n",
      "                  risk ratio with 95% C.I.\n",
      "Predictor          estimate lower upper\n",
      "  Low CD8 density         1    NA    NA\n",
      "  High CD8 density        1  0.75  1.33\n"
     ]
    }
   ],
   "source": [
    "OUTCOME %>% RR(cd8_peritumoral_density, recurrence_next)"
   ]
  },
  {
   "cell_type": "markdown",
   "metadata": {},
   "source": [
    "### Recurrence at any biopsy"
   ]
  },
  {
   "cell_type": "code",
   "execution_count": 51,
   "metadata": {
    "scrolled": false
   },
   "outputs": [
    {
     "name": "stdout",
     "output_type": "stream",
     "text": [
      "                  Outcome\n",
      "Predictor          No tumor recurrence With tumor recurrence Total\n",
      "  Low CD8 density                    4                    58    62\n",
      "  High CD8 density                   5                    57    62\n",
      "  Total                              9                   115   124\n",
      "\n",
      "\tz-pooled\n",
      "\n",
      "data:  4 out of 62 vs. 5 out of 62\n",
      "test statistic = -0.34613, first sample size = 62, second sample size =\n",
      "62, p-value = 0.8181\n",
      "alternative hypothesis: true difference in proportion is not equal to 0\n",
      "sample estimates:\n",
      "difference in proportion \n",
      "             -0.01612903 \n",
      "\n",
      "                  risk ratio with 95% C.I.\n",
      "Predictor          estimate lower upper\n",
      "  Low CD8 density      1.00    NA    NA\n",
      "  High CD8 density     0.98  0.89  1.08\n"
     ]
    }
   ],
   "source": [
    "OUTCOME %>% RR(cd8_peritumoral_density, recurrence_any)"
   ]
  },
  {
   "cell_type": "markdown",
   "metadata": {},
   "source": [
    "### Stage progression at next biopsy"
   ]
  },
  {
   "cell_type": "code",
   "execution_count": 52,
   "metadata": {
    "scrolled": false
   },
   "outputs": [
    {
     "name": "stdout",
     "output_type": "stream",
     "text": [
      "                  Outcome\n",
      "Predictor          No stage progression With stage progression Total\n",
      "  Low CD8 density                    50                      5    55\n",
      "  High CD8 density                   50                      2    52\n",
      "  Total                             100                      7   107\n",
      "\n",
      "\tz-pooled\n",
      "\n",
      "data:  50 out of 55 vs. 50 out of 52\n",
      "test statistic = -1.0966, first sample size = 55, second sample size =\n",
      "52, p-value = 0.297\n",
      "alternative hypothesis: true difference in proportion is not equal to 0\n",
      "sample estimates:\n",
      "difference in proportion \n",
      "             -0.05244755 \n",
      "\n",
      "                  risk ratio with 95% C.I.\n",
      "Predictor          estimate lower upper\n",
      "  Low CD8 density      1.00    NA    NA\n",
      "  High CD8 density     0.42  0.09  2.09\n"
     ]
    }
   ],
   "source": [
    "OUTCOME %>% RR(cd8_peritumoral_density, progression_stage_next)"
   ]
  },
  {
   "cell_type": "markdown",
   "metadata": {},
   "source": [
    "### Stage progression at any biopsy"
   ]
  },
  {
   "cell_type": "code",
   "execution_count": 53,
   "metadata": {
    "scrolled": false
   },
   "outputs": [
    {
     "name": "stdout",
     "output_type": "stream",
     "text": [
      "                  Outcome\n",
      "Predictor          No stage progression With stage progression Total\n",
      "  Low CD8 density                    53                      9    62\n",
      "  High CD8 density                   54                      8    62\n",
      "  Total                             107                     17   124\n",
      "\n",
      "\tz-pooled\n",
      "\n",
      "data:  53 out of 62 vs. 54 out of 62\n",
      "test statistic = -0.26109, first sample size = 62, second sample size =\n",
      "62, p-value = 0.8708\n",
      "alternative hypothesis: true difference in proportion is not equal to 0\n",
      "sample estimates:\n",
      "difference in proportion \n",
      "             -0.01612903 \n",
      "\n",
      "                  risk ratio with 95% C.I.\n",
      "Predictor          estimate lower upper\n",
      "  Low CD8 density      1.00    NA    NA\n",
      "  High CD8 density     0.89  0.37  2.15\n"
     ]
    }
   ],
   "source": [
    "OUTCOME %>% RR(cd8_peritumoral_density, progression_stage_any)"
   ]
  },
  {
   "cell_type": "markdown",
   "metadata": {},
   "source": [
    "### Grade progression at next biopsy"
   ]
  },
  {
   "cell_type": "code",
   "execution_count": 54,
   "metadata": {
    "scrolled": false
   },
   "outputs": [
    {
     "name": "stdout",
     "output_type": "stream",
     "text": [
      "                  Outcome\n",
      "Predictor          No grade progression With grade progression Total\n",
      "  Low CD8 density                    53                      4    57\n",
      "  High CD8 density                   52                      2    54\n",
      "  Total                             105                      6   111\n",
      "\n",
      "\tz-pooled\n",
      "\n",
      "data:  53 out of 57 vs. 52 out of 54\n",
      "test statistic = -0.77172, first sample size = 57, second sample size =\n",
      "54, p-value = 0.5315\n",
      "alternative hypothesis: true difference in proportion is not equal to 0\n",
      "sample estimates:\n",
      "difference in proportion \n",
      "              -0.0331384 \n",
      "\n",
      "                  risk ratio with 95% C.I.\n",
      "Predictor          estimate lower upper\n",
      "  Low CD8 density      1.00    NA    NA\n",
      "  High CD8 density     0.53   0.1  2.76\n"
     ]
    }
   ],
   "source": [
    "OUTCOME %>% RR(cd8_peritumoral_density, progression_grade_next)"
   ]
  },
  {
   "cell_type": "markdown",
   "metadata": {},
   "source": [
    "### Grade progression at any biopsy"
   ]
  },
  {
   "cell_type": "code",
   "execution_count": 55,
   "metadata": {
    "scrolled": false
   },
   "outputs": [
    {
     "name": "stdout",
     "output_type": "stream",
     "text": [
      "                  Outcome\n",
      "Predictor          No grade progression With grade progression Total\n",
      "  Low CD8 density                    55                      7    62\n",
      "  High CD8 density                   57                      5    62\n",
      "  Total                             112                     12   124\n",
      "\n",
      "\tz-pooled\n",
      "\n",
      "data:  55 out of 62 vs. 57 out of 62\n",
      "test statistic = -0.60749, first sample size = 62, second sample size =\n",
      "62, p-value = 0.5874\n",
      "alternative hypothesis: true difference in proportion is not equal to 0\n",
      "sample estimates:\n",
      "difference in proportion \n",
      "             -0.03225806 \n",
      "\n",
      "                  risk ratio with 95% C.I.\n",
      "Predictor          estimate lower upper\n",
      "  Low CD8 density      1.00    NA    NA\n",
      "  High CD8 density     0.71  0.24  2.13\n"
     ]
    }
   ],
   "source": [
    "OUTCOME %>% RR(cd8_peritumoral_density, progression_grade_any)"
   ]
  },
  {
   "cell_type": "markdown",
   "metadata": {},
   "source": [
    "## CD8/Ki67 expression in peritumoral lymphocytes\n",
    "### Recurrence at next biopsy"
   ]
  },
  {
   "cell_type": "code",
   "execution_count": 56,
   "metadata": {
    "scrolled": false
   },
   "outputs": [
    {
     "name": "stdout",
     "output_type": "stream",
     "text": [
      "                  Outcome\n",
      "Predictor          No tumor recurrence With tumor recurrence Total\n",
      "  Low CD8 density                   32                    53    85\n",
      "  High CD8 density                   8                    15    23\n",
      "  Total                             40                    68   108\n",
      "\n",
      "\tz-pooled\n",
      "\n",
      "data:  32 out of 85 vs. 8 out of 23\n",
      "test statistic = 0.25237, first sample size = 85, second sample size =\n",
      "23, p-value = 0.8526\n",
      "alternative hypothesis: true difference in proportion is not equal to 0\n",
      "sample estimates:\n",
      "difference in proportion \n",
      "               0.0286445 \n",
      "\n",
      "                  risk ratio with 95% C.I.\n",
      "Predictor          estimate lower upper\n",
      "  Low CD8 density      1.00    NA    NA\n",
      "  High CD8 density     1.05  0.74  1.47\n"
     ]
    }
   ],
   "source": [
    "OUTCOME %>% RR(cd8ki67_peritumoral_density, recurrence_next)"
   ]
  },
  {
   "cell_type": "markdown",
   "metadata": {},
   "source": [
    "### Recurrence at any biopsy"
   ]
  },
  {
   "cell_type": "code",
   "execution_count": 57,
   "metadata": {},
   "outputs": [
    {
     "name": "stdout",
     "output_type": "stream",
     "text": [
      "                  Outcome\n",
      "Predictor          No tumor recurrence With tumor recurrence Total\n",
      "  Low CD8 density                    8                    88    96\n",
      "  High CD8 density                   1                    28    29\n",
      "  Total                              9                   116   125\n",
      "\n",
      "\tz-pooled\n",
      "\n",
      "data:  8 out of 96 vs. 1 out of 29\n",
      "test statistic = 0.89189, first sample size = 96, second sample size =\n",
      "29, p-value = 0.4757\n",
      "alternative hypothesis: true difference in proportion is not equal to 0\n",
      "sample estimates:\n",
      "difference in proportion \n",
      "              0.04885057 \n",
      "\n",
      "                  risk ratio with 95% C.I.\n",
      "Predictor          estimate lower upper\n",
      "  Low CD8 density      1.00    NA    NA\n",
      "  High CD8 density     1.05  0.96  1.15\n"
     ]
    }
   ],
   "source": [
    "OUTCOME %>% RR(cd8ki67_peritumoral_density, recurrence_any)"
   ]
  },
  {
   "cell_type": "markdown",
   "metadata": {},
   "source": [
    "### Stage progression at next biopsy"
   ]
  },
  {
   "cell_type": "code",
   "execution_count": 58,
   "metadata": {},
   "outputs": [
    {
     "name": "stdout",
     "output_type": "stream",
     "text": [
      "                  Outcome\n",
      "Predictor          No stage progression With stage progression Total\n",
      "  Low CD8 density                    78                      6    84\n",
      "  High CD8 density                   23                      1    24\n",
      "  Total                             101                      7   108\n",
      "\n",
      "\tz-pooled\n",
      "\n",
      "data:  78 out of 84 vs. 23 out of 24\n",
      "test statistic = -0.52229, first sample size = 84, second sample size =\n",
      "24, p-value = 0.7358\n",
      "alternative hypothesis: true difference in proportion is not equal to 0\n",
      "sample estimates:\n",
      "difference in proportion \n",
      "              -0.0297619 \n",
      "\n",
      "                  risk ratio with 95% C.I.\n",
      "Predictor          estimate lower upper\n",
      "  Low CD8 density      1.00    NA    NA\n",
      "  High CD8 density     0.58  0.07  4.61\n"
     ]
    }
   ],
   "source": [
    "OUTCOME %>% RR(cd8ki67_peritumoral_density, progression_stage_next)"
   ]
  },
  {
   "cell_type": "markdown",
   "metadata": {},
   "source": [
    "### Stage progression at any biopsy"
   ]
  },
  {
   "cell_type": "code",
   "execution_count": 59,
   "metadata": {},
   "outputs": [
    {
     "name": "stdout",
     "output_type": "stream",
     "text": [
      "                  Outcome\n",
      "Predictor          No stage progression With stage progression Total\n",
      "  Low CD8 density                    81                     15    96\n",
      "  High CD8 density                   27                      2    29\n",
      "  Total                             108                     17   125\n",
      "\n",
      "\tz-pooled\n",
      "\n",
      "data:  81 out of 96 vs. 27 out of 29\n",
      "test statistic = -1.2017, first sample size = 96, second sample size =\n",
      "29, p-value = 0.2625\n",
      "alternative hypothesis: true difference in proportion is not equal to 0\n",
      "sample estimates:\n",
      "difference in proportion \n",
      "             -0.08728448 \n",
      "\n",
      "                  risk ratio with 95% C.I.\n",
      "Predictor          estimate lower upper\n",
      "  Low CD8 density      1.00    NA    NA\n",
      "  High CD8 density     0.44  0.11  1.82\n"
     ]
    }
   ],
   "source": [
    "OUTCOME %>% RR(cd8ki67_peritumoral_density, progression_stage_any)"
   ]
  },
  {
   "cell_type": "markdown",
   "metadata": {},
   "source": [
    "### Grade progression at next biopsy"
   ]
  },
  {
   "cell_type": "code",
   "execution_count": 60,
   "metadata": {},
   "outputs": [
    {
     "name": "stdout",
     "output_type": "stream",
     "text": [
      "                  Outcome\n",
      "Predictor          No grade progression With grade progression Total\n",
      "  Low CD8 density                    83                      5    88\n",
      "  High CD8 density                   23                      1    24\n",
      "  Total                             106                      6   112\n",
      "\n",
      "\tz-pooled\n",
      "\n",
      "data:  83 out of 88 vs. 23 out of 24\n",
      "test statistic = -0.2922, first sample size = 88, second sample size =\n",
      "24, p-value = 0.8359\n",
      "alternative hypothesis: true difference in proportion is not equal to 0\n",
      "sample estimates:\n",
      "difference in proportion \n",
      "             -0.01515152 \n",
      "\n",
      "                  risk ratio with 95% C.I.\n",
      "Predictor          estimate lower upper\n",
      "  Low CD8 density      1.00    NA    NA\n",
      "  High CD8 density     0.73  0.09  5.98\n"
     ]
    }
   ],
   "source": [
    "OUTCOME %>% RR(cd8ki67_peritumoral_density, progression_grade_next)"
   ]
  },
  {
   "cell_type": "markdown",
   "metadata": {},
   "source": [
    "### Grade progression at any biopsy"
   ]
  },
  {
   "cell_type": "code",
   "execution_count": 61,
   "metadata": {},
   "outputs": [
    {
     "name": "stdout",
     "output_type": "stream",
     "text": [
      "                  Outcome\n",
      "Predictor          No grade progression With grade progression Total\n",
      "  Low CD8 density                    87                      9    96\n",
      "  High CD8 density                   26                      3    29\n",
      "  Total                             113                     12   125\n",
      "\n",
      "\tz-pooled\n",
      "\n",
      "data:  87 out of 96 vs. 26 out of 29\n",
      "test statistic = 0.15537, first sample size = 96, second sample size =\n",
      "29, p-value = 0.9099\n",
      "alternative hypothesis: true difference in proportion is not equal to 0\n",
      "sample estimates:\n",
      "difference in proportion \n",
      "             0.009698276 \n",
      "\n",
      "                  risk ratio with 95% C.I.\n",
      "Predictor          estimate lower upper\n",
      "  Low CD8 density       1.0    NA    NA\n",
      "  High CD8 density      1.1  0.32  3.81\n"
     ]
    }
   ],
   "source": [
    "OUTCOME %>% RR(cd8ki67_peritumoral_density, progression_grade_any)"
   ]
  },
  {
   "cell_type": "markdown",
   "metadata": {},
   "source": [
    "## FOXP3/CD8 in intratumoral lymphocytes\n",
    "### Recurrence at next biopsy"
   ]
  },
  {
   "cell_type": "code",
   "execution_count": 62,
   "metadata": {},
   "outputs": [
    {
     "name": "stdout",
     "output_type": "stream",
     "text": [
      "                Outcome\n",
      "Predictor        No tumor recurrence With tumor recurrence Total\n",
      "  FOXP3/CD8 <= 1                  13                    27    40\n",
      "  FOXP3/CD8 > 1                   20                    35    55\n",
      "  Total                           33                    62    95\n",
      "\n",
      "\tz-pooled\n",
      "\n",
      "data:  13 out of 40 vs. 20 out of 55\n",
      "test statistic = -0.3905, first sample size = 40, second sample size =\n",
      "55, p-value = 0.7368\n",
      "alternative hypothesis: true difference in proportion is not equal to 0\n",
      "sample estimates:\n",
      "difference in proportion \n",
      "             -0.03863636 \n",
      "\n",
      "                risk ratio with 95% C.I.\n",
      "Predictor        estimate lower upper\n",
      "  FOXP3/CD8 <= 1     1.00    NA    NA\n",
      "  FOXP3/CD8 > 1      0.94   0.7  1.26\n"
     ]
    }
   ],
   "source": [
    "OUTCOME %>% RR(foxp3cd8_intratumoral, recurrence_next)"
   ]
  },
  {
   "cell_type": "markdown",
   "metadata": {},
   "source": [
    "### Recurrence at any biopsy"
   ]
  },
  {
   "cell_type": "code",
   "execution_count": 63,
   "metadata": {},
   "outputs": [
    {
     "name": "stdout",
     "output_type": "stream",
     "text": [
      "                Outcome\n",
      "Predictor        No tumor recurrence With tumor recurrence Total\n",
      "  FOXP3/CD8 <= 1                   2                    41    43\n",
      "  FOXP3/CD8 > 1                    6                    61    67\n",
      "  Total                            8                   102   110\n",
      "\n",
      "\tz-pooled\n",
      "\n",
      "data:  2 out of 43 vs. 6 out of 67\n",
      "test statistic = -0.84821, first sample size = 43, second sample size =\n",
      "67, p-value = 0.4655\n",
      "alternative hypothesis: true difference in proportion is not equal to 0\n",
      "sample estimates:\n",
      "difference in proportion \n",
      "             -0.04304061 \n",
      "\n",
      "                risk ratio with 95% C.I.\n",
      "Predictor        estimate lower upper\n",
      "  FOXP3/CD8 <= 1     1.00    NA    NA\n",
      "  FOXP3/CD8 > 1      0.95  0.86  1.06\n"
     ]
    }
   ],
   "source": [
    "OUTCOME %>% RR(foxp3cd8_intratumoral, recurrence_any)"
   ]
  },
  {
   "cell_type": "markdown",
   "metadata": {},
   "source": [
    "### Stage progression at next biopsy"
   ]
  },
  {
   "cell_type": "code",
   "execution_count": 64,
   "metadata": {},
   "outputs": [
    {
     "name": "stdout",
     "output_type": "stream",
     "text": [
      "                Outcome\n",
      "Predictor        No stage progression With stage progression Total\n",
      "  FOXP3/CD8 <= 1                   39                      1    40\n",
      "  FOXP3/CD8 > 1                    51                      4    55\n",
      "  Total                            90                      5    95\n",
      "\n",
      "\tz-pooled\n",
      "\n",
      "data:  39 out of 40 vs. 51 out of 55\n",
      "test statistic = 1.0286, first sample size = 40, second sample size =\n",
      "55, p-value = 0.3557\n",
      "alternative hypothesis: true difference in proportion is not equal to 0\n",
      "sample estimates:\n",
      "difference in proportion \n",
      "              0.04772727 \n",
      "\n",
      "                risk ratio with 95% C.I.\n",
      "Predictor        estimate lower upper\n",
      "  FOXP3/CD8 <= 1     1.00    NA    NA\n",
      "  FOXP3/CD8 > 1      2.91  0.34 25.05\n"
     ]
    }
   ],
   "source": [
    "OUTCOME %>% RR(foxp3cd8_intratumoral, progression_stage_next)"
   ]
  },
  {
   "cell_type": "markdown",
   "metadata": {},
   "source": [
    "### Stage progression at any biopsy"
   ]
  },
  {
   "cell_type": "code",
   "execution_count": 65,
   "metadata": {},
   "outputs": [
    {
     "name": "stdout",
     "output_type": "stream",
     "text": [
      "                Outcome\n",
      "Predictor        No stage progression With stage progression Total\n",
      "  FOXP3/CD8 <= 1                   41                      2    43\n",
      "  FOXP3/CD8 > 1                    55                     12    67\n",
      "  Total                            96                     14   110\n",
      "\n",
      "\tz-pooled\n",
      "\n",
      "data:  41 out of 43 vs. 55 out of 67\n",
      "test statistic = 2.0361, first sample size = 43, second sample size =\n",
      "67, p-value = 0.04763\n",
      "alternative hypothesis: true difference in proportion is not equal to 0\n",
      "sample estimates:\n",
      "difference in proportion \n",
      "               0.1325928 \n",
      "\n",
      "                risk ratio with 95% C.I.\n",
      "Predictor        estimate lower upper\n",
      "  FOXP3/CD8 <= 1     1.00    NA    NA\n",
      "  FOXP3/CD8 > 1      3.85  0.91 16.37\n"
     ]
    }
   ],
   "source": [
    "OUTCOME %>% RR(foxp3cd8_intratumoral, progression_stage_any)"
   ]
  },
  {
   "cell_type": "markdown",
   "metadata": {},
   "source": [
    "### Grade progression at next biopsy"
   ]
  },
  {
   "cell_type": "code",
   "execution_count": 66,
   "metadata": {},
   "outputs": [
    {
     "name": "stdout",
     "output_type": "stream",
     "text": [
      "                Outcome\n",
      "Predictor        No grade progression With grade progression Total\n",
      "  FOXP3/CD8 <= 1                   36                      4    40\n",
      "  FOXP3/CD8 > 1                    59                      0    59\n",
      "  Total                            95                      4    99\n",
      "\n",
      "\tz-pooled\n",
      "\n",
      "data:  36 out of 40 vs. 59 out of 59\n",
      "test statistic = -2.4796, first sample size = 40, second sample size =\n",
      "59, p-value = 0.01439\n",
      "alternative hypothesis: true difference in proportion is not equal to 0\n",
      "sample estimates:\n",
      "difference in proportion \n",
      "                    -0.1 \n",
      "\n",
      "                risk ratio with 95% C.I.\n",
      "Predictor        estimate lower upper\n",
      "  FOXP3/CD8 <= 1        1    NA    NA\n",
      "  FOXP3/CD8 > 1         0     0   NaN\n"
     ]
    }
   ],
   "source": [
    "OUTCOME %>% RR(foxp3cd8_intratumoral, progression_grade_next)"
   ]
  },
  {
   "cell_type": "markdown",
   "metadata": {},
   "source": [
    "### Grade progression at any biopsy"
   ]
  },
  {
   "cell_type": "code",
   "execution_count": 67,
   "metadata": {},
   "outputs": [
    {
     "name": "stdout",
     "output_type": "stream",
     "text": [
      "                Outcome\n",
      "Predictor        No grade progression With grade progression Total\n",
      "  FOXP3/CD8 <= 1                   36                      7    43\n",
      "  FOXP3/CD8 > 1                    64                      3    67\n",
      "  Total                           100                     10   110\n",
      "\n",
      "\tz-pooled\n",
      "\n",
      "data:  36 out of 43 vs. 64 out of 67\n",
      "test statistic = -2.1009, first sample size = 43, second sample size =\n",
      "67, p-value = 0.03664\n",
      "alternative hypothesis: true difference in proportion is not equal to 0\n",
      "sample estimates:\n",
      "difference in proportion \n",
      "              -0.1180146 \n",
      "\n",
      "                risk ratio with 95% C.I.\n",
      "Predictor        estimate lower upper\n",
      "  FOXP3/CD8 <= 1     1.00    NA    NA\n",
      "  FOXP3/CD8 > 1      0.28  0.08  1.01\n"
     ]
    }
   ],
   "source": [
    "OUTCOME %>% RR(foxp3cd8_intratumoral, progression_grade_any)"
   ]
  },
  {
   "cell_type": "markdown",
   "metadata": {},
   "source": [
    "## FOXP3/CD8 ratio in peritumoral lymphocytes\n",
    "### Recurrence at next biopsy"
   ]
  },
  {
   "cell_type": "code",
   "execution_count": 68,
   "metadata": {},
   "outputs": [
    {
     "name": "stdout",
     "output_type": "stream",
     "text": [
      "                Outcome\n",
      "Predictor        No tumor recurrence With tumor recurrence Total\n",
      "  FOXP3/CD8 <= 1                  18                    32    50\n",
      "  FOXP3/CD8 > 1                   21                    36    57\n",
      "  Total                           39                    68   107\n",
      "\n",
      "\tz-pooled\n",
      "\n",
      "data:  18 out of 50 vs. 21 out of 57\n",
      "test statistic = -0.090301, first sample size = 50, second sample size\n",
      "= 57, p-value = 0.9927\n",
      "alternative hypothesis: true difference in proportion is not equal to 0\n",
      "sample estimates:\n",
      "difference in proportion \n",
      "            -0.008421053 \n",
      "\n",
      "                risk ratio with 95% C.I.\n",
      "Predictor        estimate lower upper\n",
      "  FOXP3/CD8 <= 1     1.00    NA    NA\n",
      "  FOXP3/CD8 > 1      0.99  0.74  1.32\n"
     ]
    }
   ],
   "source": [
    "OUTCOME %>% RR(foxp3cd8_peritumoral, recurrence_next)"
   ]
  },
  {
   "cell_type": "markdown",
   "metadata": {},
   "source": [
    "### Recurrence at any biopsy"
   ]
  },
  {
   "cell_type": "code",
   "execution_count": 69,
   "metadata": {},
   "outputs": [
    {
     "name": "stdout",
     "output_type": "stream",
     "text": [
      "                Outcome\n",
      "Predictor        No tumor recurrence With tumor recurrence Total\n",
      "  FOXP3/CD8 <= 1                   5                    53    58\n",
      "  FOXP3/CD8 > 1                    4                    62    66\n",
      "  Total                            9                   115   124\n",
      "\n",
      "\tz-pooled\n",
      "\n",
      "data:  5 out of 58 vs. 4 out of 66\n",
      "test statistic = 0.54825, first sample size = 58, second sample size =\n",
      "66, p-value = 0.6338\n",
      "alternative hypothesis: true difference in proportion is not equal to 0\n",
      "sample estimates:\n",
      "difference in proportion \n",
      "              0.02560084 \n",
      "\n",
      "                risk ratio with 95% C.I.\n",
      "Predictor        estimate lower upper\n",
      "  FOXP3/CD8 <= 1     1.00    NA    NA\n",
      "  FOXP3/CD8 > 1      1.03  0.93  1.14\n"
     ]
    }
   ],
   "source": [
    "OUTCOME %>% RR(foxp3cd8_peritumoral, recurrence_any)"
   ]
  },
  {
   "cell_type": "markdown",
   "metadata": {},
   "source": [
    "### Stage progression at next biopsy"
   ]
  },
  {
   "cell_type": "code",
   "execution_count": 70,
   "metadata": {},
   "outputs": [
    {
     "name": "stdout",
     "output_type": "stream",
     "text": [
      "                Outcome\n",
      "Predictor        No stage progression With stage progression Total\n",
      "  FOXP3/CD8 <= 1                   45                      4    49\n",
      "  FOXP3/CD8 > 1                    55                      3    58\n",
      "  Total                           100                      7   107\n",
      "\n",
      "\tz-pooled\n",
      "\n",
      "data:  45 out of 49 vs. 55 out of 58\n",
      "test statistic = -0.62338, first sample size = 49, second sample size =\n",
      "58, p-value = 0.6253\n",
      "alternative hypothesis: true difference in proportion is not equal to 0\n",
      "sample estimates:\n",
      "difference in proportion \n",
      "             -0.02990852 \n",
      "\n",
      "                risk ratio with 95% C.I.\n",
      "Predictor        estimate lower upper\n",
      "  FOXP3/CD8 <= 1     1.00    NA    NA\n",
      "  FOXP3/CD8 > 1      0.63  0.15   2.7\n"
     ]
    }
   ],
   "source": [
    "OUTCOME %>% RR(foxp3cd8_peritumoral, progression_stage_next)"
   ]
  },
  {
   "cell_type": "markdown",
   "metadata": {},
   "source": [
    "### Stage progression at any biopsy"
   ]
  },
  {
   "cell_type": "code",
   "execution_count": 71,
   "metadata": {},
   "outputs": [
    {
     "name": "stdout",
     "output_type": "stream",
     "text": [
      "                Outcome\n",
      "Predictor        No stage progression With stage progression Total\n",
      "  FOXP3/CD8 <= 1                   49                      9    58\n",
      "  FOXP3/CD8 > 1                    58                      8    66\n",
      "  Total                           107                     17   124\n",
      "\n",
      "\tz-pooled\n",
      "\n",
      "data:  49 out of 58 vs. 58 out of 66\n",
      "test statistic = -0.5486, first sample size = 58, second sample size =\n",
      "66, p-value = 0.6274\n",
      "alternative hypothesis: true difference in proportion is not equal to 0\n",
      "sample estimates:\n",
      "difference in proportion \n",
      "             -0.03396029 \n",
      "\n",
      "                risk ratio with 95% C.I.\n",
      "Predictor        estimate lower upper\n",
      "  FOXP3/CD8 <= 1     1.00    NA    NA\n",
      "  FOXP3/CD8 > 1      0.78  0.32  1.89\n"
     ]
    }
   ],
   "source": [
    "OUTCOME %>% RR(foxp3cd8_peritumoral, progression_stage_any)"
   ]
  },
  {
   "cell_type": "markdown",
   "metadata": {},
   "source": [
    "### Grade progression at next biopsy"
   ]
  },
  {
   "cell_type": "code",
   "execution_count": 72,
   "metadata": {},
   "outputs": [
    {
     "name": "stdout",
     "output_type": "stream",
     "text": [
      "                Outcome\n",
      "Predictor        No grade progression With grade progression Total\n",
      "  FOXP3/CD8 <= 1                   48                      4    52\n",
      "  FOXP3/CD8 > 1                    57                      2    59\n",
      "  Total                           105                      6   111\n",
      "\n",
      "\tz-pooled\n",
      "\n",
      "data:  48 out of 52 vs. 57 out of 59\n",
      "test statistic = -1.0003, first sample size = 52, second sample size =\n",
      "59, p-value = 0.365\n",
      "alternative hypothesis: true difference in proportion is not equal to 0\n",
      "sample estimates:\n",
      "difference in proportion \n",
      "             -0.04302477 \n",
      "\n",
      "                risk ratio with 95% C.I.\n",
      "Predictor        estimate lower upper\n",
      "  FOXP3/CD8 <= 1     1.00    NA    NA\n",
      "  FOXP3/CD8 > 1      0.44  0.08  2.31\n"
     ]
    }
   ],
   "source": [
    "OUTCOME %>% RR(foxp3cd8_peritumoral, progression_grade_next)"
   ]
  },
  {
   "cell_type": "markdown",
   "metadata": {},
   "source": [
    "### Grade progression at any biopsy"
   ]
  },
  {
   "cell_type": "code",
   "execution_count": 73,
   "metadata": {},
   "outputs": [
    {
     "name": "stdout",
     "output_type": "stream",
     "text": [
      "                Outcome\n",
      "Predictor        No grade progression With grade progression Total\n",
      "  FOXP3/CD8 <= 1                   50                      8    58\n",
      "  FOXP3/CD8 > 1                    62                      4    66\n",
      "  Total                           112                     12   124\n",
      "\n",
      "\tz-pooled\n",
      "\n",
      "data:  50 out of 58 vs. 62 out of 66\n",
      "test statistic = -1.4532, first sample size = 58, second sample size =\n",
      "66, p-value = 0.1721\n",
      "alternative hypothesis: true difference in proportion is not equal to 0\n",
      "sample estimates:\n",
      "difference in proportion \n",
      "             -0.07732497 \n",
      "\n",
      "                risk ratio with 95% C.I.\n",
      "Predictor        estimate lower upper\n",
      "  FOXP3/CD8 <= 1     1.00    NA    NA\n",
      "  FOXP3/CD8 > 1      0.44  0.14  1.38\n"
     ]
    }
   ],
   "source": [
    "OUTCOME %>% RR(foxp3cd8_peritumoral, progression_grade_any)"
   ]
  }
 ],
 "metadata": {
  "anaconda-cloud": {},
  "kernelspec": {
   "display_name": "R",
   "language": "R",
   "name": "ir"
  },
  "language_info": {
   "codemirror_mode": "r",
   "file_extension": ".r",
   "mimetype": "text/x-r-source",
   "name": "R",
   "pygments_lexer": "r",
   "version": "3.5.3"
  },
  "toc": {
   "base_numbering": 1,
   "nav_menu": {},
   "number_sections": true,
   "sideBar": true,
   "skip_h1_title": true,
   "title_cell": "",
   "title_sidebar": "Contents",
   "toc_cell": false,
   "toc_position": {},
   "toc_section_display": false,
   "toc_window_display": true
  }
 },
 "nbformat": 4,
 "nbformat_minor": 2
}
